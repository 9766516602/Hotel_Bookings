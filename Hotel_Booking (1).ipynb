{
 "cells": [
  {
   "cell_type": "code",
   "execution_count": 1,
   "id": "ba0e763b",
   "metadata": {},
   "outputs": [],
   "source": [
    "import numpy as np\n",
    "import pandas as pd\n",
    "import matplotlib.pyplot as plt\n",
    "import seaborn as sns\n",
    "from numpy import random\n",
    "\n",
    "import warnings\n",
    "warnings.filterwarnings('ignore')"
   ]
  },
  {
   "cell_type": "markdown",
   "id": "b2d0c9ad",
   "metadata": {},
   "source": [
    "# Reading the Data"
   ]
  },
  {
   "cell_type": "code",
   "execution_count": 2,
   "id": "a1a05808",
   "metadata": {},
   "outputs": [],
   "source": [
    "hotel=pd.read_csv(r\"C:\\Users\\piura\\OneDrive\\Desktop\\hotel_bookings.csv (1).zip\")"
   ]
  },
  {
   "cell_type": "code",
   "execution_count": 3,
   "id": "524cb643",
   "metadata": {},
   "outputs": [
    {
     "data": {
      "text/plain": [
       "(119390, 32)"
      ]
     },
     "execution_count": 3,
     "metadata": {},
     "output_type": "execute_result"
    }
   ],
   "source": [
    "hotel.shape   #no of rows and columns"
   ]
  },
  {
   "cell_type": "code",
   "execution_count": 4,
   "id": "c356983e",
   "metadata": {},
   "outputs": [
    {
     "data": {
      "text/plain": [
       "0    75166\n",
       "1    44224\n",
       "Name: is_canceled, dtype: int64"
      ]
     },
     "execution_count": 4,
     "metadata": {},
     "output_type": "execute_result"
    }
   ],
   "source": [
    "hotel.is_canceled.value_counts()  #value counts of target column"
   ]
  },
  {
   "cell_type": "code",
   "execution_count": 5,
   "id": "782dfcfc",
   "metadata": {},
   "outputs": [],
   "source": [
    "#hotel.info()"
   ]
  },
  {
   "cell_type": "code",
   "execution_count": 6,
   "id": "468a56db",
   "metadata": {},
   "outputs": [
    {
     "data": {
      "text/html": [
       "<div>\n",
       "<style scoped>\n",
       "    .dataframe tbody tr th:only-of-type {\n",
       "        vertical-align: middle;\n",
       "    }\n",
       "\n",
       "    .dataframe tbody tr th {\n",
       "        vertical-align: top;\n",
       "    }\n",
       "\n",
       "    .dataframe thead th {\n",
       "        text-align: right;\n",
       "    }\n",
       "</style>\n",
       "<table border=\"1\" class=\"dataframe\">\n",
       "  <thead>\n",
       "    <tr style=\"text-align: right;\">\n",
       "      <th></th>\n",
       "      <th>is_canceled</th>\n",
       "      <th>lead_time</th>\n",
       "      <th>arrival_date_year</th>\n",
       "      <th>arrival_date_week_number</th>\n",
       "      <th>arrival_date_day_of_month</th>\n",
       "      <th>stays_in_weekend_nights</th>\n",
       "      <th>stays_in_week_nights</th>\n",
       "      <th>adults</th>\n",
       "      <th>children</th>\n",
       "      <th>babies</th>\n",
       "      <th>is_repeated_guest</th>\n",
       "      <th>previous_cancellations</th>\n",
       "      <th>previous_bookings_not_canceled</th>\n",
       "      <th>booking_changes</th>\n",
       "      <th>agent</th>\n",
       "      <th>company</th>\n",
       "      <th>days_in_waiting_list</th>\n",
       "      <th>adr</th>\n",
       "      <th>required_car_parking_spaces</th>\n",
       "      <th>total_of_special_requests</th>\n",
       "    </tr>\n",
       "  </thead>\n",
       "  <tbody>\n",
       "    <tr>\n",
       "      <th>count</th>\n",
       "      <td>119390.000000</td>\n",
       "      <td>119390.000000</td>\n",
       "      <td>119390.000000</td>\n",
       "      <td>119390.000000</td>\n",
       "      <td>119390.000000</td>\n",
       "      <td>119390.000000</td>\n",
       "      <td>119390.000000</td>\n",
       "      <td>119390.000000</td>\n",
       "      <td>119386.000000</td>\n",
       "      <td>119390.000000</td>\n",
       "      <td>119390.000000</td>\n",
       "      <td>119390.000000</td>\n",
       "      <td>119390.000000</td>\n",
       "      <td>119390.000000</td>\n",
       "      <td>103050.000000</td>\n",
       "      <td>6797.000000</td>\n",
       "      <td>119390.000000</td>\n",
       "      <td>119390.000000</td>\n",
       "      <td>119390.000000</td>\n",
       "      <td>119390.000000</td>\n",
       "    </tr>\n",
       "    <tr>\n",
       "      <th>mean</th>\n",
       "      <td>0.370416</td>\n",
       "      <td>104.011416</td>\n",
       "      <td>2016.156554</td>\n",
       "      <td>27.165173</td>\n",
       "      <td>15.798241</td>\n",
       "      <td>0.927599</td>\n",
       "      <td>2.500302</td>\n",
       "      <td>1.856403</td>\n",
       "      <td>0.103890</td>\n",
       "      <td>0.007949</td>\n",
       "      <td>0.031912</td>\n",
       "      <td>0.087118</td>\n",
       "      <td>0.137097</td>\n",
       "      <td>0.221124</td>\n",
       "      <td>86.693382</td>\n",
       "      <td>189.266735</td>\n",
       "      <td>2.321149</td>\n",
       "      <td>101.831122</td>\n",
       "      <td>0.062518</td>\n",
       "      <td>0.571363</td>\n",
       "    </tr>\n",
       "    <tr>\n",
       "      <th>std</th>\n",
       "      <td>0.482918</td>\n",
       "      <td>106.863097</td>\n",
       "      <td>0.707476</td>\n",
       "      <td>13.605138</td>\n",
       "      <td>8.780829</td>\n",
       "      <td>0.998613</td>\n",
       "      <td>1.908286</td>\n",
       "      <td>0.579261</td>\n",
       "      <td>0.398561</td>\n",
       "      <td>0.097436</td>\n",
       "      <td>0.175767</td>\n",
       "      <td>0.844336</td>\n",
       "      <td>1.497437</td>\n",
       "      <td>0.652306</td>\n",
       "      <td>110.774548</td>\n",
       "      <td>131.655015</td>\n",
       "      <td>17.594721</td>\n",
       "      <td>50.535790</td>\n",
       "      <td>0.245291</td>\n",
       "      <td>0.792798</td>\n",
       "    </tr>\n",
       "    <tr>\n",
       "      <th>min</th>\n",
       "      <td>0.000000</td>\n",
       "      <td>0.000000</td>\n",
       "      <td>2015.000000</td>\n",
       "      <td>1.000000</td>\n",
       "      <td>1.000000</td>\n",
       "      <td>0.000000</td>\n",
       "      <td>0.000000</td>\n",
       "      <td>0.000000</td>\n",
       "      <td>0.000000</td>\n",
       "      <td>0.000000</td>\n",
       "      <td>0.000000</td>\n",
       "      <td>0.000000</td>\n",
       "      <td>0.000000</td>\n",
       "      <td>0.000000</td>\n",
       "      <td>1.000000</td>\n",
       "      <td>6.000000</td>\n",
       "      <td>0.000000</td>\n",
       "      <td>-6.380000</td>\n",
       "      <td>0.000000</td>\n",
       "      <td>0.000000</td>\n",
       "    </tr>\n",
       "    <tr>\n",
       "      <th>25%</th>\n",
       "      <td>0.000000</td>\n",
       "      <td>18.000000</td>\n",
       "      <td>2016.000000</td>\n",
       "      <td>16.000000</td>\n",
       "      <td>8.000000</td>\n",
       "      <td>0.000000</td>\n",
       "      <td>1.000000</td>\n",
       "      <td>2.000000</td>\n",
       "      <td>0.000000</td>\n",
       "      <td>0.000000</td>\n",
       "      <td>0.000000</td>\n",
       "      <td>0.000000</td>\n",
       "      <td>0.000000</td>\n",
       "      <td>0.000000</td>\n",
       "      <td>9.000000</td>\n",
       "      <td>62.000000</td>\n",
       "      <td>0.000000</td>\n",
       "      <td>69.290000</td>\n",
       "      <td>0.000000</td>\n",
       "      <td>0.000000</td>\n",
       "    </tr>\n",
       "    <tr>\n",
       "      <th>50%</th>\n",
       "      <td>0.000000</td>\n",
       "      <td>69.000000</td>\n",
       "      <td>2016.000000</td>\n",
       "      <td>28.000000</td>\n",
       "      <td>16.000000</td>\n",
       "      <td>1.000000</td>\n",
       "      <td>2.000000</td>\n",
       "      <td>2.000000</td>\n",
       "      <td>0.000000</td>\n",
       "      <td>0.000000</td>\n",
       "      <td>0.000000</td>\n",
       "      <td>0.000000</td>\n",
       "      <td>0.000000</td>\n",
       "      <td>0.000000</td>\n",
       "      <td>14.000000</td>\n",
       "      <td>179.000000</td>\n",
       "      <td>0.000000</td>\n",
       "      <td>94.575000</td>\n",
       "      <td>0.000000</td>\n",
       "      <td>0.000000</td>\n",
       "    </tr>\n",
       "    <tr>\n",
       "      <th>75%</th>\n",
       "      <td>1.000000</td>\n",
       "      <td>160.000000</td>\n",
       "      <td>2017.000000</td>\n",
       "      <td>38.000000</td>\n",
       "      <td>23.000000</td>\n",
       "      <td>2.000000</td>\n",
       "      <td>3.000000</td>\n",
       "      <td>2.000000</td>\n",
       "      <td>0.000000</td>\n",
       "      <td>0.000000</td>\n",
       "      <td>0.000000</td>\n",
       "      <td>0.000000</td>\n",
       "      <td>0.000000</td>\n",
       "      <td>0.000000</td>\n",
       "      <td>229.000000</td>\n",
       "      <td>270.000000</td>\n",
       "      <td>0.000000</td>\n",
       "      <td>126.000000</td>\n",
       "      <td>0.000000</td>\n",
       "      <td>1.000000</td>\n",
       "    </tr>\n",
       "    <tr>\n",
       "      <th>max</th>\n",
       "      <td>1.000000</td>\n",
       "      <td>737.000000</td>\n",
       "      <td>2017.000000</td>\n",
       "      <td>53.000000</td>\n",
       "      <td>31.000000</td>\n",
       "      <td>19.000000</td>\n",
       "      <td>50.000000</td>\n",
       "      <td>55.000000</td>\n",
       "      <td>10.000000</td>\n",
       "      <td>10.000000</td>\n",
       "      <td>1.000000</td>\n",
       "      <td>26.000000</td>\n",
       "      <td>72.000000</td>\n",
       "      <td>21.000000</td>\n",
       "      <td>535.000000</td>\n",
       "      <td>543.000000</td>\n",
       "      <td>391.000000</td>\n",
       "      <td>5400.000000</td>\n",
       "      <td>8.000000</td>\n",
       "      <td>5.000000</td>\n",
       "    </tr>\n",
       "  </tbody>\n",
       "</table>\n",
       "</div>"
      ],
      "text/plain": [
       "         is_canceled      lead_time  arrival_date_year  \\\n",
       "count  119390.000000  119390.000000      119390.000000   \n",
       "mean        0.370416     104.011416        2016.156554   \n",
       "std         0.482918     106.863097           0.707476   \n",
       "min         0.000000       0.000000        2015.000000   \n",
       "25%         0.000000      18.000000        2016.000000   \n",
       "50%         0.000000      69.000000        2016.000000   \n",
       "75%         1.000000     160.000000        2017.000000   \n",
       "max         1.000000     737.000000        2017.000000   \n",
       "\n",
       "       arrival_date_week_number  arrival_date_day_of_month  \\\n",
       "count             119390.000000              119390.000000   \n",
       "mean                  27.165173                  15.798241   \n",
       "std                   13.605138                   8.780829   \n",
       "min                    1.000000                   1.000000   \n",
       "25%                   16.000000                   8.000000   \n",
       "50%                   28.000000                  16.000000   \n",
       "75%                   38.000000                  23.000000   \n",
       "max                   53.000000                  31.000000   \n",
       "\n",
       "       stays_in_weekend_nights  stays_in_week_nights         adults  \\\n",
       "count            119390.000000         119390.000000  119390.000000   \n",
       "mean                  0.927599              2.500302       1.856403   \n",
       "std                   0.998613              1.908286       0.579261   \n",
       "min                   0.000000              0.000000       0.000000   \n",
       "25%                   0.000000              1.000000       2.000000   \n",
       "50%                   1.000000              2.000000       2.000000   \n",
       "75%                   2.000000              3.000000       2.000000   \n",
       "max                  19.000000             50.000000      55.000000   \n",
       "\n",
       "            children         babies  is_repeated_guest  \\\n",
       "count  119386.000000  119390.000000      119390.000000   \n",
       "mean        0.103890       0.007949           0.031912   \n",
       "std         0.398561       0.097436           0.175767   \n",
       "min         0.000000       0.000000           0.000000   \n",
       "25%         0.000000       0.000000           0.000000   \n",
       "50%         0.000000       0.000000           0.000000   \n",
       "75%         0.000000       0.000000           0.000000   \n",
       "max        10.000000      10.000000           1.000000   \n",
       "\n",
       "       previous_cancellations  previous_bookings_not_canceled  \\\n",
       "count           119390.000000                   119390.000000   \n",
       "mean                 0.087118                        0.137097   \n",
       "std                  0.844336                        1.497437   \n",
       "min                  0.000000                        0.000000   \n",
       "25%                  0.000000                        0.000000   \n",
       "50%                  0.000000                        0.000000   \n",
       "75%                  0.000000                        0.000000   \n",
       "max                 26.000000                       72.000000   \n",
       "\n",
       "       booking_changes          agent      company  days_in_waiting_list  \\\n",
       "count    119390.000000  103050.000000  6797.000000         119390.000000   \n",
       "mean          0.221124      86.693382   189.266735              2.321149   \n",
       "std           0.652306     110.774548   131.655015             17.594721   \n",
       "min           0.000000       1.000000     6.000000              0.000000   \n",
       "25%           0.000000       9.000000    62.000000              0.000000   \n",
       "50%           0.000000      14.000000   179.000000              0.000000   \n",
       "75%           0.000000     229.000000   270.000000              0.000000   \n",
       "max          21.000000     535.000000   543.000000            391.000000   \n",
       "\n",
       "                 adr  required_car_parking_spaces  total_of_special_requests  \n",
       "count  119390.000000                119390.000000              119390.000000  \n",
       "mean      101.831122                     0.062518                   0.571363  \n",
       "std        50.535790                     0.245291                   0.792798  \n",
       "min        -6.380000                     0.000000                   0.000000  \n",
       "25%        69.290000                     0.000000                   0.000000  \n",
       "50%        94.575000                     0.000000                   0.000000  \n",
       "75%       126.000000                     0.000000                   1.000000  \n",
       "max      5400.000000                     8.000000                   5.000000  "
      ]
     },
     "execution_count": 6,
     "metadata": {},
     "output_type": "execute_result"
    }
   ],
   "source": [
    "hotel.describe() #shows all the numerical columns in the data"
   ]
  },
  {
   "cell_type": "code",
   "execution_count": 7,
   "id": "9322b0cf",
   "metadata": {},
   "outputs": [
    {
     "data": {
      "text/plain": [
       "(119390, 32)"
      ]
     },
     "execution_count": 7,
     "metadata": {},
     "output_type": "execute_result"
    }
   ],
   "source": [
    "hotel.shape"
   ]
  },
  {
   "cell_type": "markdown",
   "id": "b537915f",
   "metadata": {},
   "source": [
    "# Treating Missing Values"
   ]
  },
  {
   "cell_type": "code",
   "execution_count": 8,
   "id": "32120f31",
   "metadata": {},
   "outputs": [
    {
     "data": {
      "text/plain": [
       "hotel                                  0\n",
       "is_canceled                            0\n",
       "lead_time                              0\n",
       "arrival_date_year                      0\n",
       "arrival_date_month                     0\n",
       "arrival_date_week_number               0\n",
       "arrival_date_day_of_month              0\n",
       "stays_in_weekend_nights                0\n",
       "stays_in_week_nights                   0\n",
       "adults                                 0\n",
       "children                               4\n",
       "babies                                 0\n",
       "meal                                   0\n",
       "country                              488\n",
       "market_segment                         0\n",
       "distribution_channel                   0\n",
       "is_repeated_guest                      0\n",
       "previous_cancellations                 0\n",
       "previous_bookings_not_canceled         0\n",
       "reserved_room_type                     0\n",
       "assigned_room_type                     0\n",
       "booking_changes                        0\n",
       "deposit_type                           0\n",
       "agent                              16340\n",
       "company                           112593\n",
       "days_in_waiting_list                   0\n",
       "customer_type                          0\n",
       "adr                                    0\n",
       "required_car_parking_spaces            0\n",
       "total_of_special_requests              0\n",
       "reservation_status                     0\n",
       "reservation_status_date                0\n",
       "dtype: int64"
      ]
     },
     "execution_count": 8,
     "metadata": {},
     "output_type": "execute_result"
    }
   ],
   "source": [
    "hotel.isnull().sum()  #no of null values"
   ]
  },
  {
   "cell_type": "code",
   "execution_count": 9,
   "id": "8e605c87",
   "metadata": {},
   "outputs": [
    {
     "data": {
      "text/plain": [
       "PRT    48590\n",
       "GBR    12129\n",
       "FRA    10415\n",
       "ESP     8568\n",
       "DEU     7287\n",
       "       ...  \n",
       "DJI        1\n",
       "BWA        1\n",
       "HND        1\n",
       "VGB        1\n",
       "NAM        1\n",
       "Name: country, Length: 177, dtype: int64"
      ]
     },
     "execution_count": 9,
     "metadata": {},
     "output_type": "execute_result"
    }
   ],
   "source": [
    "# country\n",
    "hotel.country.value_counts()"
   ]
  },
  {
   "cell_type": "code",
   "execution_count": 10,
   "id": "afcca559",
   "metadata": {},
   "outputs": [],
   "source": [
    "hotel.country=hotel.country.fillna(\"Not-Defined\") #as don't know the country so filled with Not Defined"
   ]
  },
  {
   "cell_type": "code",
   "execution_count": 11,
   "id": "69e9b53b",
   "metadata": {},
   "outputs": [
    {
     "data": {
      "text/plain": [
       "9.0      31961\n",
       "240.0    13922\n",
       "1.0       7191\n",
       "14.0      3640\n",
       "7.0       3539\n",
       "         ...  \n",
       "289.0        1\n",
       "432.0        1\n",
       "265.0        1\n",
       "93.0         1\n",
       "304.0        1\n",
       "Name: agent, Length: 333, dtype: int64"
      ]
     },
     "execution_count": 11,
     "metadata": {},
     "output_type": "execute_result"
    }
   ],
   "source": [
    "# agent\n",
    "hotel.agent.value_counts()"
   ]
  },
  {
   "cell_type": "code",
   "execution_count": 12,
   "id": "069d18c9",
   "metadata": {},
   "outputs": [],
   "source": [
    "hotel.agent=hotel.agent.fillna(hotel.agent.median()) \n",
    "#As agent is numerical column so filled with median as median is less sensitive to outliers than mean"
   ]
  },
  {
   "cell_type": "code",
   "execution_count": 13,
   "id": "d23aebc6",
   "metadata": {},
   "outputs": [],
   "source": [
    "# company\n",
    "hotel.drop(columns=\"company\",inplace=True)  #it has more 50% null values"
   ]
  },
  {
   "cell_type": "code",
   "execution_count": 14,
   "id": "b505a772",
   "metadata": {},
   "outputs": [
    {
     "data": {
      "text/plain": [
       "0.0     110796\n",
       "1.0       4861\n",
       "2.0       3652\n",
       "3.0         76\n",
       "10.0         1\n",
       "Name: children, dtype: int64"
      ]
     },
     "execution_count": 14,
     "metadata": {},
     "output_type": "execute_result"
    }
   ],
   "source": [
    "# children\n",
    "hotel.children.value_counts()"
   ]
  },
  {
   "cell_type": "code",
   "execution_count": 15,
   "id": "f044550c",
   "metadata": {},
   "outputs": [],
   "source": [
    "hotel.children=hotel.children.fillna(0.0) #Dont know the no. of children so filled with 0"
   ]
  },
  {
   "cell_type": "code",
   "execution_count": 16,
   "id": "d44cee57",
   "metadata": {},
   "outputs": [
    {
     "data": {
      "text/plain": [
       "hotel                             0\n",
       "is_canceled                       0\n",
       "lead_time                         0\n",
       "arrival_date_year                 0\n",
       "arrival_date_month                0\n",
       "arrival_date_week_number          0\n",
       "arrival_date_day_of_month         0\n",
       "stays_in_weekend_nights           0\n",
       "stays_in_week_nights              0\n",
       "adults                            0\n",
       "children                          0\n",
       "babies                            0\n",
       "meal                              0\n",
       "country                           0\n",
       "market_segment                    0\n",
       "distribution_channel              0\n",
       "is_repeated_guest                 0\n",
       "previous_cancellations            0\n",
       "previous_bookings_not_canceled    0\n",
       "reserved_room_type                0\n",
       "assigned_room_type                0\n",
       "booking_changes                   0\n",
       "deposit_type                      0\n",
       "agent                             0\n",
       "days_in_waiting_list              0\n",
       "customer_type                     0\n",
       "adr                               0\n",
       "required_car_parking_spaces       0\n",
       "total_of_special_requests         0\n",
       "reservation_status                0\n",
       "reservation_status_date           0\n",
       "dtype: int64"
      ]
     },
     "execution_count": 16,
     "metadata": {},
     "output_type": "execute_result"
    }
   ],
   "source": [
    "hotel.isnull().sum()"
   ]
  },
  {
   "cell_type": "markdown",
   "id": "6752ab24",
   "metadata": {},
   "source": [
    "\n",
    "# Dtype Conversion"
   ]
  },
  {
   "cell_type": "code",
   "execution_count": 17,
   "id": "e60587f7",
   "metadata": {},
   "outputs": [],
   "source": [
    "from sklearn.preprocessing import LabelEncoder\n",
    "le=LabelEncoder()"
   ]
  },
  {
   "cell_type": "code",
   "execution_count": 18,
   "id": "10e63b8c",
   "metadata": {},
   "outputs": [
    {
     "data": {
      "text/plain": [
       "hotel                              object\n",
       "is_canceled                         int64\n",
       "lead_time                           int64\n",
       "arrival_date_year                   int64\n",
       "arrival_date_month                 object\n",
       "arrival_date_week_number            int64\n",
       "arrival_date_day_of_month           int64\n",
       "stays_in_weekend_nights             int64\n",
       "stays_in_week_nights                int64\n",
       "adults                              int64\n",
       "children                          float64\n",
       "babies                              int64\n",
       "meal                               object\n",
       "country                            object\n",
       "market_segment                     object\n",
       "distribution_channel               object\n",
       "is_repeated_guest                   int64\n",
       "previous_cancellations              int64\n",
       "previous_bookings_not_canceled      int64\n",
       "reserved_room_type                 object\n",
       "assigned_room_type                 object\n",
       "booking_changes                     int64\n",
       "deposit_type                       object\n",
       "agent                             float64\n",
       "days_in_waiting_list                int64\n",
       "customer_type                      object\n",
       "adr                               float64\n",
       "required_car_parking_spaces         int64\n",
       "total_of_special_requests           int64\n",
       "reservation_status                 object\n",
       "reservation_status_date            object\n",
       "dtype: object"
      ]
     },
     "execution_count": 18,
     "metadata": {},
     "output_type": "execute_result"
    }
   ],
   "source": [
    "hotel.dtypes"
   ]
  },
  {
   "cell_type": "code",
   "execution_count": 19,
   "id": "c31f7b41",
   "metadata": {},
   "outputs": [
    {
     "data": {
      "text/plain": [
       "City Hotel      79330\n",
       "Resort Hotel    40060\n",
       "Name: hotel, dtype: int64"
      ]
     },
     "execution_count": 19,
     "metadata": {},
     "output_type": "execute_result"
    }
   ],
   "source": [
    "#Hotel\n",
    "hotel.hotel.value_counts()"
   ]
  },
  {
   "cell_type": "code",
   "execution_count": 20,
   "id": "31e69a9e",
   "metadata": {},
   "outputs": [],
   "source": [
    "hotel.hotel=le.fit_transform(hotel.hotel)"
   ]
  },
  {
   "cell_type": "code",
   "execution_count": 21,
   "id": "af79f522",
   "metadata": {},
   "outputs": [
    {
     "data": {
      "text/plain": [
       "0    79330\n",
       "1    40060\n",
       "Name: hotel, dtype: int64"
      ]
     },
     "execution_count": 21,
     "metadata": {},
     "output_type": "execute_result"
    }
   ],
   "source": [
    "hotel.hotel.value_counts()"
   ]
  },
  {
   "cell_type": "markdown",
   "id": "51a0d87d",
   "metadata": {},
   "source": [
    "arrival_date_month"
   ]
  },
  {
   "cell_type": "code",
   "execution_count": 22,
   "id": "1f1c3141",
   "metadata": {},
   "outputs": [
    {
     "data": {
      "text/plain": [
       "August       13877\n",
       "July         12661\n",
       "May          11791\n",
       "October      11160\n",
       "April        11089\n",
       "June         10939\n",
       "September    10508\n",
       "March         9794\n",
       "February      8068\n",
       "November      6794\n",
       "December      6780\n",
       "January       5929\n",
       "Name: arrival_date_month, dtype: int64"
      ]
     },
     "execution_count": 22,
     "metadata": {},
     "output_type": "execute_result"
    }
   ],
   "source": [
    "#arrival_date_month\n",
    "hotel.arrival_date_month.value_counts()"
   ]
  },
  {
   "cell_type": "code",
   "execution_count": 23,
   "id": "952ed1c1",
   "metadata": {},
   "outputs": [],
   "source": [
    "hotel.arrival_date_month=le.fit_transform(hotel.arrival_date_month)"
   ]
  },
  {
   "cell_type": "code",
   "execution_count": 24,
   "id": "87b8c5dc",
   "metadata": {},
   "outputs": [
    {
     "data": {
      "text/plain": [
       "1     13877\n",
       "5     12661\n",
       "8     11791\n",
       "10    11160\n",
       "0     11089\n",
       "6     10939\n",
       "11    10508\n",
       "7      9794\n",
       "3      8068\n",
       "9      6794\n",
       "2      6780\n",
       "4      5929\n",
       "Name: arrival_date_month, dtype: int64"
      ]
     },
     "execution_count": 24,
     "metadata": {},
     "output_type": "execute_result"
    }
   ],
   "source": [
    "hotel.arrival_date_month.value_counts()"
   ]
  },
  {
   "cell_type": "code",
   "execution_count": 25,
   "id": "a1b2e948",
   "metadata": {},
   "outputs": [
    {
     "data": {
      "text/plain": [
       "BB           92310\n",
       "HB           14463\n",
       "SC           10650\n",
       "Undefined     1169\n",
       "FB             798\n",
       "Name: meal, dtype: int64"
      ]
     },
     "execution_count": 25,
     "metadata": {},
     "output_type": "execute_result"
    }
   ],
   "source": [
    "# meal\n",
    "hotel.meal.value_counts()"
   ]
  },
  {
   "cell_type": "code",
   "execution_count": 26,
   "id": "72fbe01c",
   "metadata": {},
   "outputs": [],
   "source": [
    "hotel.meal=le.fit_transform(hotel.meal)"
   ]
  },
  {
   "cell_type": "code",
   "execution_count": 27,
   "id": "a5df1935",
   "metadata": {},
   "outputs": [
    {
     "data": {
      "text/plain": [
       "0    92310\n",
       "2    14463\n",
       "3    10650\n",
       "4     1169\n",
       "1      798\n",
       "Name: meal, dtype: int64"
      ]
     },
     "execution_count": 27,
     "metadata": {},
     "output_type": "execute_result"
    }
   ],
   "source": [
    "hotel.meal.value_counts()"
   ]
  },
  {
   "cell_type": "code",
   "execution_count": 28,
   "id": "81dbde5b",
   "metadata": {},
   "outputs": [
    {
     "data": {
      "text/plain": [
       "PRT    48590\n",
       "GBR    12129\n",
       "FRA    10415\n",
       "ESP     8568\n",
       "DEU     7287\n",
       "       ...  \n",
       "DJI        1\n",
       "BWA        1\n",
       "HND        1\n",
       "VGB        1\n",
       "NAM        1\n",
       "Name: country, Length: 178, dtype: int64"
      ]
     },
     "execution_count": 28,
     "metadata": {},
     "output_type": "execute_result"
    }
   ],
   "source": [
    "# country\n",
    "hotel.country.value_counts()"
   ]
  },
  {
   "cell_type": "code",
   "execution_count": 29,
   "id": "e1a8a328",
   "metadata": {},
   "outputs": [],
   "source": [
    "hotel.country=le.fit_transform(hotel.country)"
   ]
  },
  {
   "cell_type": "code",
   "execution_count": 30,
   "id": "dc8e2c33",
   "metadata": {},
   "outputs": [
    {
     "data": {
      "text/plain": [
       "136    48590\n",
       "59     12129\n",
       "56     10415\n",
       "51      8568\n",
       "43      7287\n",
       "       ...  \n",
       "44         1\n",
       "27         1\n",
       "70         1\n",
       "173        1\n",
       "119        1\n",
       "Name: country, Length: 178, dtype: int64"
      ]
     },
     "execution_count": 30,
     "metadata": {},
     "output_type": "execute_result"
    }
   ],
   "source": [
    "hotel.country.value_counts()"
   ]
  },
  {
   "cell_type": "code",
   "execution_count": 31,
   "id": "82dd7879",
   "metadata": {},
   "outputs": [
    {
     "data": {
      "text/plain": [
       "Online TA        56477\n",
       "Offline TA/TO    24219\n",
       "Groups           19811\n",
       "Direct           12606\n",
       "Corporate         5295\n",
       "Complementary      743\n",
       "Aviation           237\n",
       "Undefined            2\n",
       "Name: market_segment, dtype: int64"
      ]
     },
     "execution_count": 31,
     "metadata": {},
     "output_type": "execute_result"
    }
   ],
   "source": [
    "# market_segment\n",
    "hotel.market_segment.value_counts()"
   ]
  },
  {
   "cell_type": "code",
   "execution_count": 32,
   "id": "2efefed3",
   "metadata": {},
   "outputs": [],
   "source": [
    "hotel.market_segment=le.fit_transform(hotel.market_segment)"
   ]
  },
  {
   "cell_type": "code",
   "execution_count": 33,
   "id": "d7fcf379",
   "metadata": {},
   "outputs": [
    {
     "data": {
      "text/plain": [
       "6    56477\n",
       "5    24219\n",
       "4    19811\n",
       "3    12606\n",
       "2     5295\n",
       "1      743\n",
       "0      237\n",
       "7        2\n",
       "Name: market_segment, dtype: int64"
      ]
     },
     "execution_count": 33,
     "metadata": {},
     "output_type": "execute_result"
    }
   ],
   "source": [
    "hotel.market_segment.value_counts()"
   ]
  },
  {
   "cell_type": "code",
   "execution_count": 34,
   "id": "d3decee0",
   "metadata": {},
   "outputs": [
    {
     "data": {
      "text/plain": [
       "TA/TO        97870\n",
       "Direct       14645\n",
       "Corporate     6677\n",
       "GDS            193\n",
       "Undefined        5\n",
       "Name: distribution_channel, dtype: int64"
      ]
     },
     "execution_count": 34,
     "metadata": {},
     "output_type": "execute_result"
    }
   ],
   "source": [
    "# distribution_channel\n",
    "hotel.distribution_channel.value_counts()"
   ]
  },
  {
   "cell_type": "code",
   "execution_count": 35,
   "id": "e6b1cd52",
   "metadata": {},
   "outputs": [],
   "source": [
    "hotel.distribution_channel=le.fit_transform(hotel.distribution_channel)"
   ]
  },
  {
   "cell_type": "code",
   "execution_count": 36,
   "id": "baae8588",
   "metadata": {},
   "outputs": [
    {
     "data": {
      "text/plain": [
       "3    97870\n",
       "1    14645\n",
       "0     6677\n",
       "2      193\n",
       "4        5\n",
       "Name: distribution_channel, dtype: int64"
      ]
     },
     "execution_count": 36,
     "metadata": {},
     "output_type": "execute_result"
    }
   ],
   "source": [
    "hotel.distribution_channel.value_counts()"
   ]
  },
  {
   "cell_type": "code",
   "execution_count": 37,
   "id": "45c879d6",
   "metadata": {},
   "outputs": [
    {
     "data": {
      "text/plain": [
       "A    85994\n",
       "D    19201\n",
       "E     6535\n",
       "F     2897\n",
       "G     2094\n",
       "B     1118\n",
       "C      932\n",
       "H      601\n",
       "P       12\n",
       "L        6\n",
       "Name: reserved_room_type, dtype: int64"
      ]
     },
     "execution_count": 37,
     "metadata": {},
     "output_type": "execute_result"
    }
   ],
   "source": [
    "# reserved_room_type\n",
    "hotel.reserved_room_type.value_counts()"
   ]
  },
  {
   "cell_type": "code",
   "execution_count": 38,
   "id": "07abc36f",
   "metadata": {},
   "outputs": [],
   "source": [
    "hotel.reserved_room_type=le.fit_transform(hotel.reserved_room_type)"
   ]
  },
  {
   "cell_type": "code",
   "execution_count": 39,
   "id": "90c1dec9",
   "metadata": {},
   "outputs": [
    {
     "data": {
      "text/plain": [
       "0    85994\n",
       "3    19201\n",
       "4     6535\n",
       "5     2897\n",
       "6     2094\n",
       "1     1118\n",
       "2      932\n",
       "7      601\n",
       "9       12\n",
       "8        6\n",
       "Name: reserved_room_type, dtype: int64"
      ]
     },
     "execution_count": 39,
     "metadata": {},
     "output_type": "execute_result"
    }
   ],
   "source": [
    "hotel.reserved_room_type.value_counts()"
   ]
  },
  {
   "cell_type": "code",
   "execution_count": 40,
   "id": "92ca6c0e",
   "metadata": {},
   "outputs": [
    {
     "data": {
      "text/plain": [
       "A    74053\n",
       "D    25322\n",
       "E     7806\n",
       "F     3751\n",
       "G     2553\n",
       "C     2375\n",
       "B     2163\n",
       "H      712\n",
       "I      363\n",
       "K      279\n",
       "P       12\n",
       "L        1\n",
       "Name: assigned_room_type, dtype: int64"
      ]
     },
     "execution_count": 40,
     "metadata": {},
     "output_type": "execute_result"
    }
   ],
   "source": [
    "# assigned_room_type\n",
    "hotel.assigned_room_type.value_counts()"
   ]
  },
  {
   "cell_type": "code",
   "execution_count": 41,
   "id": "1bac6ec5",
   "metadata": {},
   "outputs": [],
   "source": [
    "hotel.assigned_room_type=le.fit_transform(hotel.assigned_room_type)"
   ]
  },
  {
   "cell_type": "code",
   "execution_count": 42,
   "id": "07eb3a66",
   "metadata": {},
   "outputs": [
    {
     "data": {
      "text/plain": [
       "0     74053\n",
       "3     25322\n",
       "4      7806\n",
       "5      3751\n",
       "6      2553\n",
       "2      2375\n",
       "1      2163\n",
       "7       712\n",
       "8       363\n",
       "9       279\n",
       "11       12\n",
       "10        1\n",
       "Name: assigned_room_type, dtype: int64"
      ]
     },
     "execution_count": 42,
     "metadata": {},
     "output_type": "execute_result"
    }
   ],
   "source": [
    "hotel.assigned_room_type.value_counts()"
   ]
  },
  {
   "cell_type": "code",
   "execution_count": 43,
   "id": "1ae33107",
   "metadata": {},
   "outputs": [
    {
     "data": {
      "text/plain": [
       "No Deposit    104641\n",
       "Non Refund     14587\n",
       "Refundable       162\n",
       "Name: deposit_type, dtype: int64"
      ]
     },
     "execution_count": 43,
     "metadata": {},
     "output_type": "execute_result"
    }
   ],
   "source": [
    "# deposit_type\n",
    "hotel.deposit_type.value_counts()"
   ]
  },
  {
   "cell_type": "code",
   "execution_count": 44,
   "id": "beef7345",
   "metadata": {},
   "outputs": [],
   "source": [
    "hotel.deposit_type=le.fit_transform(hotel.deposit_type)"
   ]
  },
  {
   "cell_type": "code",
   "execution_count": 45,
   "id": "8545276d",
   "metadata": {},
   "outputs": [
    {
     "data": {
      "text/plain": [
       "0    104641\n",
       "1     14587\n",
       "2       162\n",
       "Name: deposit_type, dtype: int64"
      ]
     },
     "execution_count": 45,
     "metadata": {},
     "output_type": "execute_result"
    }
   ],
   "source": [
    "hotel.deposit_type.value_counts()"
   ]
  },
  {
   "cell_type": "code",
   "execution_count": 46,
   "id": "0f331295",
   "metadata": {},
   "outputs": [
    {
     "data": {
      "text/plain": [
       "Transient          89613\n",
       "Transient-Party    25124\n",
       "Contract            4076\n",
       "Group                577\n",
       "Name: customer_type, dtype: int64"
      ]
     },
     "execution_count": 46,
     "metadata": {},
     "output_type": "execute_result"
    }
   ],
   "source": [
    "#customer_type.\n",
    "hotel.customer_type.value_counts()"
   ]
  },
  {
   "cell_type": "code",
   "execution_count": 47,
   "id": "ac2d5628",
   "metadata": {},
   "outputs": [],
   "source": [
    "hotel.customer_type=le.fit_transform(hotel.customer_type)"
   ]
  },
  {
   "cell_type": "code",
   "execution_count": 48,
   "id": "fe498520",
   "metadata": {},
   "outputs": [
    {
     "data": {
      "text/plain": [
       "2    89613\n",
       "3    25124\n",
       "0     4076\n",
       "1      577\n",
       "Name: customer_type, dtype: int64"
      ]
     },
     "execution_count": 48,
     "metadata": {},
     "output_type": "execute_result"
    }
   ],
   "source": [
    "hotel.customer_type.value_counts()"
   ]
  },
  {
   "cell_type": "code",
   "execution_count": 49,
   "id": "98b34b76",
   "metadata": {},
   "outputs": [
    {
     "data": {
      "text/plain": [
       "Check-Out    75166\n",
       "Canceled     43017\n",
       "No-Show       1207\n",
       "Name: reservation_status, dtype: int64"
      ]
     },
     "execution_count": 49,
     "metadata": {},
     "output_type": "execute_result"
    }
   ],
   "source": [
    "#reservation_status\n",
    "hotel.reservation_status.value_counts()"
   ]
  },
  {
   "cell_type": "code",
   "execution_count": 50,
   "id": "b4334aaf",
   "metadata": {},
   "outputs": [],
   "source": [
    "hotel.reservation_status=le.fit_transform(hotel.reservation_status)"
   ]
  },
  {
   "cell_type": "code",
   "execution_count": 51,
   "id": "fd8c3900",
   "metadata": {},
   "outputs": [
    {
     "data": {
      "text/plain": [
       "1    75166\n",
       "0    43017\n",
       "2     1207\n",
       "Name: reservation_status, dtype: int64"
      ]
     },
     "execution_count": 51,
     "metadata": {},
     "output_type": "execute_result"
    }
   ],
   "source": [
    "hotel.reservation_status.value_counts()"
   ]
  },
  {
   "cell_type": "code",
   "execution_count": 52,
   "id": "38121297",
   "metadata": {},
   "outputs": [
    {
     "data": {
      "text/plain": [
       "2015-10-21    1461\n",
       "2015-07-06     805\n",
       "2016-11-25     790\n",
       "2015-01-01     763\n",
       "2016-01-18     625\n",
       "              ... \n",
       "2015-02-27       1\n",
       "2015-04-25       1\n",
       "2015-03-11       1\n",
       "2015-06-14       1\n",
       "2015-02-12       1\n",
       "Name: reservation_status_date, Length: 926, dtype: int64"
      ]
     },
     "execution_count": 52,
     "metadata": {},
     "output_type": "execute_result"
    }
   ],
   "source": [
    "# reservation_status_dat\n",
    "hotel.reservation_status_date.value_counts()"
   ]
  },
  {
   "cell_type": "code",
   "execution_count": 53,
   "id": "0c774702",
   "metadata": {},
   "outputs": [],
   "source": [
    "hotel.reservation_status_date=le.fit_transform(hotel.reservation_status_date)                                      "
   ]
  },
  {
   "cell_type": "code",
   "execution_count": 54,
   "id": "e5d75cac",
   "metadata": {},
   "outputs": [
    {
     "data": {
      "text/plain": [
       "233    1461\n",
       "126     805\n",
       "634     790\n",
       "2       763\n",
       "322     625\n",
       "       ... \n",
       "25        1\n",
       "64        1\n",
       "32        1\n",
       "106       1\n",
       "17        1\n",
       "Name: reservation_status_date, Length: 926, dtype: int64"
      ]
     },
     "execution_count": 54,
     "metadata": {},
     "output_type": "execute_result"
    }
   ],
   "source": [
    "hotel.reservation_status_date.value_counts()"
   ]
  },
  {
   "cell_type": "code",
   "execution_count": 55,
   "id": "f4f07bad",
   "metadata": {},
   "outputs": [
    {
     "data": {
      "text/plain": [
       "hotel                               int32\n",
       "is_canceled                         int64\n",
       "lead_time                           int64\n",
       "arrival_date_year                   int64\n",
       "arrival_date_month                  int32\n",
       "arrival_date_week_number            int64\n",
       "arrival_date_day_of_month           int64\n",
       "stays_in_weekend_nights             int64\n",
       "stays_in_week_nights                int64\n",
       "adults                              int64\n",
       "children                          float64\n",
       "babies                              int64\n",
       "meal                                int32\n",
       "country                             int32\n",
       "market_segment                      int32\n",
       "distribution_channel                int32\n",
       "is_repeated_guest                   int64\n",
       "previous_cancellations              int64\n",
       "previous_bookings_not_canceled      int64\n",
       "reserved_room_type                  int32\n",
       "assigned_room_type                  int32\n",
       "booking_changes                     int64\n",
       "deposit_type                        int32\n",
       "agent                             float64\n",
       "days_in_waiting_list                int64\n",
       "customer_type                       int32\n",
       "adr                               float64\n",
       "required_car_parking_spaces         int64\n",
       "total_of_special_requests           int64\n",
       "reservation_status                  int32\n",
       "reservation_status_date             int32\n",
       "dtype: object"
      ]
     },
     "execution_count": 55,
     "metadata": {},
     "output_type": "execute_result"
    }
   ],
   "source": [
    "hotel.dtypes"
   ]
  },
  {
   "cell_type": "markdown",
   "id": "6c957fac",
   "metadata": {},
   "source": [
    "# Data Visualization"
   ]
  },
  {
   "cell_type": "code",
   "execution_count": 56,
   "id": "6aa47b09",
   "metadata": {},
   "outputs": [
    {
     "data": {
      "text/plain": [
       "<AxesSubplot:xlabel='hotel', ylabel='count'>"
      ]
     },
     "execution_count": 56,
     "metadata": {},
     "output_type": "execute_result"
    },
    {
     "data": {
      "image/png": "[encoded data removed]",
      "text/plain": [
       "<Figure size 432x288 with 1 Axes>"
      ]
     },
     "metadata": {
      "needs_background": "light"
     },
     "output_type": "display_data"
    }
   ],
   "source": [
    "sns.countplot(data=hotel,x=\"hotel\",palette=\"ocean\")  # city hotel has more bookings than resort hotel"
   ]
  },
  {
   "cell_type": "code",
   "execution_count": 57,
   "id": "487c6a1c",
   "metadata": {},
   "outputs": [
    {
     "data": {
      "image/png": "[encoded data removed]",
      "text/plain": [
       "<Figure size 432x288 with 1 Axes>"
      ]
     },
     "metadata": {
      "needs_background": "light"
     },
     "output_type": "display_data"
    }
   ],
   "source": [
    "#Which Hotel has more camcelled booking   (0-City Hotel, 1-Resort Hotel)\n",
    "sns.countplot(x=\"hotel\",data=hotel,hue=\"is_canceled\",edgecolor=\"black\")\n",
    "plt.show()                                            #1=canceled 0= not canceled"
   ]
  },
  {
   "cell_type": "code",
   "execution_count": 58,
   "id": "d0c51745",
   "metadata": {},
   "outputs": [
    {
     "data": {
      "image/png": "[encoded data removed]",
      "text/plain": [
       "<Figure size 432x288 with 1 Axes>"
      ]
     },
     "metadata": {
      "needs_background": "light"
     },
     "output_type": "display_data"
    }
   ],
   "source": [
    "sns.countplot(data=hotel,x=\"hotel\",hue=\"is_repeated_guest\")  #0=not repeated 1= repeated\n",
    "plt.show()"
   ]
  },
  {
   "cell_type": "code",
   "execution_count": 59,
   "id": "13c992a4",
   "metadata": {},
   "outputs": [
    {
     "data": {
      "image/png": "[encoded data removed]",
      "text/plain": [
       "<Figure size 576x576 with 1 Axes>"
      ]
     },
     "metadata": {},
     "output_type": "display_data"
    }
   ],
   "source": [
    "# Enlarging the pie chart\n",
    "plt.rcParams['figure.figsize'] = 8,8\n",
    "\n",
    "# Indexing labels. tolist() will convert the index to list for easy manipulation\n",
    "labels = hotel['hotel'].value_counts().index.tolist()\n",
    "\n",
    "# Convert value counts to list\n",
    "sizes = hotel['hotel'].value_counts().tolist()\n",
    "\n",
    "# As the name suggest, explode will determine how much each section is separated from each other \n",
    "explode = (0, 0.1)\n",
    "\n",
    "# Determine colour of pie chart\n",
    "colors = ['yellowgreen', 'lightcoral']\n",
    "\n",
    "plt.pie(sizes, explode=explode, labels=labels, colors=colors, autopct='%1.1f%%',startangle=90, textprops={'fontsize': 14})\n",
    "plt.show()"
   ]
  },
  {
   "cell_type": "code",
   "execution_count": 61,
   "id": "bb91e5be",
   "metadata": {},
   "outputs": [
    {
     "data": {
      "image/png": "[encoded data removed]",
      "text/plain": [
       "<Figure size 864x288 with 1 Axes>"
      ]
     },
     "metadata": {
      "needs_background": "light"
     },
     "output_type": "display_data"
    }
   ],
   "source": [
    "#Plotting the months against hotel type \n",
    "plt.figure(figsize=(12,4))    #0=City hotel ,1=resort hotel\n",
    "sns.countplot(x='arrival_date_month', hue = 'hotel', data=hotel)\n",
    "plt.title('Months of Arrival')\n",
    "plt.show()"
   ]
  },
  {
   "cell_type": "code",
   "execution_count": 62,
   "id": "99526061",
   "metadata": {},
   "outputs": [
    {
     "data": {
      "image/png": "[encoded data removed]",
      "text/plain": [
       "<Figure size 1440x720 with 1 Axes>"
      ]
     },
     "metadata": {
      "needs_background": "light"
     },
     "output_type": "display_data"
    }
   ],
   "source": [
    "#the year in which most booked hotel\n",
    "plt.figure(figsize=(20,10))\n",
    "hotel.arrival_date_year.value_counts(normalize=True).plot(kind=\"bar\",color='g')\n",
    "plt.show()"
   ]
  },
  {
   "cell_type": "markdown",
   "id": "16640bd1",
   "metadata": {},
   "source": [
    "# Model Building without treating outliers\n"
   ]
  },
  {
   "cell_type": "code",
   "execution_count": 63,
   "id": "6eb9480c",
   "metadata": {},
   "outputs": [
    {
     "data": {
      "text/html": [
       "<div>\n",
       "<style scoped>\n",
       "    .dataframe tbody tr th:only-of-type {\n",
       "        vertical-align: middle;\n",
       "    }\n",
       "\n",
       "    .dataframe tbody tr th {\n",
       "        vertical-align: top;\n",
       "    }\n",
       "\n",
       "    .dataframe thead th {\n",
       "        text-align: right;\n",
       "    }\n",
       "</style>\n",
       "<table border=\"1\" class=\"dataframe\">\n",
       "  <thead>\n",
       "    <tr style=\"text-align: right;\">\n",
       "      <th></th>\n",
       "      <th>hotel</th>\n",
       "      <th>is_canceled</th>\n",
       "      <th>lead_time</th>\n",
       "      <th>arrival_date_year</th>\n",
       "      <th>arrival_date_month</th>\n",
       "      <th>arrival_date_week_number</th>\n",
       "      <th>arrival_date_day_of_month</th>\n",
       "      <th>stays_in_weekend_nights</th>\n",
       "      <th>stays_in_week_nights</th>\n",
       "      <th>adults</th>\n",
       "      <th>...</th>\n",
       "      <th>booking_changes</th>\n",
       "      <th>deposit_type</th>\n",
       "      <th>agent</th>\n",
       "      <th>days_in_waiting_list</th>\n",
       "      <th>customer_type</th>\n",
       "      <th>adr</th>\n",
       "      <th>required_car_parking_spaces</th>\n",
       "      <th>total_of_special_requests</th>\n",
       "      <th>reservation_status</th>\n",
       "      <th>reservation_status_date</th>\n",
       "    </tr>\n",
       "  </thead>\n",
       "  <tbody>\n",
       "    <tr>\n",
       "      <th>0</th>\n",
       "      <td>1</td>\n",
       "      <td>0</td>\n",
       "      <td>342</td>\n",
       "      <td>2015</td>\n",
       "      <td>5</td>\n",
       "      <td>27</td>\n",
       "      <td>1</td>\n",
       "      <td>0</td>\n",
       "      <td>0</td>\n",
       "      <td>2</td>\n",
       "      <td>...</td>\n",
       "      <td>3</td>\n",
       "      <td>0</td>\n",
       "      <td>14.0</td>\n",
       "      <td>0</td>\n",
       "      <td>2</td>\n",
       "      <td>0.0</td>\n",
       "      <td>0</td>\n",
       "      <td>0</td>\n",
       "      <td>1</td>\n",
       "      <td>121</td>\n",
       "    </tr>\n",
       "    <tr>\n",
       "      <th>1</th>\n",
       "      <td>1</td>\n",
       "      <td>0</td>\n",
       "      <td>737</td>\n",
       "      <td>2015</td>\n",
       "      <td>5</td>\n",
       "      <td>27</td>\n",
       "      <td>1</td>\n",
       "      <td>0</td>\n",
       "      <td>0</td>\n",
       "      <td>2</td>\n",
       "      <td>...</td>\n",
       "      <td>4</td>\n",
       "      <td>0</td>\n",
       "      <td>14.0</td>\n",
       "      <td>0</td>\n",
       "      <td>2</td>\n",
       "      <td>0.0</td>\n",
       "      <td>0</td>\n",
       "      <td>0</td>\n",
       "      <td>1</td>\n",
       "      <td>121</td>\n",
       "    </tr>\n",
       "    <tr>\n",
       "      <th>2</th>\n",
       "      <td>1</td>\n",
       "      <td>0</td>\n",
       "      <td>7</td>\n",
       "      <td>2015</td>\n",
       "      <td>5</td>\n",
       "      <td>27</td>\n",
       "      <td>1</td>\n",
       "      <td>0</td>\n",
       "      <td>1</td>\n",
       "      <td>1</td>\n",
       "      <td>...</td>\n",
       "      <td>0</td>\n",
       "      <td>0</td>\n",
       "      <td>14.0</td>\n",
       "      <td>0</td>\n",
       "      <td>2</td>\n",
       "      <td>75.0</td>\n",
       "      <td>0</td>\n",
       "      <td>0</td>\n",
       "      <td>1</td>\n",
       "      <td>122</td>\n",
       "    </tr>\n",
       "    <tr>\n",
       "      <th>3</th>\n",
       "      <td>1</td>\n",
       "      <td>0</td>\n",
       "      <td>13</td>\n",
       "      <td>2015</td>\n",
       "      <td>5</td>\n",
       "      <td>27</td>\n",
       "      <td>1</td>\n",
       "      <td>0</td>\n",
       "      <td>1</td>\n",
       "      <td>1</td>\n",
       "      <td>...</td>\n",
       "      <td>0</td>\n",
       "      <td>0</td>\n",
       "      <td>304.0</td>\n",
       "      <td>0</td>\n",
       "      <td>2</td>\n",
       "      <td>75.0</td>\n",
       "      <td>0</td>\n",
       "      <td>0</td>\n",
       "      <td>1</td>\n",
       "      <td>122</td>\n",
       "    </tr>\n",
       "    <tr>\n",
       "      <th>4</th>\n",
       "      <td>1</td>\n",
       "      <td>0</td>\n",
       "      <td>14</td>\n",
       "      <td>2015</td>\n",
       "      <td>5</td>\n",
       "      <td>27</td>\n",
       "      <td>1</td>\n",
       "      <td>0</td>\n",
       "      <td>2</td>\n",
       "      <td>2</td>\n",
       "      <td>...</td>\n",
       "      <td>0</td>\n",
       "      <td>0</td>\n",
       "      <td>240.0</td>\n",
       "      <td>0</td>\n",
       "      <td>2</td>\n",
       "      <td>98.0</td>\n",
       "      <td>0</td>\n",
       "      <td>1</td>\n",
       "      <td>1</td>\n",
       "      <td>123</td>\n",
       "    </tr>\n",
       "  </tbody>\n",
       "</table>\n",
       "<p>5 rows × 31 columns</p>\n",
       "</div>"
      ],
      "text/plain": [
       "   hotel  is_canceled  lead_time  arrival_date_year  arrival_date_month  \\\n",
       "0      1            0        342               2015                   5   \n",
       "1      1            0        737               2015                   5   \n",
       "2      1            0          7               2015                   5   \n",
       "3      1            0         13               2015                   5   \n",
       "4      1            0         14               2015                   5   \n",
       "\n",
       "   arrival_date_week_number  arrival_date_day_of_month  \\\n",
       "0                        27                          1   \n",
       "1                        27                          1   \n",
       "2                        27                          1   \n",
       "3                        27                          1   \n",
       "4                        27                          1   \n",
       "\n",
       "   stays_in_weekend_nights  stays_in_week_nights  adults  ...  \\\n",
       "0                        0                     0       2  ...   \n",
       "1                        0                     0       2  ...   \n",
       "2                        0                     1       1  ...   \n",
       "3                        0                     1       1  ...   \n",
       "4                        0                     2       2  ...   \n",
       "\n",
       "   booking_changes  deposit_type  agent  days_in_waiting_list  customer_type  \\\n",
       "0                3             0   14.0                     0              2   \n",
       "1                4             0   14.0                     0              2   \n",
       "2                0             0   14.0                     0              2   \n",
       "3                0             0  304.0                     0              2   \n",
       "4                0             0  240.0                     0              2   \n",
       "\n",
       "    adr  required_car_parking_spaces  total_of_special_requests  \\\n",
       "0   0.0                            0                          0   \n",
       "1   0.0                            0                          0   \n",
       "2  75.0                            0                          0   \n",
       "3  75.0                            0                          0   \n",
       "4  98.0                            0                          1   \n",
       "\n",
       "   reservation_status  reservation_status_date  \n",
       "0                   1                      121  \n",
       "1                   1                      121  \n",
       "2                   1                      122  \n",
       "3                   1                      122  \n",
       "4                   1                      123  \n",
       "\n",
       "[5 rows x 31 columns]"
      ]
     },
     "execution_count": 63,
     "metadata": {},
     "output_type": "execute_result"
    }
   ],
   "source": [
    "hotel.head()"
   ]
  },
  {
   "cell_type": "code",
   "execution_count": 64,
   "id": "d1d63aec",
   "metadata": {},
   "outputs": [],
   "source": [
    "can=hotel[\"is_canceled\"] # saving target column in variable"
   ]
  },
  {
   "cell_type": "code",
   "execution_count": 65,
   "id": "4a8e56ca",
   "metadata": {},
   "outputs": [],
   "source": [
    "hotel=hotel.drop([\"is_canceled\"],axis=1) #droping the target column "
   ]
  },
  {
   "cell_type": "code",
   "execution_count": 66,
   "id": "293b509c",
   "metadata": {},
   "outputs": [
    {
     "data": {
      "text/html": [
       "<div>\n",
       "<style scoped>\n",
       "    .dataframe tbody tr th:only-of-type {\n",
       "        vertical-align: middle;\n",
       "    }\n",
       "\n",
       "    .dataframe tbody tr th {\n",
       "        vertical-align: top;\n",
       "    }\n",
       "\n",
       "    .dataframe thead th {\n",
       "        text-align: right;\n",
       "    }\n",
       "</style>\n",
       "<table border=\"1\" class=\"dataframe\">\n",
       "  <thead>\n",
       "    <tr style=\"text-align: right;\">\n",
       "      <th></th>\n",
       "      <th>hotel</th>\n",
       "      <th>lead_time</th>\n",
       "      <th>arrival_date_year</th>\n",
       "      <th>arrival_date_month</th>\n",
       "      <th>arrival_date_week_number</th>\n",
       "      <th>arrival_date_day_of_month</th>\n",
       "      <th>stays_in_weekend_nights</th>\n",
       "      <th>stays_in_week_nights</th>\n",
       "      <th>adults</th>\n",
       "      <th>children</th>\n",
       "      <th>...</th>\n",
       "      <th>deposit_type</th>\n",
       "      <th>agent</th>\n",
       "      <th>days_in_waiting_list</th>\n",
       "      <th>customer_type</th>\n",
       "      <th>adr</th>\n",
       "      <th>required_car_parking_spaces</th>\n",
       "      <th>total_of_special_requests</th>\n",
       "      <th>reservation_status</th>\n",
       "      <th>reservation_status_date</th>\n",
       "      <th>is_canceled</th>\n",
       "    </tr>\n",
       "  </thead>\n",
       "  <tbody>\n",
       "    <tr>\n",
       "      <th>0</th>\n",
       "      <td>1</td>\n",
       "      <td>342</td>\n",
       "      <td>2015</td>\n",
       "      <td>5</td>\n",
       "      <td>27</td>\n",
       "      <td>1</td>\n",
       "      <td>0</td>\n",
       "      <td>0</td>\n",
       "      <td>2</td>\n",
       "      <td>0.0</td>\n",
       "      <td>...</td>\n",
       "      <td>0</td>\n",
       "      <td>14.0</td>\n",
       "      <td>0</td>\n",
       "      <td>2</td>\n",
       "      <td>0.0</td>\n",
       "      <td>0</td>\n",
       "      <td>0</td>\n",
       "      <td>1</td>\n",
       "      <td>121</td>\n",
       "      <td>0</td>\n",
       "    </tr>\n",
       "    <tr>\n",
       "      <th>1</th>\n",
       "      <td>1</td>\n",
       "      <td>737</td>\n",
       "      <td>2015</td>\n",
       "      <td>5</td>\n",
       "      <td>27</td>\n",
       "      <td>1</td>\n",
       "      <td>0</td>\n",
       "      <td>0</td>\n",
       "      <td>2</td>\n",
       "      <td>0.0</td>\n",
       "      <td>...</td>\n",
       "      <td>0</td>\n",
       "      <td>14.0</td>\n",
       "      <td>0</td>\n",
       "      <td>2</td>\n",
       "      <td>0.0</td>\n",
       "      <td>0</td>\n",
       "      <td>0</td>\n",
       "      <td>1</td>\n",
       "      <td>121</td>\n",
       "      <td>0</td>\n",
       "    </tr>\n",
       "  </tbody>\n",
       "</table>\n",
       "<p>2 rows × 31 columns</p>\n",
       "</div>"
      ],
      "text/plain": [
       "   hotel  lead_time  arrival_date_year  arrival_date_month  \\\n",
       "0      1        342               2015                   5   \n",
       "1      1        737               2015                   5   \n",
       "\n",
       "   arrival_date_week_number  arrival_date_day_of_month  \\\n",
       "0                        27                          1   \n",
       "1                        27                          1   \n",
       "\n",
       "   stays_in_weekend_nights  stays_in_week_nights  adults  children  ...  \\\n",
       "0                        0                     0       2       0.0  ...   \n",
       "1                        0                     0       2       0.0  ...   \n",
       "\n",
       "   deposit_type  agent  days_in_waiting_list  customer_type  adr  \\\n",
       "0             0   14.0                     0              2  0.0   \n",
       "1             0   14.0                     0              2  0.0   \n",
       "\n",
       "   required_car_parking_spaces  total_of_special_requests  reservation_status  \\\n",
       "0                            0                          0                   1   \n",
       "1                            0                          0                   1   \n",
       "\n",
       "   reservation_status_date  is_canceled  \n",
       "0                      121            0  \n",
       "1                      121            0  \n",
       "\n",
       "[2 rows x 31 columns]"
      ]
     },
     "execution_count": 66,
     "metadata": {},
     "output_type": "execute_result"
    }
   ],
   "source": [
    "h_n=pd.concat([hotel,can],axis=1)  #concatenating the dependant and independant columns for moving the target column at last\n",
    "h_n.head(2)                        #it is just for splitting purpose"
   ]
  },
  {
   "cell_type": "code",
   "execution_count": 67,
   "id": "db54909a",
   "metadata": {},
   "outputs": [],
   "source": [
    "# saperating dependant and independant columns\n",
    "x=h_n.iloc[:,:-1]\n",
    "y=h_n.iloc[:,-1]"
   ]
  },
  {
   "cell_type": "code",
   "execution_count": 68,
   "id": "e50f3bbc",
   "metadata": {},
   "outputs": [
    {
     "data": {
      "text/html": [
       "<div>\n",
       "<style scoped>\n",
       "    .dataframe tbody tr th:only-of-type {\n",
       "        vertical-align: middle;\n",
       "    }\n",
       "\n",
       "    .dataframe tbody tr th {\n",
       "        vertical-align: top;\n",
       "    }\n",
       "\n",
       "    .dataframe thead th {\n",
       "        text-align: right;\n",
       "    }\n",
       "</style>\n",
       "<table border=\"1\" class=\"dataframe\">\n",
       "  <thead>\n",
       "    <tr style=\"text-align: right;\">\n",
       "      <th></th>\n",
       "      <th>hotel</th>\n",
       "      <th>lead_time</th>\n",
       "      <th>arrival_date_year</th>\n",
       "      <th>arrival_date_month</th>\n",
       "      <th>arrival_date_week_number</th>\n",
       "      <th>arrival_date_day_of_month</th>\n",
       "      <th>stays_in_weekend_nights</th>\n",
       "      <th>stays_in_week_nights</th>\n",
       "      <th>adults</th>\n",
       "      <th>children</th>\n",
       "      <th>...</th>\n",
       "      <th>booking_changes</th>\n",
       "      <th>deposit_type</th>\n",
       "      <th>agent</th>\n",
       "      <th>days_in_waiting_list</th>\n",
       "      <th>customer_type</th>\n",
       "      <th>adr</th>\n",
       "      <th>required_car_parking_spaces</th>\n",
       "      <th>total_of_special_requests</th>\n",
       "      <th>reservation_status</th>\n",
       "      <th>reservation_status_date</th>\n",
       "    </tr>\n",
       "  </thead>\n",
       "  <tbody>\n",
       "    <tr>\n",
       "      <th>0</th>\n",
       "      <td>1</td>\n",
       "      <td>342</td>\n",
       "      <td>2015</td>\n",
       "      <td>5</td>\n",
       "      <td>27</td>\n",
       "      <td>1</td>\n",
       "      <td>0</td>\n",
       "      <td>0</td>\n",
       "      <td>2</td>\n",
       "      <td>0.0</td>\n",
       "      <td>...</td>\n",
       "      <td>3</td>\n",
       "      <td>0</td>\n",
       "      <td>14.0</td>\n",
       "      <td>0</td>\n",
       "      <td>2</td>\n",
       "      <td>0.0</td>\n",
       "      <td>0</td>\n",
       "      <td>0</td>\n",
       "      <td>1</td>\n",
       "      <td>121</td>\n",
       "    </tr>\n",
       "    <tr>\n",
       "      <th>1</th>\n",
       "      <td>1</td>\n",
       "      <td>737</td>\n",
       "      <td>2015</td>\n",
       "      <td>5</td>\n",
       "      <td>27</td>\n",
       "      <td>1</td>\n",
       "      <td>0</td>\n",
       "      <td>0</td>\n",
       "      <td>2</td>\n",
       "      <td>0.0</td>\n",
       "      <td>...</td>\n",
       "      <td>4</td>\n",
       "      <td>0</td>\n",
       "      <td>14.0</td>\n",
       "      <td>0</td>\n",
       "      <td>2</td>\n",
       "      <td>0.0</td>\n",
       "      <td>0</td>\n",
       "      <td>0</td>\n",
       "      <td>1</td>\n",
       "      <td>121</td>\n",
       "    </tr>\n",
       "  </tbody>\n",
       "</table>\n",
       "<p>2 rows × 30 columns</p>\n",
       "</div>"
      ],
      "text/plain": [
       "   hotel  lead_time  arrival_date_year  arrival_date_month  \\\n",
       "0      1        342               2015                   5   \n",
       "1      1        737               2015                   5   \n",
       "\n",
       "   arrival_date_week_number  arrival_date_day_of_month  \\\n",
       "0                        27                          1   \n",
       "1                        27                          1   \n",
       "\n",
       "   stays_in_weekend_nights  stays_in_week_nights  adults  children  ...  \\\n",
       "0                        0                     0       2       0.0  ...   \n",
       "1                        0                     0       2       0.0  ...   \n",
       "\n",
       "   booking_changes  deposit_type  agent  days_in_waiting_list  customer_type  \\\n",
       "0                3             0   14.0                     0              2   \n",
       "1                4             0   14.0                     0              2   \n",
       "\n",
       "   adr  required_car_parking_spaces  total_of_special_requests  \\\n",
       "0  0.0                            0                          0   \n",
       "1  0.0                            0                          0   \n",
       "\n",
       "   reservation_status  reservation_status_date  \n",
       "0                   1                      121  \n",
       "1                   1                      121  \n",
       "\n",
       "[2 rows x 30 columns]"
      ]
     },
     "execution_count": 68,
     "metadata": {},
     "output_type": "execute_result"
    }
   ],
   "source": [
    "x.head(2)"
   ]
  },
  {
   "cell_type": "code",
   "execution_count": 69,
   "id": "d109ea85",
   "metadata": {},
   "outputs": [
    {
     "data": {
      "text/plain": [
       "0    0\n",
       "1    0\n",
       "2    0\n",
       "3    0\n",
       "4    0\n",
       "Name: is_canceled, dtype: int64"
      ]
     },
     "execution_count": 69,
     "metadata": {},
     "output_type": "execute_result"
    }
   ],
   "source": [
    "y.head()"
   ]
  },
  {
   "cell_type": "code",
   "execution_count": 70,
   "id": "f9f3099e",
   "metadata": {},
   "outputs": [],
   "source": [
    " from sklearn.model_selection import train_test_split"
   ]
  },
  {
   "cell_type": "code",
   "execution_count": 71,
   "id": "a46a0890",
   "metadata": {},
   "outputs": [],
   "source": [
    "# splitting data into train and test\n",
    "x_train,x_test,y_train,y_test=train_test_split(x,y,test_size=0.2,random_state=101)"
   ]
  },
  {
   "cell_type": "code",
   "execution_count": 72,
   "id": "d351923b",
   "metadata": {},
   "outputs": [
    {
     "data": {
      "text/plain": [
       "((95512, 30), (23878, 30), (95512,), (23878,))"
      ]
     },
     "execution_count": 72,
     "metadata": {},
     "output_type": "execute_result"
    }
   ],
   "source": [
    "x_train.shape,x_test.shape,y_train.shape,y_test.shape"
   ]
  },
  {
   "cell_type": "markdown",
   "id": "b006d9eb",
   "metadata": {},
   "source": [
    "# 1. Logistic Regression"
   ]
  },
  {
   "cell_type": "code",
   "execution_count": 73,
   "id": "776033fb",
   "metadata": {},
   "outputs": [],
   "source": [
    "from sklearn.linear_model import LogisticRegression\n",
    "lg=LogisticRegression()"
   ]
  },
  {
   "cell_type": "code",
   "execution_count": 74,
   "id": "6058b115",
   "metadata": {},
   "outputs": [
    {
     "data": {
      "text/plain": [
       "LogisticRegression()"
      ]
     },
     "execution_count": 74,
     "metadata": {},
     "output_type": "execute_result"
    }
   ],
   "source": [
    "lg.fit(x_train,y_train)"
   ]
  },
  {
   "cell_type": "code",
   "execution_count": 75,
   "id": "535f19a6",
   "metadata": {},
   "outputs": [
    {
     "data": {
      "text/plain": [
       "array([0, 0, 0, ..., 0, 1, 1], dtype=int64)"
      ]
     },
     "execution_count": 75,
     "metadata": {},
     "output_type": "execute_result"
    }
   ],
   "source": [
    "lg_p=lg.predict(x_test)\n",
    "lg_p"
   ]
  },
  {
   "cell_type": "code",
   "execution_count": 76,
   "id": "73062231",
   "metadata": {},
   "outputs": [],
   "source": [
    "from sklearn.metrics import confusion_matrix\n",
    "from sklearn.metrics import classification_report"
   ]
  },
  {
   "cell_type": "code",
   "execution_count": 77,
   "id": "e2c99cbe",
   "metadata": {},
   "outputs": [
    {
     "data": {
      "text/plain": [
       "array([[13263,  2849],\n",
       "       [ 1766,  6000]], dtype=int64)"
      ]
     },
     "execution_count": 77,
     "metadata": {},
     "output_type": "execute_result"
    }
   ],
   "source": [
    "lg_c=confusion_matrix(lg_p,y_test)\n",
    "lg_c"
   ]
  },
  {
   "cell_type": "code",
   "execution_count": 78,
   "id": "4c7ce269",
   "metadata": {},
   "outputs": [
    {
     "data": {
      "text/plain": [
       "80.67258564368875"
      ]
     },
     "execution_count": 78,
     "metadata": {},
     "output_type": "execute_result"
    }
   ],
   "source": [
    "lg_ac=lg_c.diagonal().sum()/lg_c.sum()*100\n",
    "lg_ac"
   ]
  },
  {
   "cell_type": "code",
   "execution_count": 79,
   "id": "e4c2dbbd",
   "metadata": {},
   "outputs": [
    {
     "name": "stdout",
     "output_type": "stream",
     "text": [
      "              precision    recall  f1-score   support\n",
      "\n",
      "           0       0.88      0.82      0.85     16112\n",
      "           1       0.68      0.77      0.72      7766\n",
      "\n",
      "    accuracy                           0.81     23878\n",
      "   macro avg       0.78      0.80      0.79     23878\n",
      "weighted avg       0.82      0.81      0.81     23878\n",
      "\n"
     ]
    }
   ],
   "source": [
    "print(classification_report(lg_p,y_test))"
   ]
  },
  {
   "cell_type": "code",
   "execution_count": 80,
   "id": "455040e4",
   "metadata": {},
   "outputs": [],
   "source": [
    "from sklearn.metrics import accuracy_score, f1_score, precision_score, recall_score, classification_report, confusion_matrix"
   ]
  },
  {
   "cell_type": "code",
   "execution_count": 81,
   "id": "ec810527",
   "metadata": {},
   "outputs": [],
   "source": [
    "lg_f=f1_score(y_test, lg_p, average=\"macro\")\n",
    "lg_pr=precision_score(y_test,lg_p, average=\"macro\")\n",
    "lg_r=recall_score(y_test,lg_p, average=\"macro\")"
   ]
  },
  {
   "cell_type": "markdown",
   "id": "8d5cac92",
   "metadata": {},
   "source": [
    "# 2. Decision Tree"
   ]
  },
  {
   "cell_type": "code",
   "execution_count": 82,
   "id": "b0e21b32",
   "metadata": {},
   "outputs": [],
   "source": [
    "from sklearn.tree import DecisionTreeClassifier\n",
    "dt=DecisionTreeClassifier()"
   ]
  },
  {
   "cell_type": "code",
   "execution_count": 83,
   "id": "1bdc473f",
   "metadata": {},
   "outputs": [
    {
     "data": {
      "text/plain": [
       "DecisionTreeClassifier()"
      ]
     },
     "execution_count": 83,
     "metadata": {},
     "output_type": "execute_result"
    }
   ],
   "source": [
    "dt.fit(x_train,y_train)"
   ]
  },
  {
   "cell_type": "code",
   "execution_count": 84,
   "id": "6f419f0d",
   "metadata": {},
   "outputs": [
    {
     "data": {
      "text/plain": [
       "array([1, 0, 1, ..., 0, 1, 1], dtype=int64)"
      ]
     },
     "execution_count": 84,
     "metadata": {},
     "output_type": "execute_result"
    }
   ],
   "source": [
    "dt_p=dt.predict(x_test)\n",
    "dt_p"
   ]
  },
  {
   "cell_type": "code",
   "execution_count": 85,
   "id": "5e4a342c",
   "metadata": {},
   "outputs": [
    {
     "data": {
      "text/plain": [
       "array([[15029,     0],\n",
       "       [    0,  8849]], dtype=int64)"
      ]
     },
     "execution_count": 85,
     "metadata": {},
     "output_type": "execute_result"
    }
   ],
   "source": [
    "dt_c=confusion_matrix(dt_p,y_test)\n",
    "dt_c"
   ]
  },
  {
   "cell_type": "code",
   "execution_count": 86,
   "id": "3c9b5439",
   "metadata": {},
   "outputs": [
    {
     "data": {
      "text/plain": [
       "100.0"
      ]
     },
     "execution_count": 86,
     "metadata": {},
     "output_type": "execute_result"
    }
   ],
   "source": [
    "dt_ac=dt_c.diagonal().sum()/dt_c.sum()*100\n",
    "dt_ac"
   ]
  },
  {
   "cell_type": "code",
   "execution_count": 87,
   "id": "d8e756a1",
   "metadata": {},
   "outputs": [
    {
     "name": "stdout",
     "output_type": "stream",
     "text": [
      "              precision    recall  f1-score   support\n",
      "\n",
      "           0       1.00      1.00      1.00     15029\n",
      "           1       1.00      1.00      1.00      8849\n",
      "\n",
      "    accuracy                           1.00     23878\n",
      "   macro avg       1.00      1.00      1.00     23878\n",
      "weighted avg       1.00      1.00      1.00     23878\n",
      "\n"
     ]
    }
   ],
   "source": [
    "print(classification_report(dt_p,y_test))"
   ]
  },
  {
   "cell_type": "code",
   "execution_count": 88,
   "id": "af79a606",
   "metadata": {},
   "outputs": [],
   "source": [
    "dt_f=f1_score(y_test, dt_p, average=\"macro\")\n",
    "dt_pr=precision_score(y_test,dt_p, average=\"macro\")\n",
    "dt_r=recall_score(y_test,dt_p, average=\"macro\")"
   ]
  },
  {
   "cell_type": "markdown",
   "id": "26dd053b",
   "metadata": {},
   "source": [
    "# 3. Random Forest"
   ]
  },
  {
   "cell_type": "code",
   "execution_count": 89,
   "id": "cc57fac3",
   "metadata": {},
   "outputs": [],
   "source": [
    "from sklearn.ensemble import RandomForestClassifier\n",
    "rf=RandomForestClassifier()"
   ]
  },
  {
   "cell_type": "code",
   "execution_count": 90,
   "id": "17b6e15d",
   "metadata": {},
   "outputs": [
    {
     "data": {
      "text/plain": [
       "RandomForestClassifier()"
      ]
     },
     "execution_count": 90,
     "metadata": {},
     "output_type": "execute_result"
    }
   ],
   "source": [
    "rf.fit(x_train,y_train)"
   ]
  },
  {
   "cell_type": "code",
   "execution_count": 91,
   "id": "ead09dc6",
   "metadata": {},
   "outputs": [
    {
     "data": {
      "text/plain": [
       "array([1, 0, 1, ..., 0, 1, 1], dtype=int64)"
      ]
     },
     "execution_count": 91,
     "metadata": {},
     "output_type": "execute_result"
    }
   ],
   "source": [
    "rf_p=rf.predict(x_test)\n",
    "rf_p"
   ]
  },
  {
   "cell_type": "code",
   "execution_count": 92,
   "id": "d597a284",
   "metadata": {},
   "outputs": [
    {
     "data": {
      "text/plain": [
       "array([[15029,     2],\n",
       "       [    0,  8847]], dtype=int64)"
      ]
     },
     "execution_count": 92,
     "metadata": {},
     "output_type": "execute_result"
    }
   ],
   "source": [
    "rf_c=confusion_matrix(rf_p,y_test)\n",
    "rf_c"
   ]
  },
  {
   "cell_type": "code",
   "execution_count": 93,
   "id": "a3e92c8d",
   "metadata": {},
   "outputs": [
    {
     "data": {
      "text/plain": [
       "99.9916240891197"
      ]
     },
     "execution_count": 93,
     "metadata": {},
     "output_type": "execute_result"
    }
   ],
   "source": [
    "rf_ac=rf_c.diagonal().sum()/rf_c.sum()*100\n",
    "rf_ac"
   ]
  },
  {
   "cell_type": "code",
   "execution_count": 94,
   "id": "640998c3",
   "metadata": {},
   "outputs": [
    {
     "name": "stdout",
     "output_type": "stream",
     "text": [
      "              precision    recall  f1-score   support\n",
      "\n",
      "           0       1.00      1.00      1.00     15031\n",
      "           1       1.00      1.00      1.00      8847\n",
      "\n",
      "    accuracy                           1.00     23878\n",
      "   macro avg       1.00      1.00      1.00     23878\n",
      "weighted avg       1.00      1.00      1.00     23878\n",
      "\n"
     ]
    }
   ],
   "source": [
    "print(classification_report(rf_p,y_test))"
   ]
  },
  {
   "cell_type": "code",
   "execution_count": 95,
   "id": "7516c09f",
   "metadata": {},
   "outputs": [],
   "source": [
    "rf_f=f1_score(y_test, rf_p, average=\"macro\")\n",
    "rf_pr=precision_score(y_test,rf_p, average=\"macro\")\n",
    "rf_r=recall_score(y_test,rf_p, average=\"macro\")"
   ]
  },
  {
   "cell_type": "markdown",
   "id": "8dfed99e",
   "metadata": {},
   "source": [
    "# 4. Boosting\n",
    "# 4.1 Ada Boost"
   ]
  },
  {
   "cell_type": "code",
   "execution_count": 96,
   "id": "4deebf95",
   "metadata": {},
   "outputs": [],
   "source": [
    "from sklearn.ensemble import AdaBoostClassifier\n",
    "from sklearn.tree import DecisionTreeClassifier"
   ]
  },
  {
   "cell_type": "code",
   "execution_count": 97,
   "id": "0ec595e8",
   "metadata": {},
   "outputs": [],
   "source": [
    "ab=AdaBoostClassifier(DecisionTreeClassifier(),n_estimators=2)"
   ]
  },
  {
   "cell_type": "code",
   "execution_count": 98,
   "id": "40ad60b7",
   "metadata": {},
   "outputs": [
    {
     "data": {
      "text/plain": [
       "AdaBoostClassifier(base_estimator=DecisionTreeClassifier(), n_estimators=2)"
      ]
     },
     "execution_count": 98,
     "metadata": {},
     "output_type": "execute_result"
    }
   ],
   "source": [
    "ab.fit(x_train,y_train)"
   ]
  },
  {
   "cell_type": "code",
   "execution_count": 99,
   "id": "3b6e2b56",
   "metadata": {},
   "outputs": [
    {
     "data": {
      "text/plain": [
       "array([1, 0, 1, ..., 0, 1, 1], dtype=int64)"
      ]
     },
     "execution_count": 99,
     "metadata": {},
     "output_type": "execute_result"
    }
   ],
   "source": [
    "ab_p=ab.predict(x_test)\n",
    "ab_p"
   ]
  },
  {
   "cell_type": "code",
   "execution_count": 100,
   "id": "db0b706d",
   "metadata": {},
   "outputs": [
    {
     "data": {
      "text/plain": [
       "array([[15029,     0],\n",
       "       [    0,  8849]], dtype=int64)"
      ]
     },
     "execution_count": 100,
     "metadata": {},
     "output_type": "execute_result"
    }
   ],
   "source": [
    "ab_c=confusion_matrix(ab_p,y_test)\n",
    "ab_c"
   ]
  },
  {
   "cell_type": "code",
   "execution_count": 101,
   "id": "3fd41b43",
   "metadata": {},
   "outputs": [
    {
     "data": {
      "text/plain": [
       "100.0"
      ]
     },
     "execution_count": 101,
     "metadata": {},
     "output_type": "execute_result"
    }
   ],
   "source": [
    "ab_ac=ab_c.diagonal().sum()/ab_c.sum()*100\n",
    "ab_ac"
   ]
  },
  {
   "cell_type": "code",
   "execution_count": 102,
   "id": "354d1bb4",
   "metadata": {},
   "outputs": [
    {
     "name": "stdout",
     "output_type": "stream",
     "text": [
      "              precision    recall  f1-score   support\n",
      "\n",
      "           0       1.00      1.00      1.00     15029\n",
      "           1       1.00      1.00      1.00      8849\n",
      "\n",
      "    accuracy                           1.00     23878\n",
      "   macro avg       1.00      1.00      1.00     23878\n",
      "weighted avg       1.00      1.00      1.00     23878\n",
      "\n"
     ]
    }
   ],
   "source": [
    "print(classification_report(ab_p,y_test))"
   ]
  },
  {
   "cell_type": "code",
   "execution_count": 103,
   "id": "6b9ea0f2",
   "metadata": {},
   "outputs": [],
   "source": [
    "ab_f=f1_score(y_test, ab_p, average=\"macro\")\n",
    "ab_pr=precision_score(y_test,ab_p, average=\"macro\")\n",
    "ab_r=recall_score(y_test,ab_p, average=\"macro\")"
   ]
  },
  {
   "cell_type": "markdown",
   "id": "f318a83c",
   "metadata": {},
   "source": [
    "# 4.2 XG Boost"
   ]
  },
  {
   "cell_type": "code",
   "execution_count": 104,
   "id": "422b3b0a",
   "metadata": {},
   "outputs": [],
   "source": [
    "from xgboost import XGBClassifier\n",
    "xg=XGBClassifier()"
   ]
  },
  {
   "cell_type": "code",
   "execution_count": 105,
   "id": "24cb2a02",
   "metadata": {},
   "outputs": [
    {
     "data": {
      "text/plain": [
       "XGBClassifier(base_score=None, booster=None, callbacks=None,\n",
       "              colsample_bylevel=None, colsample_bynode=None,\n",
       "              colsample_bytree=None, early_stopping_rounds=None,\n",
       "              enable_categorical=False, eval_metric=None, feature_types=None,\n",
       "              gamma=None, gpu_id=None, grow_policy=None, importance_type=None,\n",
       "              interaction_constraints=None, learning_rate=None, max_bin=None,\n",
       "              max_cat_threshold=None, max_cat_to_onehot=None,\n",
       "              max_delta_step=None, max_depth=None, max_leaves=None,\n",
       "              min_child_weight=None, missing=nan, monotone_constraints=None,\n",
       "              n_estimators=100, n_jobs=None, num_parallel_tree=None,\n",
       "              predictor=None, random_state=None, ...)"
      ]
     },
     "execution_count": 105,
     "metadata": {},
     "output_type": "execute_result"
    }
   ],
   "source": [
    "xg.fit(x_train,y_train)"
   ]
  },
  {
   "cell_type": "code",
   "execution_count": 106,
   "id": "4d821f08",
   "metadata": {},
   "outputs": [
    {
     "data": {
      "text/plain": [
       "array([1, 0, 1, ..., 0, 1, 1])"
      ]
     },
     "execution_count": 106,
     "metadata": {},
     "output_type": "execute_result"
    }
   ],
   "source": [
    "xg_p=xg.predict(x_test)\n",
    "xg_p"
   ]
  },
  {
   "cell_type": "code",
   "execution_count": 107,
   "id": "66e35664",
   "metadata": {},
   "outputs": [
    {
     "data": {
      "text/plain": [
       "array([[15029,     0],\n",
       "       [    0,  8849]], dtype=int64)"
      ]
     },
     "execution_count": 107,
     "metadata": {},
     "output_type": "execute_result"
    }
   ],
   "source": [
    "xg_c=confusion_matrix(xg_p,y_test)\n",
    "xg_c"
   ]
  },
  {
   "cell_type": "code",
   "execution_count": 108,
   "id": "e420820a",
   "metadata": {},
   "outputs": [
    {
     "data": {
      "text/plain": [
       "100.0"
      ]
     },
     "execution_count": 108,
     "metadata": {},
     "output_type": "execute_result"
    }
   ],
   "source": [
    "xg_ac=xg_c.diagonal().sum()/xg_c.sum()*100\n",
    "xg_ac"
   ]
  },
  {
   "cell_type": "code",
   "execution_count": 109,
   "id": "e72ec9d1",
   "metadata": {},
   "outputs": [
    {
     "name": "stdout",
     "output_type": "stream",
     "text": [
      "              precision    recall  f1-score   support\n",
      "\n",
      "           0       1.00      1.00      1.00     15029\n",
      "           1       1.00      1.00      1.00      8849\n",
      "\n",
      "    accuracy                           1.00     23878\n",
      "   macro avg       1.00      1.00      1.00     23878\n",
      "weighted avg       1.00      1.00      1.00     23878\n",
      "\n"
     ]
    }
   ],
   "source": [
    "print(classification_report(xg_p,y_test))"
   ]
  },
  {
   "cell_type": "code",
   "execution_count": 110,
   "id": "38212626",
   "metadata": {},
   "outputs": [],
   "source": [
    "xg_f=f1_score(y_test, xg_p, average=\"macro\")\n",
    "xg_pr=precision_score(y_test,xg_p, average=\"macro\")\n",
    "xg_r=recall_score(y_test,xg_p, average=\"macro\")"
   ]
  },
  {
   "cell_type": "markdown",
   "id": "00b2eaa6",
   "metadata": {},
   "source": [
    "# 5. SVM"
   ]
  },
  {
   "cell_type": "code",
   "execution_count": 111,
   "id": "61a4c6d8",
   "metadata": {},
   "outputs": [],
   "source": [
    "from sklearn.svm import SVC\n",
    "sv=SVC() "
   ]
  },
  {
   "cell_type": "code",
   "execution_count": 112,
   "id": "e3085f55",
   "metadata": {},
   "outputs": [
    {
     "data": {
      "text/plain": [
       "SVC()"
      ]
     },
     "execution_count": 112,
     "metadata": {},
     "output_type": "execute_result"
    }
   ],
   "source": [
    "sv.fit(x_train,y_train)"
   ]
  },
  {
   "cell_type": "code",
   "execution_count": 113,
   "id": "0f6a48dc",
   "metadata": {},
   "outputs": [
    {
     "data": {
      "text/plain": [
       "array([0, 0, 1, ..., 0, 1, 0], dtype=int64)"
      ]
     },
     "execution_count": 113,
     "metadata": {},
     "output_type": "execute_result"
    }
   ],
   "source": [
    "sv_p=sv.predict(x_test)\n",
    "sv_p"
   ]
  },
  {
   "cell_type": "code",
   "execution_count": 114,
   "id": "2aa6df1d",
   "metadata": {},
   "outputs": [
    {
     "data": {
      "text/plain": [
       "array([[14190,  5903],\n",
       "       [  839,  2946]], dtype=int64)"
      ]
     },
     "execution_count": 114,
     "metadata": {},
     "output_type": "execute_result"
    }
   ],
   "source": [
    "sv_c=confusion_matrix(sv_p,y_test)\n",
    "sv_c"
   ]
  },
  {
   "cell_type": "code",
   "execution_count": 115,
   "id": "11d4507c",
   "metadata": {},
   "outputs": [
    {
     "data": {
      "text/plain": [
       "71.76480442248095"
      ]
     },
     "execution_count": 115,
     "metadata": {},
     "output_type": "execute_result"
    }
   ],
   "source": [
    "sv_ac=sv_c.diagonal().sum()/sv_c.sum()*100\n",
    "sv_ac"
   ]
  },
  {
   "cell_type": "code",
   "execution_count": 116,
   "id": "346d0053",
   "metadata": {},
   "outputs": [
    {
     "name": "stdout",
     "output_type": "stream",
     "text": [
      "              precision    recall  f1-score   support\n",
      "\n",
      "           0       0.94      0.71      0.81     20093\n",
      "           1       0.33      0.78      0.47      3785\n",
      "\n",
      "    accuracy                           0.72     23878\n",
      "   macro avg       0.64      0.74      0.64     23878\n",
      "weighted avg       0.85      0.72      0.75     23878\n",
      "\n"
     ]
    }
   ],
   "source": [
    "print(classification_report(sv_p,y_test))"
   ]
  },
  {
   "cell_type": "code",
   "execution_count": 117,
   "id": "191a4cf9",
   "metadata": {},
   "outputs": [],
   "source": [
    "sv_f=f1_score(y_test, sv_p, average=\"macro\")\n",
    "sv_pr=precision_score(y_test,sv_p, average=\"macro\")\n",
    "sv_r=recall_score(y_test,sv_p, average=\"macro\")"
   ]
  },
  {
   "cell_type": "markdown",
   "id": "0ff96e50",
   "metadata": {},
   "source": [
    "# 6. KNN"
   ]
  },
  {
   "cell_type": "code",
   "execution_count": 118,
   "id": "9e69ddeb",
   "metadata": {},
   "outputs": [],
   "source": [
    "from sklearn.neighbors import KNeighborsClassifier\n",
    "kn=KNeighborsClassifier(n_neighbors=24)"
   ]
  },
  {
   "cell_type": "code",
   "execution_count": 119,
   "id": "8d61785f",
   "metadata": {},
   "outputs": [
    {
     "data": {
      "text/plain": [
       "KNeighborsClassifier(n_neighbors=24)"
      ]
     },
     "execution_count": 119,
     "metadata": {},
     "output_type": "execute_result"
    }
   ],
   "source": [
    "kn.fit(x_train,y_train)"
   ]
  },
  {
   "cell_type": "code",
   "execution_count": 120,
   "id": "4466d318",
   "metadata": {},
   "outputs": [
    {
     "data": {
      "text/plain": [
       "array([1, 0, 1, ..., 0, 1, 1], dtype=int64)"
      ]
     },
     "execution_count": 120,
     "metadata": {},
     "output_type": "execute_result"
    }
   ],
   "source": [
    "kn_p=kn.predict(x_test)\n",
    "kn_p"
   ]
  },
  {
   "cell_type": "code",
   "execution_count": 121,
   "id": "8ff37de1",
   "metadata": {},
   "outputs": [
    {
     "data": {
      "text/plain": [
       "array([[14312,  2599],\n",
       "       [  717,  6250]], dtype=int64)"
      ]
     },
     "execution_count": 121,
     "metadata": {},
     "output_type": "execute_result"
    }
   ],
   "source": [
    "kn_c=confusion_matrix(kn_p,y_test)\n",
    "kn_c"
   ]
  },
  {
   "cell_type": "code",
   "execution_count": 122,
   "id": "cc60c44c",
   "metadata": {},
   "outputs": [
    {
     "data": {
      "text/plain": [
       "86.11273976044896"
      ]
     },
     "execution_count": 122,
     "metadata": {},
     "output_type": "execute_result"
    }
   ],
   "source": [
    "kn_ac=kn_c.diagonal().sum()/kn_c.sum()*100\n",
    "kn_ac"
   ]
  },
  {
   "cell_type": "code",
   "execution_count": 123,
   "id": "2fa90c04",
   "metadata": {},
   "outputs": [
    {
     "name": "stdout",
     "output_type": "stream",
     "text": [
      "              precision    recall  f1-score   support\n",
      "\n",
      "           0       0.95      0.85      0.90     16911\n",
      "           1       0.71      0.90      0.79      6967\n",
      "\n",
      "    accuracy                           0.86     23878\n",
      "   macro avg       0.83      0.87      0.84     23878\n",
      "weighted avg       0.88      0.86      0.87     23878\n",
      "\n"
     ]
    }
   ],
   "source": [
    "print(classification_report(kn_p,y_test))"
   ]
  },
  {
   "cell_type": "code",
   "execution_count": 124,
   "id": "98145b43",
   "metadata": {},
   "outputs": [],
   "source": [
    "#AUC ROC curve \n",
    "from sklearn.metrics import roc_auc_score\n",
    "from sklearn.metrics import roc_curve \n",
    "#As the values of TrueNegetives are less than the values of True positives therefore using AUC ROC Curve"
   ]
  },
  {
   "cell_type": "code",
   "execution_count": 125,
   "id": "62979893",
   "metadata": {},
   "outputs": [
    {
     "data": {
      "text/plain": [
       "0.8716996572461013"
      ]
     },
     "execution_count": 125,
     "metadata": {},
     "output_type": "execute_result"
    }
   ],
   "source": [
    "roc=roc_auc_score(kn_p,y_test) \n",
    "roc"
   ]
  },
  {
   "cell_type": "code",
   "execution_count": 126,
   "id": "5a3299c1",
   "metadata": {},
   "outputs": [],
   "source": [
    "kn_prob=kn.predict_proba(x_test)"
   ]
  },
  {
   "cell_type": "code",
   "execution_count": 127,
   "id": "b1c14145",
   "metadata": {},
   "outputs": [
    {
     "data": {
      "text/html": [
       "<div>\n",
       "<style scoped>\n",
       "    .dataframe tbody tr th:only-of-type {\n",
       "        vertical-align: middle;\n",
       "    }\n",
       "\n",
       "    .dataframe tbody tr th {\n",
       "        vertical-align: top;\n",
       "    }\n",
       "\n",
       "    .dataframe thead th {\n",
       "        text-align: right;\n",
       "    }\n",
       "</style>\n",
       "<table border=\"1\" class=\"dataframe\">\n",
       "  <thead>\n",
       "    <tr style=\"text-align: right;\">\n",
       "      <th></th>\n",
       "      <th>0</th>\n",
       "      <th>1</th>\n",
       "    </tr>\n",
       "  </thead>\n",
       "  <tbody>\n",
       "    <tr>\n",
       "      <th>0</th>\n",
       "      <td>0.458333</td>\n",
       "      <td>0.541667</td>\n",
       "    </tr>\n",
       "    <tr>\n",
       "      <th>1</th>\n",
       "      <td>1.000000</td>\n",
       "      <td>0.000000</td>\n",
       "    </tr>\n",
       "    <tr>\n",
       "      <th>2</th>\n",
       "      <td>0.083333</td>\n",
       "      <td>0.916667</td>\n",
       "    </tr>\n",
       "    <tr>\n",
       "      <th>3</th>\n",
       "      <td>0.000000</td>\n",
       "      <td>1.000000</td>\n",
       "    </tr>\n",
       "    <tr>\n",
       "      <th>4</th>\n",
       "      <td>0.083333</td>\n",
       "      <td>0.916667</td>\n",
       "    </tr>\n",
       "    <tr>\n",
       "      <th>...</th>\n",
       "      <td>...</td>\n",
       "      <td>...</td>\n",
       "    </tr>\n",
       "    <tr>\n",
       "      <th>23873</th>\n",
       "      <td>0.875000</td>\n",
       "      <td>0.125000</td>\n",
       "    </tr>\n",
       "    <tr>\n",
       "      <th>23874</th>\n",
       "      <td>0.875000</td>\n",
       "      <td>0.125000</td>\n",
       "    </tr>\n",
       "    <tr>\n",
       "      <th>23875</th>\n",
       "      <td>1.000000</td>\n",
       "      <td>0.000000</td>\n",
       "    </tr>\n",
       "    <tr>\n",
       "      <th>23876</th>\n",
       "      <td>0.000000</td>\n",
       "      <td>1.000000</td>\n",
       "    </tr>\n",
       "    <tr>\n",
       "      <th>23877</th>\n",
       "      <td>0.291667</td>\n",
       "      <td>0.708333</td>\n",
       "    </tr>\n",
       "  </tbody>\n",
       "</table>\n",
       "<p>23878 rows × 2 columns</p>\n",
       "</div>"
      ],
      "text/plain": [
       "              0         1\n",
       "0      0.458333  0.541667\n",
       "1      1.000000  0.000000\n",
       "2      0.083333  0.916667\n",
       "3      0.000000  1.000000\n",
       "4      0.083333  0.916667\n",
       "...         ...       ...\n",
       "23873  0.875000  0.125000\n",
       "23874  0.875000  0.125000\n",
       "23875  1.000000  0.000000\n",
       "23876  0.000000  1.000000\n",
       "23877  0.291667  0.708333\n",
       "\n",
       "[23878 rows x 2 columns]"
      ]
     },
     "execution_count": 127,
     "metadata": {},
     "output_type": "execute_result"
    }
   ],
   "source": [
    "df=pd.DataFrame(kn_prob)\n",
    "df"
   ]
  },
  {
   "cell_type": "code",
   "execution_count": 128,
   "id": "49386591",
   "metadata": {},
   "outputs": [],
   "source": [
    "fpr,tpr,threshold=roc_curve(y_test,df.iloc[:,1])"
   ]
  },
  {
   "cell_type": "code",
   "execution_count": 129,
   "id": "19eebbab",
   "metadata": {},
   "outputs": [
    {
     "data": {
      "text/plain": [
       "Text(0.5, 1.0, 'AUC-ROC Curve')"
      ]
     },
     "execution_count": 129,
     "metadata": {},
     "output_type": "execute_result"
    },
    {
     "data": {
      "image/png": "[encoded data removed]",
      "text/plain": [
       "<Figure size 576x576 with 1 Axes>"
      ]
     },
     "metadata": {
      "needs_background": "light"
     },
     "output_type": "display_data"
    }
   ],
   "source": [
    "plt.plot(fpr,tpr,marker=\".\")\n",
    "plt.xlabel(\"False Positive Rate\")\n",
    "plt.ylabel(\"True positive Rate\")\n",
    "plt.title(\"AUC-ROC Curve\")"
   ]
  },
  {
   "cell_type": "code",
   "execution_count": 130,
   "id": "b7f30348",
   "metadata": {},
   "outputs": [],
   "source": [
    "kn_f=f1_score(y_test, kn_p, average=\"macro\")\n",
    "kn_pr=precision_score(y_test,kn_p, average=\"macro\")\n",
    "kn_r=recall_score(y_test,kn_p, average=\"macro\")"
   ]
  },
  {
   "cell_type": "markdown",
   "id": "8a1b92df",
   "metadata": {},
   "source": [
    "# 7. Naive Bayes"
   ]
  },
  {
   "cell_type": "code",
   "execution_count": 131,
   "id": "afed181b",
   "metadata": {},
   "outputs": [],
   "source": [
    "from sklearn.naive_bayes import MultinomialNB\n",
    "nb=MultinomialNB()"
   ]
  },
  {
   "cell_type": "code",
   "execution_count": 132,
   "id": "d7176dbf",
   "metadata": {},
   "outputs": [],
   "source": [
    "from sklearn.preprocessing import MinMaxScaler #fixed import\n",
    "\n",
    "scaler = MinMaxScaler()\n",
    "x_train = scaler.fit_transform(x_train)\n",
    "x_test = scaler.transform(x_test)"
   ]
  },
  {
   "cell_type": "code",
   "execution_count": 133,
   "id": "0109ce64",
   "metadata": {},
   "outputs": [
    {
     "data": {
      "text/plain": [
       "MultinomialNB()"
      ]
     },
     "execution_count": 133,
     "metadata": {},
     "output_type": "execute_result"
    }
   ],
   "source": [
    "nb.fit(x_train,y_train)"
   ]
  },
  {
   "cell_type": "code",
   "execution_count": 134,
   "id": "a954b5b4",
   "metadata": {},
   "outputs": [
    {
     "data": {
      "text/plain": [
       "array([0, 0, 1, ..., 0, 1, 1], dtype=int64)"
      ]
     },
     "execution_count": 134,
     "metadata": {},
     "output_type": "execute_result"
    }
   ],
   "source": [
    "nb_p=nb.predict(x_test)\n",
    "nb_p"
   ]
  },
  {
   "cell_type": "code",
   "execution_count": 135,
   "id": "12ae6c86",
   "metadata": {},
   "outputs": [
    {
     "data": {
      "text/plain": [
       "array([[14989,  4330],\n",
       "       [   40,  4519]], dtype=int64)"
      ]
     },
     "execution_count": 135,
     "metadata": {},
     "output_type": "execute_result"
    }
   ],
   "source": [
    "nb_c=confusion_matrix(nb_p,y_test)\n",
    "nb_c"
   ]
  },
  {
   "cell_type": "code",
   "execution_count": 136,
   "id": "2071b6cb",
   "metadata": {},
   "outputs": [
    {
     "data": {
      "text/plain": [
       "81.6986347265265"
      ]
     },
     "execution_count": 136,
     "metadata": {},
     "output_type": "execute_result"
    }
   ],
   "source": [
    "\n",
    "nb_ac=nb_c.diagonal().sum()/nb_c.sum()*100\n",
    "nb_ac"
   ]
  },
  {
   "cell_type": "code",
   "execution_count": 137,
   "id": "4d62d42f",
   "metadata": {},
   "outputs": [
    {
     "name": "stdout",
     "output_type": "stream",
     "text": [
      "              precision    recall  f1-score   support\n",
      "\n",
      "           0       1.00      0.78      0.87     19319\n",
      "           1       0.51      0.99      0.67      4559\n",
      "\n",
      "    accuracy                           0.82     23878\n",
      "   macro avg       0.75      0.88      0.77     23878\n",
      "weighted avg       0.90      0.82      0.83     23878\n",
      "\n"
     ]
    }
   ],
   "source": [
    "print(classification_report(nb_p,y_test))"
   ]
  },
  {
   "cell_type": "code",
   "execution_count": 138,
   "id": "f47ccb24",
   "metadata": {},
   "outputs": [],
   "source": [
    "nb_f=f1_score(y_test, nb_p, average=\"macro\")\n",
    "nb_pr=precision_score(y_test,nb_p, average=\"macro\")\n",
    "nb_r=recall_score(y_test,nb_p, average=\"macro\")"
   ]
  },
  {
   "cell_type": "markdown",
   "id": "98a3d1e1",
   "metadata": {},
   "source": [
    "# Conclusion"
   ]
  },
  {
   "cell_type": "code",
   "execution_count": 139,
   "id": "3a61b96e",
   "metadata": {},
   "outputs": [],
   "source": [
    "list1=[\"Logistic Regression\",\"Decision Tree\",\"Random Forest\",\"Ada Boost\",\"XG Boost\",\"SVM\",\"KNN\",\"Naive Bayes\"] \n",
    "list2=[lg_ac,dt_ac,rf_ac,ab_ac,xg_ac,sv_ac,kn_ac,nb_ac]   \n",
    "list3=[lg_pr,dt_pr,rf_pr,ab_pr,xg_pr,sv_pr,kn_pr,nb_pr]\n",
    "list4=[lg_r,dt_r,rf_r,ab_r,xg_r,sv_r,kn_r,nb_r]\n",
    "list5=[lg_f,dt_f,rf_f,ab_f,xg_f,sv_f,kn_f,nb_f]"
   ]
  },
  {
   "cell_type": "code",
   "execution_count": 140,
   "id": "e476f80d",
   "metadata": {},
   "outputs": [
    {
     "data": {
      "text/html": [
       "<div>\n",
       "<style scoped>\n",
       "    .dataframe tbody tr th:only-of-type {\n",
       "        vertical-align: middle;\n",
       "    }\n",
       "\n",
       "    .dataframe tbody tr th {\n",
       "        vertical-align: top;\n",
       "    }\n",
       "\n",
       "    .dataframe thead th {\n",
       "        text-align: right;\n",
       "    }\n",
       "</style>\n",
       "<table border=\"1\" class=\"dataframe\">\n",
       "  <thead>\n",
       "    <tr style=\"text-align: right;\">\n",
       "      <th></th>\n",
       "      <th>Model Name</th>\n",
       "      <th>Accuracy</th>\n",
       "      <th>Precision</th>\n",
       "      <th>Recall</th>\n",
       "      <th>F1-Score</th>\n",
       "    </tr>\n",
       "  </thead>\n",
       "  <tbody>\n",
       "    <tr>\n",
       "      <th>0</th>\n",
       "      <td>Logistic Regression</td>\n",
       "      <td>80.672586</td>\n",
       "      <td>0.797887</td>\n",
       "      <td>0.780268</td>\n",
       "      <td>0.787021</td>\n",
       "    </tr>\n",
       "    <tr>\n",
       "      <th>1</th>\n",
       "      <td>Decision Tree</td>\n",
       "      <td>100.000000</td>\n",
       "      <td>1.000000</td>\n",
       "      <td>1.000000</td>\n",
       "      <td>1.000000</td>\n",
       "    </tr>\n",
       "    <tr>\n",
       "      <th>2</th>\n",
       "      <td>Random Forest</td>\n",
       "      <td>99.991624</td>\n",
       "      <td>0.999933</td>\n",
       "      <td>0.999887</td>\n",
       "      <td>0.999910</td>\n",
       "    </tr>\n",
       "    <tr>\n",
       "      <th>3</th>\n",
       "      <td>Ada Boost</td>\n",
       "      <td>100.000000</td>\n",
       "      <td>1.000000</td>\n",
       "      <td>1.000000</td>\n",
       "      <td>1.000000</td>\n",
       "    </tr>\n",
       "    <tr>\n",
       "      <th>4</th>\n",
       "      <td>XG Boost</td>\n",
       "      <td>100.000000</td>\n",
       "      <td>1.000000</td>\n",
       "      <td>1.000000</td>\n",
       "      <td>1.000000</td>\n",
       "    </tr>\n",
       "    <tr>\n",
       "      <th>5</th>\n",
       "      <td>SVM</td>\n",
       "      <td>71.764804</td>\n",
       "      <td>0.742276</td>\n",
       "      <td>0.638547</td>\n",
       "      <td>0.637201</td>\n",
       "    </tr>\n",
       "    <tr>\n",
       "      <th>6</th>\n",
       "      <td>KNN</td>\n",
       "      <td>86.112740</td>\n",
       "      <td>0.871700</td>\n",
       "      <td>0.829293</td>\n",
       "      <td>0.843260</td>\n",
       "    </tr>\n",
       "    <tr>\n",
       "      <th>7</th>\n",
       "      <td>Naive Bayes</td>\n",
       "      <td>81.698635</td>\n",
       "      <td>0.883547</td>\n",
       "      <td>0.754009</td>\n",
       "      <td>0.773424</td>\n",
       "    </tr>\n",
       "  </tbody>\n",
       "</table>\n",
       "</div>"
      ],
      "text/plain": [
       "            Model Name    Accuracy  Precision    Recall  F1-Score\n",
       "0  Logistic Regression   80.672586   0.797887  0.780268  0.787021\n",
       "1        Decision Tree  100.000000   1.000000  1.000000  1.000000\n",
       "2        Random Forest   99.991624   0.999933  0.999887  0.999910\n",
       "3            Ada Boost  100.000000   1.000000  1.000000  1.000000\n",
       "4             XG Boost  100.000000   1.000000  1.000000  1.000000\n",
       "5                  SVM   71.764804   0.742276  0.638547  0.637201\n",
       "6                  KNN   86.112740   0.871700  0.829293  0.843260\n",
       "7          Naive Bayes   81.698635   0.883547  0.754009  0.773424"
      ]
     },
     "execution_count": 140,
     "metadata": {},
     "output_type": "execute_result"
    }
   ],
   "source": [
    "df=pd.DataFrame({\"Model Name\":list1, \"Accuracy\":list2, \"Precision\":list3, \"Recall\":list4, \"F1-Score\":list5})\n",
    "df"
   ]
  },
  {
   "cell_type": "raw",
   "id": "f5d22c0d",
   "metadata": {},
   "source": [
    "If we consider accuracy then \"Decision Tree\", \"Random Forest\", \"Ada Boost\", \"XG Boost\" these models are over fitted there KNN is best fitted model. The classification report of KNN is also perfect as precision(0:0.95; 1:0.71), recall(0:0.85 ; 1:0.90) and F1 Score(0:0.90 ; 1:0.79 ) is good i.e nearer to 1 and accuracy is 86.11%"
   ]
  },
  {
   "cell_type": "markdown",
   "id": "59a05fc8",
   "metadata": {},
   "source": [
    "# Class Imbalance Treatment using Random Under Sampling"
   ]
  },
  {
   "cell_type": "code",
   "execution_count": 141,
   "id": "a441819c",
   "metadata": {},
   "outputs": [
    {
     "data": {
      "text/plain": [
       "(75166, 44224)"
      ]
     },
     "execution_count": 141,
     "metadata": {},
     "output_type": "execute_result"
    }
   ],
   "source": [
    "c_0,c_1=h_n[\"is_canceled\"].value_counts()\n",
    "c_0,c_1 #saving categorical values of target columns in variables"
   ]
  },
  {
   "cell_type": "code",
   "execution_count": 142,
   "id": "706ec433",
   "metadata": {},
   "outputs": [],
   "source": [
    "h_0=h_n[h_n[\"is_canceled\"]==0]\n",
    "h_1=h_n[h_n[\"is_canceled\"]==1]"
   ]
  },
  {
   "cell_type": "code",
   "execution_count": 143,
   "id": "1bf576f6",
   "metadata": {},
   "outputs": [
    {
     "data": {
      "text/plain": [
       "((75166, 31), (44224, 31))"
      ]
     },
     "execution_count": 143,
     "metadata": {},
     "output_type": "execute_result"
    }
   ],
   "source": [
    "h_0.shape,h_1.shape"
   ]
  },
  {
   "cell_type": "code",
   "execution_count": 144,
   "id": "52d4489c",
   "metadata": {},
   "outputs": [],
   "source": [
    "class_0under=h_0.sample(c_1)\n"
   ]
  },
  {
   "cell_type": "code",
   "execution_count": 145,
   "id": "f4cb28bb",
   "metadata": {},
   "outputs": [
    {
     "data": {
      "text/html": [
       "<div>\n",
       "<style scoped>\n",
       "    .dataframe tbody tr th:only-of-type {\n",
       "        vertical-align: middle;\n",
       "    }\n",
       "\n",
       "    .dataframe tbody tr th {\n",
       "        vertical-align: top;\n",
       "    }\n",
       "\n",
       "    .dataframe thead th {\n",
       "        text-align: right;\n",
       "    }\n",
       "</style>\n",
       "<table border=\"1\" class=\"dataframe\">\n",
       "  <thead>\n",
       "    <tr style=\"text-align: right;\">\n",
       "      <th></th>\n",
       "      <th>hotel</th>\n",
       "      <th>lead_time</th>\n",
       "      <th>arrival_date_year</th>\n",
       "      <th>arrival_date_month</th>\n",
       "      <th>arrival_date_week_number</th>\n",
       "      <th>arrival_date_day_of_month</th>\n",
       "      <th>stays_in_weekend_nights</th>\n",
       "      <th>stays_in_week_nights</th>\n",
       "      <th>adults</th>\n",
       "      <th>children</th>\n",
       "      <th>...</th>\n",
       "      <th>deposit_type</th>\n",
       "      <th>agent</th>\n",
       "      <th>days_in_waiting_list</th>\n",
       "      <th>customer_type</th>\n",
       "      <th>adr</th>\n",
       "      <th>required_car_parking_spaces</th>\n",
       "      <th>total_of_special_requests</th>\n",
       "      <th>reservation_status</th>\n",
       "      <th>reservation_status_date</th>\n",
       "      <th>is_canceled</th>\n",
       "    </tr>\n",
       "  </thead>\n",
       "  <tbody>\n",
       "    <tr>\n",
       "      <th>20349</th>\n",
       "      <td>1</td>\n",
       "      <td>0</td>\n",
       "      <td>2016</td>\n",
       "      <td>4</td>\n",
       "      <td>5</td>\n",
       "      <td>25</td>\n",
       "      <td>1</td>\n",
       "      <td>0</td>\n",
       "      <td>1</td>\n",
       "      <td>0.0</td>\n",
       "      <td>...</td>\n",
       "      <td>0</td>\n",
       "      <td>240.0</td>\n",
       "      <td>0</td>\n",
       "      <td>2</td>\n",
       "      <td>40.00</td>\n",
       "      <td>0</td>\n",
       "      <td>0</td>\n",
       "      <td>1</td>\n",
       "      <td>330</td>\n",
       "      <td>0</td>\n",
       "    </tr>\n",
       "    <tr>\n",
       "      <th>97186</th>\n",
       "      <td>0</td>\n",
       "      <td>13</td>\n",
       "      <td>2016</td>\n",
       "      <td>11</td>\n",
       "      <td>38</td>\n",
       "      <td>11</td>\n",
       "      <td>2</td>\n",
       "      <td>0</td>\n",
       "      <td>2</td>\n",
       "      <td>0.0</td>\n",
       "      <td>...</td>\n",
       "      <td>0</td>\n",
       "      <td>14.0</td>\n",
       "      <td>0</td>\n",
       "      <td>2</td>\n",
       "      <td>95.38</td>\n",
       "      <td>0</td>\n",
       "      <td>0</td>\n",
       "      <td>1</td>\n",
       "      <td>561</td>\n",
       "      <td>0</td>\n",
       "    </tr>\n",
       "    <tr>\n",
       "      <th>8733</th>\n",
       "      <td>1</td>\n",
       "      <td>364</td>\n",
       "      <td>2016</td>\n",
       "      <td>10</td>\n",
       "      <td>42</td>\n",
       "      <td>12</td>\n",
       "      <td>0</td>\n",
       "      <td>4</td>\n",
       "      <td>2</td>\n",
       "      <td>0.0</td>\n",
       "      <td>...</td>\n",
       "      <td>0</td>\n",
       "      <td>14.0</td>\n",
       "      <td>0</td>\n",
       "      <td>3</td>\n",
       "      <td>66.00</td>\n",
       "      <td>0</td>\n",
       "      <td>0</td>\n",
       "      <td>1</td>\n",
       "      <td>594</td>\n",
       "      <td>0</td>\n",
       "    </tr>\n",
       "    <tr>\n",
       "      <th>103974</th>\n",
       "      <td>0</td>\n",
       "      <td>269</td>\n",
       "      <td>2016</td>\n",
       "      <td>2</td>\n",
       "      <td>53</td>\n",
       "      <td>29</td>\n",
       "      <td>2</td>\n",
       "      <td>3</td>\n",
       "      <td>1</td>\n",
       "      <td>0.0</td>\n",
       "      <td>...</td>\n",
       "      <td>0</td>\n",
       "      <td>12.0</td>\n",
       "      <td>0</td>\n",
       "      <td>3</td>\n",
       "      <td>70.00</td>\n",
       "      <td>0</td>\n",
       "      <td>0</td>\n",
       "      <td>1</td>\n",
       "      <td>673</td>\n",
       "      <td>0</td>\n",
       "    </tr>\n",
       "    <tr>\n",
       "      <th>117429</th>\n",
       "      <td>0</td>\n",
       "      <td>99</td>\n",
       "      <td>2017</td>\n",
       "      <td>5</td>\n",
       "      <td>31</td>\n",
       "      <td>31</td>\n",
       "      <td>1</td>\n",
       "      <td>3</td>\n",
       "      <td>3</td>\n",
       "      <td>0.0</td>\n",
       "      <td>...</td>\n",
       "      <td>0</td>\n",
       "      <td>9.0</td>\n",
       "      <td>0</td>\n",
       "      <td>2</td>\n",
       "      <td>195.00</td>\n",
       "      <td>0</td>\n",
       "      <td>1</td>\n",
       "      <td>1</td>\n",
       "      <td>886</td>\n",
       "      <td>0</td>\n",
       "    </tr>\n",
       "    <tr>\n",
       "      <th>...</th>\n",
       "      <td>...</td>\n",
       "      <td>...</td>\n",
       "      <td>...</td>\n",
       "      <td>...</td>\n",
       "      <td>...</td>\n",
       "      <td>...</td>\n",
       "      <td>...</td>\n",
       "      <td>...</td>\n",
       "      <td>...</td>\n",
       "      <td>...</td>\n",
       "      <td>...</td>\n",
       "      <td>...</td>\n",
       "      <td>...</td>\n",
       "      <td>...</td>\n",
       "      <td>...</td>\n",
       "      <td>...</td>\n",
       "      <td>...</td>\n",
       "      <td>...</td>\n",
       "      <td>...</td>\n",
       "      <td>...</td>\n",
       "      <td>...</td>\n",
       "    </tr>\n",
       "    <tr>\n",
       "      <th>110280</th>\n",
       "      <td>0</td>\n",
       "      <td>132</td>\n",
       "      <td>2017</td>\n",
       "      <td>0</td>\n",
       "      <td>17</td>\n",
       "      <td>25</td>\n",
       "      <td>0</td>\n",
       "      <td>0</td>\n",
       "      <td>0</td>\n",
       "      <td>0.0</td>\n",
       "      <td>...</td>\n",
       "      <td>0</td>\n",
       "      <td>9.0</td>\n",
       "      <td>0</td>\n",
       "      <td>2</td>\n",
       "      <td>0.00</td>\n",
       "      <td>0</td>\n",
       "      <td>3</td>\n",
       "      <td>0</td>\n",
       "      <td>785</td>\n",
       "      <td>1</td>\n",
       "    </tr>\n",
       "    <tr>\n",
       "      <th>111355</th>\n",
       "      <td>0</td>\n",
       "      <td>4</td>\n",
       "      <td>2017</td>\n",
       "      <td>6</td>\n",
       "      <td>23</td>\n",
       "      <td>5</td>\n",
       "      <td>1</td>\n",
       "      <td>0</td>\n",
       "      <td>1</td>\n",
       "      <td>0.0</td>\n",
       "      <td>...</td>\n",
       "      <td>0</td>\n",
       "      <td>14.0</td>\n",
       "      <td>0</td>\n",
       "      <td>2</td>\n",
       "      <td>65.00</td>\n",
       "      <td>0</td>\n",
       "      <td>0</td>\n",
       "      <td>0</td>\n",
       "      <td>826</td>\n",
       "      <td>1</td>\n",
       "    </tr>\n",
       "    <tr>\n",
       "      <th>111924</th>\n",
       "      <td>0</td>\n",
       "      <td>7</td>\n",
       "      <td>2017</td>\n",
       "      <td>8</td>\n",
       "      <td>22</td>\n",
       "      <td>31</td>\n",
       "      <td>0</td>\n",
       "      <td>1</td>\n",
       "      <td>1</td>\n",
       "      <td>0.0</td>\n",
       "      <td>...</td>\n",
       "      <td>0</td>\n",
       "      <td>14.0</td>\n",
       "      <td>0</td>\n",
       "      <td>2</td>\n",
       "      <td>65.00</td>\n",
       "      <td>0</td>\n",
       "      <td>0</td>\n",
       "      <td>0</td>\n",
       "      <td>821</td>\n",
       "      <td>1</td>\n",
       "    </tr>\n",
       "    <tr>\n",
       "      <th>111925</th>\n",
       "      <td>0</td>\n",
       "      <td>6</td>\n",
       "      <td>2017</td>\n",
       "      <td>5</td>\n",
       "      <td>29</td>\n",
       "      <td>17</td>\n",
       "      <td>1</td>\n",
       "      <td>0</td>\n",
       "      <td>1</td>\n",
       "      <td>0.0</td>\n",
       "      <td>...</td>\n",
       "      <td>0</td>\n",
       "      <td>14.0</td>\n",
       "      <td>0</td>\n",
       "      <td>2</td>\n",
       "      <td>65.00</td>\n",
       "      <td>0</td>\n",
       "      <td>0</td>\n",
       "      <td>2</td>\n",
       "      <td>868</td>\n",
       "      <td>1</td>\n",
       "    </tr>\n",
       "    <tr>\n",
       "      <th>117295</th>\n",
       "      <td>0</td>\n",
       "      <td>0</td>\n",
       "      <td>2017</td>\n",
       "      <td>1</td>\n",
       "      <td>31</td>\n",
       "      <td>2</td>\n",
       "      <td>0</td>\n",
       "      <td>2</td>\n",
       "      <td>1</td>\n",
       "      <td>0.0</td>\n",
       "      <td>...</td>\n",
       "      <td>0</td>\n",
       "      <td>14.0</td>\n",
       "      <td>0</td>\n",
       "      <td>2</td>\n",
       "      <td>65.00</td>\n",
       "      <td>0</td>\n",
       "      <td>1</td>\n",
       "      <td>2</td>\n",
       "      <td>884</td>\n",
       "      <td>1</td>\n",
       "    </tr>\n",
       "  </tbody>\n",
       "</table>\n",
       "<p>88448 rows × 31 columns</p>\n",
       "</div>"
      ],
      "text/plain": [
       "        hotel  lead_time  arrival_date_year  arrival_date_month  \\\n",
       "20349       1          0               2016                   4   \n",
       "97186       0         13               2016                  11   \n",
       "8733        1        364               2016                  10   \n",
       "103974      0        269               2016                   2   \n",
       "117429      0         99               2017                   5   \n",
       "...       ...        ...                ...                 ...   \n",
       "110280      0        132               2017                   0   \n",
       "111355      0          4               2017                   6   \n",
       "111924      0          7               2017                   8   \n",
       "111925      0          6               2017                   5   \n",
       "117295      0          0               2017                   1   \n",
       "\n",
       "        arrival_date_week_number  arrival_date_day_of_month  \\\n",
       "20349                          5                         25   \n",
       "97186                         38                         11   \n",
       "8733                          42                         12   \n",
       "103974                        53                         29   \n",
       "117429                        31                         31   \n",
       "...                          ...                        ...   \n",
       "110280                        17                         25   \n",
       "111355                        23                          5   \n",
       "111924                        22                         31   \n",
       "111925                        29                         17   \n",
       "117295                        31                          2   \n",
       "\n",
       "        stays_in_weekend_nights  stays_in_week_nights  adults  children  ...  \\\n",
       "20349                         1                     0       1       0.0  ...   \n",
       "97186                         2                     0       2       0.0  ...   \n",
       "8733                          0                     4       2       0.0  ...   \n",
       "103974                        2                     3       1       0.0  ...   \n",
       "117429                        1                     3       3       0.0  ...   \n",
       "...                         ...                   ...     ...       ...  ...   \n",
       "110280                        0                     0       0       0.0  ...   \n",
       "111355                        1                     0       1       0.0  ...   \n",
       "111924                        0                     1       1       0.0  ...   \n",
       "111925                        1                     0       1       0.0  ...   \n",
       "117295                        0                     2       1       0.0  ...   \n",
       "\n",
       "        deposit_type  agent  days_in_waiting_list  customer_type     adr  \\\n",
       "20349              0  240.0                     0              2   40.00   \n",
       "97186              0   14.0                     0              2   95.38   \n",
       "8733               0   14.0                     0              3   66.00   \n",
       "103974             0   12.0                     0              3   70.00   \n",
       "117429             0    9.0                     0              2  195.00   \n",
       "...              ...    ...                   ...            ...     ...   \n",
       "110280             0    9.0                     0              2    0.00   \n",
       "111355             0   14.0                     0              2   65.00   \n",
       "111924             0   14.0                     0              2   65.00   \n",
       "111925             0   14.0                     0              2   65.00   \n",
       "117295             0   14.0                     0              2   65.00   \n",
       "\n",
       "        required_car_parking_spaces  total_of_special_requests  \\\n",
       "20349                             0                          0   \n",
       "97186                             0                          0   \n",
       "8733                              0                          0   \n",
       "103974                            0                          0   \n",
       "117429                            0                          1   \n",
       "...                             ...                        ...   \n",
       "110280                            0                          3   \n",
       "111355                            0                          0   \n",
       "111924                            0                          0   \n",
       "111925                            0                          0   \n",
       "117295                            0                          1   \n",
       "\n",
       "        reservation_status  reservation_status_date  is_canceled  \n",
       "20349                    1                      330            0  \n",
       "97186                    1                      561            0  \n",
       "8733                     1                      594            0  \n",
       "103974                   1                      673            0  \n",
       "117429                   1                      886            0  \n",
       "...                    ...                      ...          ...  \n",
       "110280                   0                      785            1  \n",
       "111355                   0                      826            1  \n",
       "111924                   0                      821            1  \n",
       "111925                   2                      868            1  \n",
       "117295                   2                      884            1  \n",
       "\n",
       "[88448 rows x 31 columns]"
      ]
     },
     "execution_count": 145,
     "metadata": {},
     "output_type": "execute_result"
    }
   ],
   "source": [
    "class0_1=pd.concat([class_0under,h_1],axis=0)\n",
    "class0_1"
   ]
  },
  {
   "cell_type": "code",
   "execution_count": 146,
   "id": "b39ee090",
   "metadata": {},
   "outputs": [
    {
     "data": {
      "text/plain": [
       "0    44224\n",
       "1    44224\n",
       "Name: is_canceled, dtype: int64"
      ]
     },
     "execution_count": 146,
     "metadata": {},
     "output_type": "execute_result"
    }
   ],
   "source": [
    "class0_1.is_canceled.value_counts()\n",
    "#Random Under sampling balance the class distribution by randomly eliminating majority class values\n",
    "#As data is having large no of rows it also helps to reduce execution time"
   ]
  },
  {
   "cell_type": "markdown",
   "id": "5d54c41e",
   "metadata": {},
   "source": [
    "# Outlier Treatment"
   ]
  },
  {
   "cell_type": "code",
   "execution_count": 147,
   "id": "067d9d98",
   "metadata": {},
   "outputs": [
    {
     "data": {
      "text/plain": [
       "Index(['hotel', 'lead_time', 'arrival_date_year', 'arrival_date_month',\n",
       "       'arrival_date_week_number', 'arrival_date_day_of_month',\n",
       "       'stays_in_weekend_nights', 'stays_in_week_nights', 'adults', 'children',\n",
       "       'babies', 'meal', 'country', 'market_segment', 'distribution_channel',\n",
       "       'is_repeated_guest', 'previous_cancellations',\n",
       "       'previous_bookings_not_canceled', 'reserved_room_type',\n",
       "       'assigned_room_type', 'booking_changes', 'deposit_type', 'agent',\n",
       "       'days_in_waiting_list', 'customer_type', 'adr',\n",
       "       'required_car_parking_spaces', 'total_of_special_requests',\n",
       "       'reservation_status', 'reservation_status_date', 'is_canceled'],\n",
       "      dtype='object')"
      ]
     },
     "execution_count": 147,
     "metadata": {},
     "output_type": "execute_result"
    }
   ],
   "source": [
    "class0_1.columns"
   ]
  },
  {
   "cell_type": "code",
   "execution_count": 148,
   "id": "641ec36b",
   "metadata": {},
   "outputs": [
    {
     "data": {
      "image/png": "[encoded data removed]",
      "text/plain": [
       "<Figure size 1440x1080 with 1 Axes>"
      ]
     },
     "metadata": {
      "needs_background": "light"
     },
     "output_type": "display_data"
    }
   ],
   "source": [
    "plt.figure(figsize=(20,15))\n",
    "plt.boxplot(class0_1)\n",
    "plt.show()"
   ]
  },
  {
   "cell_type": "markdown",
   "id": "98fa7fa2",
   "metadata": {},
   "source": [
    "# lead_time"
   ]
  },
  {
   "cell_type": "code",
   "execution_count": 149,
   "id": "90f3570c",
   "metadata": {},
   "outputs": [
    {
     "data": {
      "text/plain": [
       "0      3909\n",
       "1      2153\n",
       "2      1322\n",
       "3      1151\n",
       "4      1080\n",
       "       ... \n",
       "532       1\n",
       "709       1\n",
       "435       1\n",
       "371       1\n",
       "380       1\n",
       "Name: lead_time, Length: 477, dtype: int64"
      ]
     },
     "execution_count": 149,
     "metadata": {},
     "output_type": "execute_result"
    }
   ],
   "source": [
    "class0_1.lead_time.value_counts()     "
   ]
  },
  {
   "cell_type": "code",
   "execution_count": 150,
   "id": "00b11b62",
   "metadata": {},
   "outputs": [
    {
     "data": {
      "text/plain": [
       "<AxesSubplot:xlabel='lead_time'>"
      ]
     },
     "execution_count": 150,
     "metadata": {},
     "output_type": "execute_result"
    },
    {
     "data": {
      "image/png": "[encoded data removed]",
      "text/plain": [
       "<Figure size 576x576 with 1 Axes>"
      ]
     },
     "metadata": {
      "needs_background": "light"
     },
     "output_type": "display_data"
    }
   ],
   "source": [
    "sns.boxplot(class0_1.lead_time)"
   ]
  },
  {
   "cell_type": "code",
   "execution_count": 151,
   "id": "b3a9ad38",
   "metadata": {},
   "outputs": [
    {
     "data": {
      "text/plain": [
       "<AxesSubplot:xlabel='lead_time', ylabel='Density'>"
      ]
     },
     "execution_count": 151,
     "metadata": {},
     "output_type": "execute_result"
    },
    {
     "data": {
      "image/png": "[encoded data removed]",
      "text/plain": [
       "<Figure size 576x576 with 1 Axes>"
      ]
     },
     "metadata": {
      "needs_background": "light"
     },
     "output_type": "display_data"
    }
   ],
   "source": [
    "sns.distplot(class0_1.lead_time)"
   ]
  },
  {
   "cell_type": "code",
   "execution_count": 152,
   "id": "ffcf1145",
   "metadata": {},
   "outputs": [
    {
     "data": {
      "text/plain": [
       "count    88448.000000\n",
       "mean       112.337701\n",
       "std        110.536996\n",
       "min          0.000000\n",
       "25%         23.000000\n",
       "50%         78.000000\n",
       "75%        171.000000\n",
       "max        709.000000\n",
       "Name: lead_time, dtype: float64"
      ]
     },
     "execution_count": 152,
     "metadata": {},
     "output_type": "execute_result"
    }
   ],
   "source": [
    "class0_1.lead_time.describe()"
   ]
  },
  {
   "cell_type": "code",
   "execution_count": 153,
   "id": "72a2daa0",
   "metadata": {},
   "outputs": [
    {
     "data": {
      "image/png": "[encoded data removed]",
      "text/plain": [
       "<Figure size 576x576 with 1 Axes>"
      ]
     },
     "metadata": {
      "needs_background": "light"
     },
     "output_type": "display_data"
    }
   ],
   "source": [
    "plt.hist(class0_1.lead_time)\n",
    "plt.show()"
   ]
  },
  {
   "cell_type": "code",
   "execution_count": 154,
   "id": "da2eb29b",
   "metadata": {},
   "outputs": [
    {
     "data": {
      "text/plain": [
       "148.0"
      ]
     },
     "execution_count": 154,
     "metadata": {},
     "output_type": "execute_result"
    }
   ],
   "source": [
    "iqr=class0_1.lead_time.quantile(0.75)-class0_1.lead_time.quantile(0.25)\n",
    "iqr #As the data is skewed iqr technique is used"
   ]
  },
  {
   "cell_type": "code",
   "execution_count": 155,
   "id": "5fc6c22a",
   "metadata": {},
   "outputs": [
    {
     "name": "stdout",
     "output_type": "stream",
     "text": [
      "-421.0 615.0\n"
     ]
    }
   ],
   "source": [
    "lb=class0_1[\"lead_time\"].quantile(0.25)-(iqr*3)\n",
    "ub=class0_1[\"lead_time\"].quantile(0.75)+(iqr*3)\n",
    "print(lb,ub)"
   ]
  },
  {
   "cell_type": "code",
   "execution_count": 156,
   "id": "651d07fb",
   "metadata": {},
   "outputs": [],
   "source": [
    "class0_1.loc[class0_1[\"lead_time\"]>615,\"lead_time\"]=615 #outliers are above the maxima therefore upper boundary value is used"
   ]
  },
  {
   "cell_type": "markdown",
   "id": "fdf4eb86",
   "metadata": {},
   "source": [
    "# agent"
   ]
  },
  {
   "cell_type": "code",
   "execution_count": 157,
   "id": "bf9e3cab",
   "metadata": {},
   "outputs": [
    {
     "data": {
      "text/plain": [
       "9.0      24263\n",
       "14.0     13700\n",
       "240.0    10472\n",
       "1.0       6384\n",
       "6.0       2368\n",
       "         ...  \n",
       "371.0        1\n",
       "299.0        1\n",
       "367.0        1\n",
       "321.0        1\n",
       "454.0        1\n",
       "Name: agent, Length: 312, dtype: int64"
      ]
     },
     "execution_count": 157,
     "metadata": {},
     "output_type": "execute_result"
    }
   ],
   "source": [
    "class0_1.agent.value_counts()"
   ]
  },
  {
   "cell_type": "code",
   "execution_count": 158,
   "id": "0550be1f",
   "metadata": {},
   "outputs": [
    {
     "data": {
      "text/plain": [
       "<AxesSubplot:xlabel='agent'>"
      ]
     },
     "execution_count": 158,
     "metadata": {},
     "output_type": "execute_result"
    },
    {
     "data": {
      "image/png": "[encoded data removed]",
      "text/plain": [
       "<Figure size 576x576 with 1 Axes>"
      ]
     },
     "metadata": {
      "needs_background": "light"
     },
     "output_type": "display_data"
    }
   ],
   "source": [
    "sns.boxplot(class0_1.agent)"
   ]
  },
  {
   "cell_type": "code",
   "execution_count": 159,
   "id": "2c124bf3",
   "metadata": {},
   "outputs": [
    {
     "data": {
      "text/plain": [
       "<AxesSubplot:xlabel='agent', ylabel='Density'>"
      ]
     },
     "execution_count": 159,
     "metadata": {},
     "output_type": "execute_result"
    },
    {
     "data": {
      "image/png": "[encoded data removed]",
      "text/plain": [
       "<Figure size 576x576 with 1 Axes>"
      ]
     },
     "metadata": {
      "needs_background": "light"
     },
     "output_type": "display_data"
    }
   ],
   "source": [
    "sns.distplot(class0_1.agent)"
   ]
  },
  {
   "cell_type": "code",
   "execution_count": 160,
   "id": "3dd00737",
   "metadata": {},
   "outputs": [
    {
     "data": {
      "text/plain": [
       "count    88448.000000\n",
       "mean        75.330646\n",
       "std        105.055956\n",
       "min          1.000000\n",
       "25%          9.000000\n",
       "50%         14.000000\n",
       "75%        143.000000\n",
       "max        535.000000\n",
       "Name: agent, dtype: float64"
      ]
     },
     "execution_count": 160,
     "metadata": {},
     "output_type": "execute_result"
    }
   ],
   "source": [
    "class0_1.agent.describe()"
   ]
  },
  {
   "cell_type": "code",
   "execution_count": 161,
   "id": "64ec1f1a",
   "metadata": {
    "scrolled": true
   },
   "outputs": [
    {
     "data": {
      "image/png": "[encoded data removed]",
      "text/plain": [
       "<Figure size 576x576 with 1 Axes>"
      ]
     },
     "metadata": {
      "needs_background": "light"
     },
     "output_type": "display_data"
    }
   ],
   "source": [
    "plt.hist(class0_1.agent)\n",
    "plt.show()"
   ]
  },
  {
   "cell_type": "code",
   "execution_count": 162,
   "id": "cd45fa13",
   "metadata": {},
   "outputs": [
    {
     "data": {
      "text/plain": [
       "134.0"
      ]
     },
     "execution_count": 162,
     "metadata": {},
     "output_type": "execute_result"
    }
   ],
   "source": [
    "iqr=class0_1.agent.quantile(0.75)-class0_1.agent.quantile(0.25)\n",
    "iqr"
   ]
  },
  {
   "cell_type": "code",
   "execution_count": 163,
   "id": "123f3e53",
   "metadata": {},
   "outputs": [
    {
     "name": "stdout",
     "output_type": "stream",
     "text": [
      "-393.0 545.0\n"
     ]
    }
   ],
   "source": [
    "lb=class0_1[\"agent\"].quantile(0.25)-(iqr*3)\n",
    "ub=class0_1[\"agent\"].quantile(0.75)+(iqr*3)\n",
    "print(lb,ub)"
   ]
  },
  {
   "cell_type": "code",
   "execution_count": 164,
   "id": "63353875",
   "metadata": {},
   "outputs": [],
   "source": [
    "class0_1.loc[class0_1[\"agent\"]>545,\"agent\"]=545"
   ]
  },
  {
   "cell_type": "markdown",
   "id": "dcbf00df",
   "metadata": {},
   "source": [
    "# adr"
   ]
  },
  {
   "cell_type": "code",
   "execution_count": 165,
   "id": "0d741bc7",
   "metadata": {},
   "outputs": [
    {
     "data": {
      "text/plain": [
       "62.00     3445\n",
       "75.00     2132\n",
       "90.00     2079\n",
       "65.00     1760\n",
       "80.00     1548\n",
       "          ... \n",
       "228.89       1\n",
       "61.21        1\n",
       "29.80        1\n",
       "260.40       1\n",
       "56.80        1\n",
       "Name: adr, Length: 7431, dtype: int64"
      ]
     },
     "execution_count": 165,
     "metadata": {},
     "output_type": "execute_result"
    }
   ],
   "source": [
    "class0_1.adr.value_counts()"
   ]
  },
  {
   "cell_type": "code",
   "execution_count": 166,
   "id": "81811417",
   "metadata": {},
   "outputs": [
    {
     "data": {
      "text/plain": [
       "<AxesSubplot:xlabel='adr'>"
      ]
     },
     "execution_count": 166,
     "metadata": {},
     "output_type": "execute_result"
    },
    {
     "data": {
      "image/png": "[encoded data removed]",
      "text/plain": [
       "<Figure size 576x576 with 1 Axes>"
      ]
     },
     "metadata": {
      "needs_background": "light"
     },
     "output_type": "display_data"
    }
   ],
   "source": [
    "sns.boxplot(class0_1.adr)"
   ]
  },
  {
   "cell_type": "code",
   "execution_count": 167,
   "id": "9a11aa3e",
   "metadata": {},
   "outputs": [
    {
     "data": {
      "image/png": "[encoded data removed]",
      "text/plain": [
       "<Figure size 576x576 with 1 Axes>"
      ]
     },
     "metadata": {
      "needs_background": "light"
     },
     "output_type": "display_data"
    }
   ],
   "source": [
    "sns.distplot(class0_1.adr)\n",
    "plt.show()"
   ]
  },
  {
   "cell_type": "code",
   "execution_count": 168,
   "id": "e43f014e",
   "metadata": {},
   "outputs": [
    {
     "data": {
      "text/plain": [
       "count    88448.000000\n",
       "mean       102.432875\n",
       "std         51.022033\n",
       "min          0.000000\n",
       "25%         70.000000\n",
       "50%         95.000000\n",
       "75%        126.000000\n",
       "max       5400.000000\n",
       "Name: adr, dtype: float64"
      ]
     },
     "execution_count": 168,
     "metadata": {},
     "output_type": "execute_result"
    }
   ],
   "source": [
    "class0_1.adr.describe()"
   ]
  },
  {
   "cell_type": "code",
   "execution_count": 169,
   "id": "637c57aa",
   "metadata": {},
   "outputs": [
    {
     "data": {
      "image/png": "[encoded data removed]",
      "text/plain": [
       "<Figure size 576x576 with 1 Axes>"
      ]
     },
     "metadata": {
      "needs_background": "light"
     },
     "output_type": "display_data"
    }
   ],
   "source": [
    "plt.hist(class0_1.adr)\n",
    "plt.show()"
   ]
  },
  {
   "cell_type": "code",
   "execution_count": 170,
   "id": "49b74eb4",
   "metadata": {},
   "outputs": [
    {
     "data": {
      "text/plain": [
       "56.0"
      ]
     },
     "execution_count": 170,
     "metadata": {},
     "output_type": "execute_result"
    }
   ],
   "source": [
    "iqr=class0_1.adr.quantile(0.75)-class0_1.adr.quantile(0.25)\n",
    "iqr"
   ]
  },
  {
   "cell_type": "code",
   "execution_count": 171,
   "id": "9799b891",
   "metadata": {},
   "outputs": [
    {
     "name": "stdout",
     "output_type": "stream",
     "text": [
      "-98.0 294.0\n"
     ]
    }
   ],
   "source": [
    "lb=class0_1[\"adr\"].quantile(0.25)-(iqr*3)\n",
    "ub=class0_1[\"adr\"].quantile(0.75)+(iqr*3)\n",
    "print(lb,ub)"
   ]
  },
  {
   "cell_type": "code",
   "execution_count": 172,
   "id": "9045f500",
   "metadata": {},
   "outputs": [],
   "source": [
    "class0_1.loc[class0_1[\"adr\"]>294,\"adr\"]=294"
   ]
  },
  {
   "cell_type": "markdown",
   "id": "2f5f86aa",
   "metadata": {},
   "source": [
    "# Data Transformation"
   ]
  },
  {
   "cell_type": "markdown",
   "id": "34a623f6",
   "metadata": {},
   "source": [
    "# lead_time"
   ]
  },
  {
   "cell_type": "code",
   "execution_count": 173,
   "id": "0c31ed16",
   "metadata": {},
   "outputs": [
    {
     "data": {
      "text/html": [
       "<div>\n",
       "<style scoped>\n",
       "    .dataframe tbody tr th:only-of-type {\n",
       "        vertical-align: middle;\n",
       "    }\n",
       "\n",
       "    .dataframe tbody tr th {\n",
       "        vertical-align: top;\n",
       "    }\n",
       "\n",
       "    .dataframe thead th {\n",
       "        text-align: right;\n",
       "    }\n",
       "</style>\n",
       "<table border=\"1\" class=\"dataframe\">\n",
       "  <thead>\n",
       "    <tr style=\"text-align: right;\">\n",
       "      <th></th>\n",
       "      <th>hotel</th>\n",
       "      <th>lead_time</th>\n",
       "      <th>arrival_date_year</th>\n",
       "      <th>arrival_date_month</th>\n",
       "      <th>arrival_date_week_number</th>\n",
       "      <th>arrival_date_day_of_month</th>\n",
       "      <th>stays_in_weekend_nights</th>\n",
       "      <th>stays_in_week_nights</th>\n",
       "      <th>adults</th>\n",
       "      <th>children</th>\n",
       "      <th>...</th>\n",
       "      <th>deposit_type</th>\n",
       "      <th>agent</th>\n",
       "      <th>days_in_waiting_list</th>\n",
       "      <th>customer_type</th>\n",
       "      <th>adr</th>\n",
       "      <th>required_car_parking_spaces</th>\n",
       "      <th>total_of_special_requests</th>\n",
       "      <th>reservation_status</th>\n",
       "      <th>reservation_status_date</th>\n",
       "      <th>is_canceled</th>\n",
       "    </tr>\n",
       "  </thead>\n",
       "  <tbody>\n",
       "    <tr>\n",
       "      <th>20349</th>\n",
       "      <td>1</td>\n",
       "      <td>0</td>\n",
       "      <td>2016</td>\n",
       "      <td>4</td>\n",
       "      <td>5</td>\n",
       "      <td>25</td>\n",
       "      <td>1</td>\n",
       "      <td>0</td>\n",
       "      <td>1</td>\n",
       "      <td>0.0</td>\n",
       "      <td>...</td>\n",
       "      <td>0</td>\n",
       "      <td>240.0</td>\n",
       "      <td>0</td>\n",
       "      <td>2</td>\n",
       "      <td>40.0</td>\n",
       "      <td>0</td>\n",
       "      <td>0</td>\n",
       "      <td>1</td>\n",
       "      <td>330</td>\n",
       "      <td>0</td>\n",
       "    </tr>\n",
       "    <tr>\n",
       "      <th>20204</th>\n",
       "      <td>1</td>\n",
       "      <td>0</td>\n",
       "      <td>2016</td>\n",
       "      <td>4</td>\n",
       "      <td>4</td>\n",
       "      <td>19</td>\n",
       "      <td>0</td>\n",
       "      <td>1</td>\n",
       "      <td>2</td>\n",
       "      <td>0.0</td>\n",
       "      <td>...</td>\n",
       "      <td>0</td>\n",
       "      <td>14.0</td>\n",
       "      <td>0</td>\n",
       "      <td>2</td>\n",
       "      <td>45.0</td>\n",
       "      <td>0</td>\n",
       "      <td>1</td>\n",
       "      <td>1</td>\n",
       "      <td>324</td>\n",
       "      <td>0</td>\n",
       "    </tr>\n",
       "    <tr>\n",
       "      <th>97886</th>\n",
       "      <td>0</td>\n",
       "      <td>0</td>\n",
       "      <td>2016</td>\n",
       "      <td>11</td>\n",
       "      <td>39</td>\n",
       "      <td>21</td>\n",
       "      <td>0</td>\n",
       "      <td>1</td>\n",
       "      <td>2</td>\n",
       "      <td>0.0</td>\n",
       "      <td>...</td>\n",
       "      <td>0</td>\n",
       "      <td>14.0</td>\n",
       "      <td>0</td>\n",
       "      <td>2</td>\n",
       "      <td>70.0</td>\n",
       "      <td>1</td>\n",
       "      <td>0</td>\n",
       "      <td>1</td>\n",
       "      <td>570</td>\n",
       "      <td>0</td>\n",
       "    </tr>\n",
       "    <tr>\n",
       "      <th>81421</th>\n",
       "      <td>0</td>\n",
       "      <td>0</td>\n",
       "      <td>2016</td>\n",
       "      <td>6</td>\n",
       "      <td>25</td>\n",
       "      <td>14</td>\n",
       "      <td>0</td>\n",
       "      <td>1</td>\n",
       "      <td>2</td>\n",
       "      <td>0.0</td>\n",
       "      <td>...</td>\n",
       "      <td>0</td>\n",
       "      <td>14.0</td>\n",
       "      <td>0</td>\n",
       "      <td>2</td>\n",
       "      <td>50.0</td>\n",
       "      <td>0</td>\n",
       "      <td>0</td>\n",
       "      <td>1</td>\n",
       "      <td>471</td>\n",
       "      <td>0</td>\n",
       "    </tr>\n",
       "    <tr>\n",
       "      <th>88780</th>\n",
       "      <td>0</td>\n",
       "      <td>0</td>\n",
       "      <td>2017</td>\n",
       "      <td>8</td>\n",
       "      <td>20</td>\n",
       "      <td>15</td>\n",
       "      <td>1</td>\n",
       "      <td>0</td>\n",
       "      <td>1</td>\n",
       "      <td>0.0</td>\n",
       "      <td>...</td>\n",
       "      <td>0</td>\n",
       "      <td>14.0</td>\n",
       "      <td>0</td>\n",
       "      <td>2</td>\n",
       "      <td>95.0</td>\n",
       "      <td>1</td>\n",
       "      <td>2</td>\n",
       "      <td>1</td>\n",
       "      <td>806</td>\n",
       "      <td>0</td>\n",
       "    </tr>\n",
       "    <tr>\n",
       "      <th>...</th>\n",
       "      <td>...</td>\n",
       "      <td>...</td>\n",
       "      <td>...</td>\n",
       "      <td>...</td>\n",
       "      <td>...</td>\n",
       "      <td>...</td>\n",
       "      <td>...</td>\n",
       "      <td>...</td>\n",
       "      <td>...</td>\n",
       "      <td>...</td>\n",
       "      <td>...</td>\n",
       "      <td>...</td>\n",
       "      <td>...</td>\n",
       "      <td>...</td>\n",
       "      <td>...</td>\n",
       "      <td>...</td>\n",
       "      <td>...</td>\n",
       "      <td>...</td>\n",
       "      <td>...</td>\n",
       "      <td>...</td>\n",
       "      <td>...</td>\n",
       "    </tr>\n",
       "    <tr>\n",
       "      <th>98809</th>\n",
       "      <td>0</td>\n",
       "      <td>0</td>\n",
       "      <td>2016</td>\n",
       "      <td>2</td>\n",
       "      <td>51</td>\n",
       "      <td>12</td>\n",
       "      <td>1</td>\n",
       "      <td>0</td>\n",
       "      <td>2</td>\n",
       "      <td>0.0</td>\n",
       "      <td>...</td>\n",
       "      <td>0</td>\n",
       "      <td>341.0</td>\n",
       "      <td>0</td>\n",
       "      <td>2</td>\n",
       "      <td>77.0</td>\n",
       "      <td>0</td>\n",
       "      <td>2</td>\n",
       "      <td>0</td>\n",
       "      <td>651</td>\n",
       "      <td>1</td>\n",
       "    </tr>\n",
       "    <tr>\n",
       "      <th>98810</th>\n",
       "      <td>0</td>\n",
       "      <td>0</td>\n",
       "      <td>2016</td>\n",
       "      <td>2</td>\n",
       "      <td>51</td>\n",
       "      <td>12</td>\n",
       "      <td>1</td>\n",
       "      <td>0</td>\n",
       "      <td>2</td>\n",
       "      <td>0.0</td>\n",
       "      <td>...</td>\n",
       "      <td>0</td>\n",
       "      <td>341.0</td>\n",
       "      <td>0</td>\n",
       "      <td>2</td>\n",
       "      <td>0.0</td>\n",
       "      <td>0</td>\n",
       "      <td>2</td>\n",
       "      <td>0</td>\n",
       "      <td>651</td>\n",
       "      <td>1</td>\n",
       "    </tr>\n",
       "    <tr>\n",
       "      <th>101930</th>\n",
       "      <td>0</td>\n",
       "      <td>0</td>\n",
       "      <td>2017</td>\n",
       "      <td>6</td>\n",
       "      <td>26</td>\n",
       "      <td>29</td>\n",
       "      <td>0</td>\n",
       "      <td>1</td>\n",
       "      <td>2</td>\n",
       "      <td>0.0</td>\n",
       "      <td>...</td>\n",
       "      <td>0</td>\n",
       "      <td>45.0</td>\n",
       "      <td>0</td>\n",
       "      <td>2</td>\n",
       "      <td>0.0</td>\n",
       "      <td>0</td>\n",
       "      <td>0</td>\n",
       "      <td>0</td>\n",
       "      <td>850</td>\n",
       "      <td>1</td>\n",
       "    </tr>\n",
       "    <tr>\n",
       "      <th>105909</th>\n",
       "      <td>0</td>\n",
       "      <td>0</td>\n",
       "      <td>2017</td>\n",
       "      <td>0</td>\n",
       "      <td>16</td>\n",
       "      <td>18</td>\n",
       "      <td>0</td>\n",
       "      <td>1</td>\n",
       "      <td>1</td>\n",
       "      <td>0.0</td>\n",
       "      <td>...</td>\n",
       "      <td>0</td>\n",
       "      <td>14.0</td>\n",
       "      <td>0</td>\n",
       "      <td>2</td>\n",
       "      <td>0.0</td>\n",
       "      <td>0</td>\n",
       "      <td>2</td>\n",
       "      <td>0</td>\n",
       "      <td>778</td>\n",
       "      <td>1</td>\n",
       "    </tr>\n",
       "    <tr>\n",
       "      <th>117295</th>\n",
       "      <td>0</td>\n",
       "      <td>0</td>\n",
       "      <td>2017</td>\n",
       "      <td>1</td>\n",
       "      <td>31</td>\n",
       "      <td>2</td>\n",
       "      <td>0</td>\n",
       "      <td>2</td>\n",
       "      <td>1</td>\n",
       "      <td>0.0</td>\n",
       "      <td>...</td>\n",
       "      <td>0</td>\n",
       "      <td>14.0</td>\n",
       "      <td>0</td>\n",
       "      <td>2</td>\n",
       "      <td>65.0</td>\n",
       "      <td>0</td>\n",
       "      <td>1</td>\n",
       "      <td>2</td>\n",
       "      <td>884</td>\n",
       "      <td>1</td>\n",
       "    </tr>\n",
       "  </tbody>\n",
       "</table>\n",
       "<p>3909 rows × 31 columns</p>\n",
       "</div>"
      ],
      "text/plain": [
       "        hotel  lead_time  arrival_date_year  arrival_date_month  \\\n",
       "20349       1          0               2016                   4   \n",
       "20204       1          0               2016                   4   \n",
       "97886       0          0               2016                  11   \n",
       "81421       0          0               2016                   6   \n",
       "88780       0          0               2017                   8   \n",
       "...       ...        ...                ...                 ...   \n",
       "98809       0          0               2016                   2   \n",
       "98810       0          0               2016                   2   \n",
       "101930      0          0               2017                   6   \n",
       "105909      0          0               2017                   0   \n",
       "117295      0          0               2017                   1   \n",
       "\n",
       "        arrival_date_week_number  arrival_date_day_of_month  \\\n",
       "20349                          5                         25   \n",
       "20204                          4                         19   \n",
       "97886                         39                         21   \n",
       "81421                         25                         14   \n",
       "88780                         20                         15   \n",
       "...                          ...                        ...   \n",
       "98809                         51                         12   \n",
       "98810                         51                         12   \n",
       "101930                        26                         29   \n",
       "105909                        16                         18   \n",
       "117295                        31                          2   \n",
       "\n",
       "        stays_in_weekend_nights  stays_in_week_nights  adults  children  ...  \\\n",
       "20349                         1                     0       1       0.0  ...   \n",
       "20204                         0                     1       2       0.0  ...   \n",
       "97886                         0                     1       2       0.0  ...   \n",
       "81421                         0                     1       2       0.0  ...   \n",
       "88780                         1                     0       1       0.0  ...   \n",
       "...                         ...                   ...     ...       ...  ...   \n",
       "98809                         1                     0       2       0.0  ...   \n",
       "98810                         1                     0       2       0.0  ...   \n",
       "101930                        0                     1       2       0.0  ...   \n",
       "105909                        0                     1       1       0.0  ...   \n",
       "117295                        0                     2       1       0.0  ...   \n",
       "\n",
       "        deposit_type  agent  days_in_waiting_list  customer_type   adr  \\\n",
       "20349              0  240.0                     0              2  40.0   \n",
       "20204              0   14.0                     0              2  45.0   \n",
       "97886              0   14.0                     0              2  70.0   \n",
       "81421              0   14.0                     0              2  50.0   \n",
       "88780              0   14.0                     0              2  95.0   \n",
       "...              ...    ...                   ...            ...   ...   \n",
       "98809              0  341.0                     0              2  77.0   \n",
       "98810              0  341.0                     0              2   0.0   \n",
       "101930             0   45.0                     0              2   0.0   \n",
       "105909             0   14.0                     0              2   0.0   \n",
       "117295             0   14.0                     0              2  65.0   \n",
       "\n",
       "        required_car_parking_spaces  total_of_special_requests  \\\n",
       "20349                             0                          0   \n",
       "20204                             0                          1   \n",
       "97886                             1                          0   \n",
       "81421                             0                          0   \n",
       "88780                             1                          2   \n",
       "...                             ...                        ...   \n",
       "98809                             0                          2   \n",
       "98810                             0                          2   \n",
       "101930                            0                          0   \n",
       "105909                            0                          2   \n",
       "117295                            0                          1   \n",
       "\n",
       "        reservation_status  reservation_status_date  is_canceled  \n",
       "20349                    1                      330            0  \n",
       "20204                    1                      324            0  \n",
       "97886                    1                      570            0  \n",
       "81421                    1                      471            0  \n",
       "88780                    1                      806            0  \n",
       "...                    ...                      ...          ...  \n",
       "98809                    0                      651            1  \n",
       "98810                    0                      651            1  \n",
       "101930                   0                      850            1  \n",
       "105909                   0                      778            1  \n",
       "117295                   2                      884            1  \n",
       "\n",
       "[3909 rows x 31 columns]"
      ]
     },
     "execution_count": 173,
     "metadata": {},
     "output_type": "execute_result"
    }
   ],
   "source": [
    "class0_1.loc[class0_1[\"lead_time\"]==0] # zero values are present therefore using square root transformation"
   ]
  },
  {
   "cell_type": "code",
   "execution_count": 174,
   "id": "d6199187",
   "metadata": {},
   "outputs": [
    {
     "data": {
      "text/plain": [
       "<AxesSubplot:xlabel='lead_time', ylabel='Density'>"
      ]
     },
     "execution_count": 174,
     "metadata": {},
     "output_type": "execute_result"
    },
    {
     "data": {
      "image/png": "[encoded data removed]",
      "text/plain": [
       "<Figure size 576x576 with 1 Axes>"
      ]
     },
     "metadata": {
      "needs_background": "light"
     },
     "output_type": "display_data"
    }
   ],
   "source": [
    "sns.distplot(class0_1.lead_time)"
   ]
  },
  {
   "cell_type": "code",
   "execution_count": 175,
   "id": "3135e258",
   "metadata": {},
   "outputs": [
    {
     "data": {
      "text/plain": [
       "1.2671461141925167"
      ]
     },
     "execution_count": 175,
     "metadata": {},
     "output_type": "execute_result"
    }
   ],
   "source": [
    "class0_1.lead_time.skew()"
   ]
  },
  {
   "cell_type": "code",
   "execution_count": 176,
   "id": "580d627f",
   "metadata": {},
   "outputs": [],
   "source": [
    "class0_1.lead_time=np.sqrt(class0_1.lead_time) #As zero values are present in column therefore square root method is used"
   ]
  },
  {
   "cell_type": "code",
   "execution_count": 177,
   "id": "eca491bf",
   "metadata": {},
   "outputs": [
    {
     "data": {
      "text/plain": [
       "0.23676668314983831"
      ]
     },
     "execution_count": 177,
     "metadata": {},
     "output_type": "execute_result"
    }
   ],
   "source": [
    "class0_1.lead_time.skew()"
   ]
  },
  {
   "cell_type": "code",
   "execution_count": 178,
   "id": "142b9a15",
   "metadata": {},
   "outputs": [
    {
     "data": {
      "text/plain": [
       "<AxesSubplot:xlabel='lead_time', ylabel='Density'>"
      ]
     },
     "execution_count": 178,
     "metadata": {},
     "output_type": "execute_result"
    },
    {
     "data": {
      "image/png": "[encoded data removed]",
      "text/plain": [
       "<Figure size 576x576 with 1 Axes>"
      ]
     },
     "metadata": {
      "needs_background": "light"
     },
     "output_type": "display_data"
    }
   ],
   "source": [
    "sns.distplot(class0_1.lead_time)"
   ]
  },
  {
   "cell_type": "markdown",
   "id": "3384c8b9",
   "metadata": {},
   "source": [
    "# agent"
   ]
  },
  {
   "cell_type": "code",
   "execution_count": 179,
   "id": "d83b0326",
   "metadata": {},
   "outputs": [
    {
     "data": {
      "text/html": [
       "<div>\n",
       "<style scoped>\n",
       "    .dataframe tbody tr th:only-of-type {\n",
       "        vertical-align: middle;\n",
       "    }\n",
       "\n",
       "    .dataframe tbody tr th {\n",
       "        vertical-align: top;\n",
       "    }\n",
       "\n",
       "    .dataframe thead th {\n",
       "        text-align: right;\n",
       "    }\n",
       "</style>\n",
       "<table border=\"1\" class=\"dataframe\">\n",
       "  <thead>\n",
       "    <tr style=\"text-align: right;\">\n",
       "      <th></th>\n",
       "      <th>hotel</th>\n",
       "      <th>lead_time</th>\n",
       "      <th>arrival_date_year</th>\n",
       "      <th>arrival_date_month</th>\n",
       "      <th>arrival_date_week_number</th>\n",
       "      <th>arrival_date_day_of_month</th>\n",
       "      <th>stays_in_weekend_nights</th>\n",
       "      <th>stays_in_week_nights</th>\n",
       "      <th>adults</th>\n",
       "      <th>children</th>\n",
       "      <th>...</th>\n",
       "      <th>deposit_type</th>\n",
       "      <th>agent</th>\n",
       "      <th>days_in_waiting_list</th>\n",
       "      <th>customer_type</th>\n",
       "      <th>adr</th>\n",
       "      <th>required_car_parking_spaces</th>\n",
       "      <th>total_of_special_requests</th>\n",
       "      <th>reservation_status</th>\n",
       "      <th>reservation_status_date</th>\n",
       "      <th>is_canceled</th>\n",
       "    </tr>\n",
       "  </thead>\n",
       "  <tbody>\n",
       "  </tbody>\n",
       "</table>\n",
       "<p>0 rows × 31 columns</p>\n",
       "</div>"
      ],
      "text/plain": [
       "Empty DataFrame\n",
       "Columns: [hotel, lead_time, arrival_date_year, arrival_date_month, arrival_date_week_number, arrival_date_day_of_month, stays_in_weekend_nights, stays_in_week_nights, adults, children, babies, meal, country, market_segment, distribution_channel, is_repeated_guest, previous_cancellations, previous_bookings_not_canceled, reserved_room_type, assigned_room_type, booking_changes, deposit_type, agent, days_in_waiting_list, customer_type, adr, required_car_parking_spaces, total_of_special_requests, reservation_status, reservation_status_date, is_canceled]\n",
       "Index: []\n",
       "\n",
       "[0 rows x 31 columns]"
      ]
     },
     "execution_count": 179,
     "metadata": {},
     "output_type": "execute_result"
    }
   ],
   "source": [
    "class0_1.loc[class0_1[\"agent\"]==0] # no zero values are present therefore using log transformation"
   ]
  },
  {
   "cell_type": "code",
   "execution_count": 180,
   "id": "9dc58a50",
   "metadata": {},
   "outputs": [
    {
     "data": {
      "text/plain": [
       "<AxesSubplot:xlabel='agent', ylabel='Density'>"
      ]
     },
     "execution_count": 180,
     "metadata": {},
     "output_type": "execute_result"
    },
    {
     "data": {
      "image/png": "[encoded data removed]",
      "text/plain": [
       "<Figure size 576x576 with 1 Axes>"
      ]
     },
     "metadata": {
      "needs_background": "light"
     },
     "output_type": "display_data"
    }
   ],
   "source": [
    "sns.distplot(class0_1.agent)"
   ]
  },
  {
   "cell_type": "code",
   "execution_count": 181,
   "id": "4a8b6582",
   "metadata": {},
   "outputs": [
    {
     "data": {
      "text/plain": [
       "1.3367637960731997"
      ]
     },
     "execution_count": 181,
     "metadata": {},
     "output_type": "execute_result"
    }
   ],
   "source": [
    "class0_1.agent.skew()"
   ]
  },
  {
   "cell_type": "code",
   "execution_count": 182,
   "id": "528c67cc",
   "metadata": {},
   "outputs": [],
   "source": [
    "class0_1.agent=np.log(class0_1.agent)"
   ]
  },
  {
   "cell_type": "code",
   "execution_count": 183,
   "id": "2873799e",
   "metadata": {},
   "outputs": [
    {
     "data": {
      "text/plain": [
       "0.17100704668285163"
      ]
     },
     "execution_count": 183,
     "metadata": {},
     "output_type": "execute_result"
    }
   ],
   "source": [
    "class0_1.agent.skew()"
   ]
  },
  {
   "cell_type": "code",
   "execution_count": 184,
   "id": "dc218a7e",
   "metadata": {},
   "outputs": [],
   "source": [
    "#sns.distplot(class0_1.agent)"
   ]
  },
  {
   "cell_type": "code",
   "execution_count": 185,
   "id": "b6ad4476",
   "metadata": {},
   "outputs": [
    {
     "data": {
      "text/plain": [
       "hotel                              0.776070\n",
       "lead_time                          0.236767\n",
       "arrival_date_year                 -0.239365\n",
       "arrival_date_month                -0.046828\n",
       "arrival_date_week_number          -0.008894\n",
       "arrival_date_day_of_month          0.003676\n",
       "stays_in_weekend_nights            1.390958\n",
       "stays_in_week_nights               2.896988\n",
       "adults                            22.317141\n",
       "children                           4.130269\n",
       "babies                            31.921657\n",
       "meal                               1.600123\n",
       "country                           -0.303513\n",
       "market_segment                    -0.996357\n",
       "distribution_channel              -2.041406\n",
       "is_repeated_guest                  5.689202\n",
       "previous_cancellations            21.762651\n",
       "previous_bookings_not_canceled    25.539745\n",
       "reserved_room_type                 1.491666\n",
       "assigned_room_type                 1.245506\n",
       "booking_changes                    6.570186\n",
       "deposit_type                       1.852628\n",
       "agent                              0.171007\n",
       "days_in_waiting_list              11.652181\n",
       "customer_type                     -1.084357\n",
       "adr                                0.953817\n",
       "required_car_parking_spaces        4.684188\n",
       "total_of_special_requests          1.463639\n",
       "reservation_status                 0.172586\n",
       "reservation_status_date           -0.116057\n",
       "is_canceled                        0.000000\n",
       "dtype: float64"
      ]
     },
     "execution_count": 185,
     "metadata": {},
     "output_type": "execute_result"
    }
   ],
   "source": [
    "class0_1.skew() # range of skewness is -1 to 1"
   ]
  },
  {
   "cell_type": "markdown",
   "id": "731a3ea3",
   "metadata": {},
   "source": [
    "# Splitting the data"
   ]
  },
  {
   "cell_type": "code",
   "execution_count": 186,
   "id": "8f3858c8",
   "metadata": {},
   "outputs": [],
   "source": [
    "u_x=class0_1.iloc[:,0:-1]\n",
    "u_y=class0_1.iloc[:,-1]"
   ]
  },
  {
   "cell_type": "code",
   "execution_count": 187,
   "id": "1b0d142f",
   "metadata": {},
   "outputs": [
    {
     "data": {
      "text/html": [
       "<div>\n",
       "<style scoped>\n",
       "    .dataframe tbody tr th:only-of-type {\n",
       "        vertical-align: middle;\n",
       "    }\n",
       "\n",
       "    .dataframe tbody tr th {\n",
       "        vertical-align: top;\n",
       "    }\n",
       "\n",
       "    .dataframe thead th {\n",
       "        text-align: right;\n",
       "    }\n",
       "</style>\n",
       "<table border=\"1\" class=\"dataframe\">\n",
       "  <thead>\n",
       "    <tr style=\"text-align: right;\">\n",
       "      <th></th>\n",
       "      <th>hotel</th>\n",
       "      <th>lead_time</th>\n",
       "      <th>arrival_date_year</th>\n",
       "      <th>arrival_date_month</th>\n",
       "      <th>arrival_date_week_number</th>\n",
       "      <th>arrival_date_day_of_month</th>\n",
       "      <th>stays_in_weekend_nights</th>\n",
       "      <th>stays_in_week_nights</th>\n",
       "      <th>adults</th>\n",
       "      <th>children</th>\n",
       "      <th>...</th>\n",
       "      <th>booking_changes</th>\n",
       "      <th>deposit_type</th>\n",
       "      <th>agent</th>\n",
       "      <th>days_in_waiting_list</th>\n",
       "      <th>customer_type</th>\n",
       "      <th>adr</th>\n",
       "      <th>required_car_parking_spaces</th>\n",
       "      <th>total_of_special_requests</th>\n",
       "      <th>reservation_status</th>\n",
       "      <th>reservation_status_date</th>\n",
       "    </tr>\n",
       "  </thead>\n",
       "  <tbody>\n",
       "    <tr>\n",
       "      <th>20349</th>\n",
       "      <td>1</td>\n",
       "      <td>0.000000</td>\n",
       "      <td>2016</td>\n",
       "      <td>4</td>\n",
       "      <td>5</td>\n",
       "      <td>25</td>\n",
       "      <td>1</td>\n",
       "      <td>0</td>\n",
       "      <td>1</td>\n",
       "      <td>0.0</td>\n",
       "      <td>...</td>\n",
       "      <td>0</td>\n",
       "      <td>0</td>\n",
       "      <td>5.480639</td>\n",
       "      <td>0</td>\n",
       "      <td>2</td>\n",
       "      <td>40.00</td>\n",
       "      <td>0</td>\n",
       "      <td>0</td>\n",
       "      <td>1</td>\n",
       "      <td>330</td>\n",
       "    </tr>\n",
       "    <tr>\n",
       "      <th>97186</th>\n",
       "      <td>0</td>\n",
       "      <td>3.605551</td>\n",
       "      <td>2016</td>\n",
       "      <td>11</td>\n",
       "      <td>38</td>\n",
       "      <td>11</td>\n",
       "      <td>2</td>\n",
       "      <td>0</td>\n",
       "      <td>2</td>\n",
       "      <td>0.0</td>\n",
       "      <td>...</td>\n",
       "      <td>2</td>\n",
       "      <td>0</td>\n",
       "      <td>2.639057</td>\n",
       "      <td>0</td>\n",
       "      <td>2</td>\n",
       "      <td>95.38</td>\n",
       "      <td>0</td>\n",
       "      <td>0</td>\n",
       "      <td>1</td>\n",
       "      <td>561</td>\n",
       "    </tr>\n",
       "    <tr>\n",
       "      <th>8733</th>\n",
       "      <td>1</td>\n",
       "      <td>19.078784</td>\n",
       "      <td>2016</td>\n",
       "      <td>10</td>\n",
       "      <td>42</td>\n",
       "      <td>12</td>\n",
       "      <td>0</td>\n",
       "      <td>4</td>\n",
       "      <td>2</td>\n",
       "      <td>0.0</td>\n",
       "      <td>...</td>\n",
       "      <td>3</td>\n",
       "      <td>0</td>\n",
       "      <td>2.639057</td>\n",
       "      <td>0</td>\n",
       "      <td>3</td>\n",
       "      <td>66.00</td>\n",
       "      <td>0</td>\n",
       "      <td>0</td>\n",
       "      <td>1</td>\n",
       "      <td>594</td>\n",
       "    </tr>\n",
       "    <tr>\n",
       "      <th>103974</th>\n",
       "      <td>0</td>\n",
       "      <td>16.401219</td>\n",
       "      <td>2016</td>\n",
       "      <td>2</td>\n",
       "      <td>53</td>\n",
       "      <td>29</td>\n",
       "      <td>2</td>\n",
       "      <td>3</td>\n",
       "      <td>1</td>\n",
       "      <td>0.0</td>\n",
       "      <td>...</td>\n",
       "      <td>0</td>\n",
       "      <td>0</td>\n",
       "      <td>2.484907</td>\n",
       "      <td>0</td>\n",
       "      <td>3</td>\n",
       "      <td>70.00</td>\n",
       "      <td>0</td>\n",
       "      <td>0</td>\n",
       "      <td>1</td>\n",
       "      <td>673</td>\n",
       "    </tr>\n",
       "    <tr>\n",
       "      <th>117429</th>\n",
       "      <td>0</td>\n",
       "      <td>9.949874</td>\n",
       "      <td>2017</td>\n",
       "      <td>5</td>\n",
       "      <td>31</td>\n",
       "      <td>31</td>\n",
       "      <td>1</td>\n",
       "      <td>3</td>\n",
       "      <td>3</td>\n",
       "      <td>0.0</td>\n",
       "      <td>...</td>\n",
       "      <td>0</td>\n",
       "      <td>0</td>\n",
       "      <td>2.197225</td>\n",
       "      <td>0</td>\n",
       "      <td>2</td>\n",
       "      <td>195.00</td>\n",
       "      <td>0</td>\n",
       "      <td>1</td>\n",
       "      <td>1</td>\n",
       "      <td>886</td>\n",
       "    </tr>\n",
       "    <tr>\n",
       "      <th>...</th>\n",
       "      <td>...</td>\n",
       "      <td>...</td>\n",
       "      <td>...</td>\n",
       "      <td>...</td>\n",
       "      <td>...</td>\n",
       "      <td>...</td>\n",
       "      <td>...</td>\n",
       "      <td>...</td>\n",
       "      <td>...</td>\n",
       "      <td>...</td>\n",
       "      <td>...</td>\n",
       "      <td>...</td>\n",
       "      <td>...</td>\n",
       "      <td>...</td>\n",
       "      <td>...</td>\n",
       "      <td>...</td>\n",
       "      <td>...</td>\n",
       "      <td>...</td>\n",
       "      <td>...</td>\n",
       "      <td>...</td>\n",
       "      <td>...</td>\n",
       "    </tr>\n",
       "    <tr>\n",
       "      <th>110280</th>\n",
       "      <td>0</td>\n",
       "      <td>11.489125</td>\n",
       "      <td>2017</td>\n",
       "      <td>0</td>\n",
       "      <td>17</td>\n",
       "      <td>25</td>\n",
       "      <td>0</td>\n",
       "      <td>0</td>\n",
       "      <td>0</td>\n",
       "      <td>0.0</td>\n",
       "      <td>...</td>\n",
       "      <td>1</td>\n",
       "      <td>0</td>\n",
       "      <td>2.197225</td>\n",
       "      <td>0</td>\n",
       "      <td>2</td>\n",
       "      <td>0.00</td>\n",
       "      <td>0</td>\n",
       "      <td>3</td>\n",
       "      <td>0</td>\n",
       "      <td>785</td>\n",
       "    </tr>\n",
       "    <tr>\n",
       "      <th>111355</th>\n",
       "      <td>0</td>\n",
       "      <td>2.000000</td>\n",
       "      <td>2017</td>\n",
       "      <td>6</td>\n",
       "      <td>23</td>\n",
       "      <td>5</td>\n",
       "      <td>1</td>\n",
       "      <td>0</td>\n",
       "      <td>1</td>\n",
       "      <td>0.0</td>\n",
       "      <td>...</td>\n",
       "      <td>0</td>\n",
       "      <td>0</td>\n",
       "      <td>2.639057</td>\n",
       "      <td>0</td>\n",
       "      <td>2</td>\n",
       "      <td>65.00</td>\n",
       "      <td>0</td>\n",
       "      <td>0</td>\n",
       "      <td>0</td>\n",
       "      <td>826</td>\n",
       "    </tr>\n",
       "    <tr>\n",
       "      <th>111924</th>\n",
       "      <td>0</td>\n",
       "      <td>2.645751</td>\n",
       "      <td>2017</td>\n",
       "      <td>8</td>\n",
       "      <td>22</td>\n",
       "      <td>31</td>\n",
       "      <td>0</td>\n",
       "      <td>1</td>\n",
       "      <td>1</td>\n",
       "      <td>0.0</td>\n",
       "      <td>...</td>\n",
       "      <td>0</td>\n",
       "      <td>0</td>\n",
       "      <td>2.639057</td>\n",
       "      <td>0</td>\n",
       "      <td>2</td>\n",
       "      <td>65.00</td>\n",
       "      <td>0</td>\n",
       "      <td>0</td>\n",
       "      <td>0</td>\n",
       "      <td>821</td>\n",
       "    </tr>\n",
       "    <tr>\n",
       "      <th>111925</th>\n",
       "      <td>0</td>\n",
       "      <td>2.449490</td>\n",
       "      <td>2017</td>\n",
       "      <td>5</td>\n",
       "      <td>29</td>\n",
       "      <td>17</td>\n",
       "      <td>1</td>\n",
       "      <td>0</td>\n",
       "      <td>1</td>\n",
       "      <td>0.0</td>\n",
       "      <td>...</td>\n",
       "      <td>0</td>\n",
       "      <td>0</td>\n",
       "      <td>2.639057</td>\n",
       "      <td>0</td>\n",
       "      <td>2</td>\n",
       "      <td>65.00</td>\n",
       "      <td>0</td>\n",
       "      <td>0</td>\n",
       "      <td>2</td>\n",
       "      <td>868</td>\n",
       "    </tr>\n",
       "    <tr>\n",
       "      <th>117295</th>\n",
       "      <td>0</td>\n",
       "      <td>0.000000</td>\n",
       "      <td>2017</td>\n",
       "      <td>1</td>\n",
       "      <td>31</td>\n",
       "      <td>2</td>\n",
       "      <td>0</td>\n",
       "      <td>2</td>\n",
       "      <td>1</td>\n",
       "      <td>0.0</td>\n",
       "      <td>...</td>\n",
       "      <td>0</td>\n",
       "      <td>0</td>\n",
       "      <td>2.639057</td>\n",
       "      <td>0</td>\n",
       "      <td>2</td>\n",
       "      <td>65.00</td>\n",
       "      <td>0</td>\n",
       "      <td>1</td>\n",
       "      <td>2</td>\n",
       "      <td>884</td>\n",
       "    </tr>\n",
       "  </tbody>\n",
       "</table>\n",
       "<p>88448 rows × 30 columns</p>\n",
       "</div>"
      ],
      "text/plain": [
       "        hotel  lead_time  arrival_date_year  arrival_date_month  \\\n",
       "20349       1   0.000000               2016                   4   \n",
       "97186       0   3.605551               2016                  11   \n",
       "8733        1  19.078784               2016                  10   \n",
       "103974      0  16.401219               2016                   2   \n",
       "117429      0   9.949874               2017                   5   \n",
       "...       ...        ...                ...                 ...   \n",
       "110280      0  11.489125               2017                   0   \n",
       "111355      0   2.000000               2017                   6   \n",
       "111924      0   2.645751               2017                   8   \n",
       "111925      0   2.449490               2017                   5   \n",
       "117295      0   0.000000               2017                   1   \n",
       "\n",
       "        arrival_date_week_number  arrival_date_day_of_month  \\\n",
       "20349                          5                         25   \n",
       "97186                         38                         11   \n",
       "8733                          42                         12   \n",
       "103974                        53                         29   \n",
       "117429                        31                         31   \n",
       "...                          ...                        ...   \n",
       "110280                        17                         25   \n",
       "111355                        23                          5   \n",
       "111924                        22                         31   \n",
       "111925                        29                         17   \n",
       "117295                        31                          2   \n",
       "\n",
       "        stays_in_weekend_nights  stays_in_week_nights  adults  children  ...  \\\n",
       "20349                         1                     0       1       0.0  ...   \n",
       "97186                         2                     0       2       0.0  ...   \n",
       "8733                          0                     4       2       0.0  ...   \n",
       "103974                        2                     3       1       0.0  ...   \n",
       "117429                        1                     3       3       0.0  ...   \n",
       "...                         ...                   ...     ...       ...  ...   \n",
       "110280                        0                     0       0       0.0  ...   \n",
       "111355                        1                     0       1       0.0  ...   \n",
       "111924                        0                     1       1       0.0  ...   \n",
       "111925                        1                     0       1       0.0  ...   \n",
       "117295                        0                     2       1       0.0  ...   \n",
       "\n",
       "        booking_changes  deposit_type     agent  days_in_waiting_list  \\\n",
       "20349                 0             0  5.480639                     0   \n",
       "97186                 2             0  2.639057                     0   \n",
       "8733                  3             0  2.639057                     0   \n",
       "103974                0             0  2.484907                     0   \n",
       "117429                0             0  2.197225                     0   \n",
       "...                 ...           ...       ...                   ...   \n",
       "110280                1             0  2.197225                     0   \n",
       "111355                0             0  2.639057                     0   \n",
       "111924                0             0  2.639057                     0   \n",
       "111925                0             0  2.639057                     0   \n",
       "117295                0             0  2.639057                     0   \n",
       "\n",
       "        customer_type     adr  required_car_parking_spaces  \\\n",
       "20349               2   40.00                            0   \n",
       "97186               2   95.38                            0   \n",
       "8733                3   66.00                            0   \n",
       "103974              3   70.00                            0   \n",
       "117429              2  195.00                            0   \n",
       "...               ...     ...                          ...   \n",
       "110280              2    0.00                            0   \n",
       "111355              2   65.00                            0   \n",
       "111924              2   65.00                            0   \n",
       "111925              2   65.00                            0   \n",
       "117295              2   65.00                            0   \n",
       "\n",
       "        total_of_special_requests  reservation_status  reservation_status_date  \n",
       "20349                           0                   1                      330  \n",
       "97186                           0                   1                      561  \n",
       "8733                            0                   1                      594  \n",
       "103974                          0                   1                      673  \n",
       "117429                          1                   1                      886  \n",
       "...                           ...                 ...                      ...  \n",
       "110280                          3                   0                      785  \n",
       "111355                          0                   0                      826  \n",
       "111924                          0                   0                      821  \n",
       "111925                          0                   2                      868  \n",
       "117295                          1                   2                      884  \n",
       "\n",
       "[88448 rows x 30 columns]"
      ]
     },
     "execution_count": 187,
     "metadata": {},
     "output_type": "execute_result"
    }
   ],
   "source": [
    "u_x"
   ]
  },
  {
   "cell_type": "code",
   "execution_count": 188,
   "id": "e65bd0cf",
   "metadata": {},
   "outputs": [],
   "source": [
    "u_x_train,u_x_test,u_y_train,u_y_test=train_test_split(u_x,u_y,test_size=0.2,random_state=100)"
   ]
  },
  {
   "cell_type": "code",
   "execution_count": 189,
   "id": "f8bf0854",
   "metadata": {},
   "outputs": [
    {
     "data": {
      "text/plain": [
       "((70758, 30), (17690, 30), (70758,), (17690,))"
      ]
     },
     "execution_count": 189,
     "metadata": {},
     "output_type": "execute_result"
    }
   ],
   "source": [
    "u_x_train.shape,u_x_test.shape,u_y_train.shape,u_y_test.shape"
   ]
  },
  {
   "cell_type": "markdown",
   "id": "5bc7793e",
   "metadata": {},
   "source": [
    "\n",
    "\n",
    "# Feature Selection"
   ]
  },
  {
   "cell_type": "markdown",
   "id": "11ef086b",
   "metadata": {},
   "source": [
    "# Random forest"
   ]
  },
  {
   "cell_type": "code",
   "execution_count": 190,
   "id": "981cc384",
   "metadata": {},
   "outputs": [
    {
     "data": {
      "text/plain": [
       "RandomForestClassifier()"
      ]
     },
     "execution_count": 190,
     "metadata": {},
     "output_type": "execute_result"
    }
   ],
   "source": [
    "rf.fit(u_x_train,u_y_train)"
   ]
  },
  {
   "cell_type": "code",
   "execution_count": 191,
   "id": "adb0967e",
   "metadata": {},
   "outputs": [
    {
     "data": {
      "text/plain": [
       "array([1.32644234e-03, 2.74518674e-02, 4.03327856e-03, 1.78889550e-03,\n",
       "       3.95588953e-03, 2.27206783e-03, 1.43517746e-03, 2.30719238e-03,\n",
       "       9.08623430e-04, 4.81466638e-04, 4.42079370e-05, 8.17035291e-04,\n",
       "       3.44447216e-02, 2.04871376e-02, 2.87978348e-03, 5.87933757e-04,\n",
       "       1.34785945e-02, 1.67375319e-03, 2.35657976e-03, 5.95300441e-03,\n",
       "       7.17790538e-03, 6.10060386e-02, 1.14868598e-02, 2.76325911e-04,\n",
       "       4.54541972e-03, 6.07783292e-03, 1.11427737e-02, 2.05845678e-02,\n",
       "       7.32945662e-01, 1.60729621e-02])"
      ]
     },
     "execution_count": 191,
     "metadata": {},
     "output_type": "execute_result"
    }
   ],
   "source": [
    "rf.feature_importances_"
   ]
  },
  {
   "cell_type": "code",
   "execution_count": 192,
   "id": "efcdcf53",
   "metadata": {},
   "outputs": [
    {
     "data": {
      "text/html": [
       "<div>\n",
       "<style scoped>\n",
       "    .dataframe tbody tr th:only-of-type {\n",
       "        vertical-align: middle;\n",
       "    }\n",
       "\n",
       "    .dataframe tbody tr th {\n",
       "        vertical-align: top;\n",
       "    }\n",
       "\n",
       "    .dataframe thead th {\n",
       "        text-align: right;\n",
       "    }\n",
       "</style>\n",
       "<table border=\"1\" class=\"dataframe\">\n",
       "  <thead>\n",
       "    <tr style=\"text-align: right;\">\n",
       "      <th></th>\n",
       "      <th>Importances</th>\n",
       "      <th>Columns</th>\n",
       "    </tr>\n",
       "  </thead>\n",
       "  <tbody>\n",
       "    <tr>\n",
       "      <th>0</th>\n",
       "      <td>0.001326</td>\n",
       "      <td>hotel</td>\n",
       "    </tr>\n",
       "    <tr>\n",
       "      <th>1</th>\n",
       "      <td>0.027452</td>\n",
       "      <td>lead_time</td>\n",
       "    </tr>\n",
       "    <tr>\n",
       "      <th>2</th>\n",
       "      <td>0.004033</td>\n",
       "      <td>arrival_date_year</td>\n",
       "    </tr>\n",
       "    <tr>\n",
       "      <th>3</th>\n",
       "      <td>0.001789</td>\n",
       "      <td>arrival_date_month</td>\n",
       "    </tr>\n",
       "    <tr>\n",
       "      <th>4</th>\n",
       "      <td>0.003956</td>\n",
       "      <td>arrival_date_week_number</td>\n",
       "    </tr>\n",
       "    <tr>\n",
       "      <th>5</th>\n",
       "      <td>0.002272</td>\n",
       "      <td>arrival_date_day_of_month</td>\n",
       "    </tr>\n",
       "    <tr>\n",
       "      <th>6</th>\n",
       "      <td>0.001435</td>\n",
       "      <td>stays_in_weekend_nights</td>\n",
       "    </tr>\n",
       "    <tr>\n",
       "      <th>7</th>\n",
       "      <td>0.002307</td>\n",
       "      <td>stays_in_week_nights</td>\n",
       "    </tr>\n",
       "    <tr>\n",
       "      <th>8</th>\n",
       "      <td>0.000909</td>\n",
       "      <td>adults</td>\n",
       "    </tr>\n",
       "    <tr>\n",
       "      <th>9</th>\n",
       "      <td>0.000481</td>\n",
       "      <td>children</td>\n",
       "    </tr>\n",
       "    <tr>\n",
       "      <th>10</th>\n",
       "      <td>0.000044</td>\n",
       "      <td>babies</td>\n",
       "    </tr>\n",
       "    <tr>\n",
       "      <th>11</th>\n",
       "      <td>0.000817</td>\n",
       "      <td>meal</td>\n",
       "    </tr>\n",
       "    <tr>\n",
       "      <th>12</th>\n",
       "      <td>0.034445</td>\n",
       "      <td>country</td>\n",
       "    </tr>\n",
       "    <tr>\n",
       "      <th>13</th>\n",
       "      <td>0.020487</td>\n",
       "      <td>market_segment</td>\n",
       "    </tr>\n",
       "    <tr>\n",
       "      <th>14</th>\n",
       "      <td>0.002880</td>\n",
       "      <td>distribution_channel</td>\n",
       "    </tr>\n",
       "    <tr>\n",
       "      <th>15</th>\n",
       "      <td>0.000588</td>\n",
       "      <td>is_repeated_guest</td>\n",
       "    </tr>\n",
       "    <tr>\n",
       "      <th>16</th>\n",
       "      <td>0.013479</td>\n",
       "      <td>previous_cancellations</td>\n",
       "    </tr>\n",
       "    <tr>\n",
       "      <th>17</th>\n",
       "      <td>0.001674</td>\n",
       "      <td>previous_bookings_not_canceled</td>\n",
       "    </tr>\n",
       "    <tr>\n",
       "      <th>18</th>\n",
       "      <td>0.002357</td>\n",
       "      <td>reserved_room_type</td>\n",
       "    </tr>\n",
       "    <tr>\n",
       "      <th>19</th>\n",
       "      <td>0.005953</td>\n",
       "      <td>assigned_room_type</td>\n",
       "    </tr>\n",
       "    <tr>\n",
       "      <th>20</th>\n",
       "      <td>0.007178</td>\n",
       "      <td>booking_changes</td>\n",
       "    </tr>\n",
       "    <tr>\n",
       "      <th>21</th>\n",
       "      <td>0.061006</td>\n",
       "      <td>deposit_type</td>\n",
       "    </tr>\n",
       "    <tr>\n",
       "      <th>22</th>\n",
       "      <td>0.011487</td>\n",
       "      <td>agent</td>\n",
       "    </tr>\n",
       "    <tr>\n",
       "      <th>23</th>\n",
       "      <td>0.000276</td>\n",
       "      <td>days_in_waiting_list</td>\n",
       "    </tr>\n",
       "    <tr>\n",
       "      <th>24</th>\n",
       "      <td>0.004545</td>\n",
       "      <td>customer_type</td>\n",
       "    </tr>\n",
       "    <tr>\n",
       "      <th>25</th>\n",
       "      <td>0.006078</td>\n",
       "      <td>adr</td>\n",
       "    </tr>\n",
       "    <tr>\n",
       "      <th>26</th>\n",
       "      <td>0.011143</td>\n",
       "      <td>required_car_parking_spaces</td>\n",
       "    </tr>\n",
       "    <tr>\n",
       "      <th>27</th>\n",
       "      <td>0.020585</td>\n",
       "      <td>total_of_special_requests</td>\n",
       "    </tr>\n",
       "    <tr>\n",
       "      <th>28</th>\n",
       "      <td>0.732946</td>\n",
       "      <td>reservation_status</td>\n",
       "    </tr>\n",
       "    <tr>\n",
       "      <th>29</th>\n",
       "      <td>0.016073</td>\n",
       "      <td>reservation_status_date</td>\n",
       "    </tr>\n",
       "  </tbody>\n",
       "</table>\n",
       "</div>"
      ],
      "text/plain": [
       "    Importances                         Columns\n",
       "0      0.001326                           hotel\n",
       "1      0.027452                       lead_time\n",
       "2      0.004033               arrival_date_year\n",
       "3      0.001789              arrival_date_month\n",
       "4      0.003956        arrival_date_week_number\n",
       "5      0.002272       arrival_date_day_of_month\n",
       "6      0.001435         stays_in_weekend_nights\n",
       "7      0.002307            stays_in_week_nights\n",
       "8      0.000909                          adults\n",
       "9      0.000481                        children\n",
       "10     0.000044                          babies\n",
       "11     0.000817                            meal\n",
       "12     0.034445                         country\n",
       "13     0.020487                  market_segment\n",
       "14     0.002880            distribution_channel\n",
       "15     0.000588               is_repeated_guest\n",
       "16     0.013479          previous_cancellations\n",
       "17     0.001674  previous_bookings_not_canceled\n",
       "18     0.002357              reserved_room_type\n",
       "19     0.005953              assigned_room_type\n",
       "20     0.007178                 booking_changes\n",
       "21     0.061006                    deposit_type\n",
       "22     0.011487                           agent\n",
       "23     0.000276            days_in_waiting_list\n",
       "24     0.004545                   customer_type\n",
       "25     0.006078                             adr\n",
       "26     0.011143     required_car_parking_spaces\n",
       "27     0.020585       total_of_special_requests\n",
       "28     0.732946              reservation_status\n",
       "29     0.016073         reservation_status_date"
      ]
     },
     "execution_count": 192,
     "metadata": {},
     "output_type": "execute_result"
    }
   ],
   "source": [
    "df1=pd.DataFrame({\"Importances\":list(rf.feature_importances_),\"Columns\":list(x)})\n",
    "df1"
   ]
  },
  {
   "cell_type": "code",
   "execution_count": 193,
   "id": "8a4f83e2",
   "metadata": {},
   "outputs": [],
   "source": [
    "# All features are important"
   ]
  },
  {
   "cell_type": "markdown",
   "id": "c62cff73",
   "metadata": {},
   "source": [
    "# Model building after treating Outliers"
   ]
  },
  {
   "cell_type": "markdown",
   "id": "96e7467d",
   "metadata": {},
   "source": [
    "\n",
    "# 1. Logistic Regression"
   ]
  },
  {
   "cell_type": "code",
   "execution_count": 194,
   "id": "bd4b69ff",
   "metadata": {},
   "outputs": [
    {
     "data": {
      "text/plain": [
       "LogisticRegression()"
      ]
     },
     "execution_count": 194,
     "metadata": {},
     "output_type": "execute_result"
    }
   ],
   "source": [
    "lg.fit(u_x_train,u_y_train)"
   ]
  },
  {
   "cell_type": "code",
   "execution_count": 195,
   "id": "d844d1e2",
   "metadata": {},
   "outputs": [
    {
     "data": {
      "text/plain": [
       "array([0, 1, 1, ..., 1, 1, 0], dtype=int64)"
      ]
     },
     "execution_count": 195,
     "metadata": {},
     "output_type": "execute_result"
    }
   ],
   "source": [
    "lg_p1=lg.predict(u_x_test)\n",
    "lg_p1"
   ]
  },
  {
   "cell_type": "code",
   "execution_count": 196,
   "id": "a24449aa",
   "metadata": {},
   "outputs": [
    {
     "data": {
      "text/plain": [
       "array([[6964, 1877],\n",
       "       [1888, 6961]], dtype=int64)"
      ]
     },
     "execution_count": 196,
     "metadata": {},
     "output_type": "execute_result"
    }
   ],
   "source": [
    "lg_c1=confusion_matrix(lg_p1,u_y_test)\n",
    "lg_c1"
   ]
  },
  {
   "cell_type": "code",
   "execution_count": 197,
   "id": "e8a05e3a",
   "metadata": {},
   "outputs": [
    {
     "data": {
      "text/plain": [
       "78.7167891464104"
      ]
     },
     "execution_count": 197,
     "metadata": {},
     "output_type": "execute_result"
    }
   ],
   "source": [
    "lg_ac1=lg_c1.diagonal().sum()/lg_c1.sum()*100\n",
    "lg_ac1"
   ]
  },
  {
   "cell_type": "code",
   "execution_count": 198,
   "id": "a91d290a",
   "metadata": {},
   "outputs": [
    {
     "name": "stdout",
     "output_type": "stream",
     "text": [
      "              precision    recall  f1-score   support\n",
      "\n",
      "           0       0.79      0.79      0.79      8841\n",
      "           1       0.79      0.79      0.79      8849\n",
      "\n",
      "    accuracy                           0.79     17690\n",
      "   macro avg       0.79      0.79      0.79     17690\n",
      "weighted avg       0.79      0.79      0.79     17690\n",
      "\n"
     ]
    }
   ],
   "source": [
    "print(classification_report(lg_p1,u_y_test))"
   ]
  },
  {
   "cell_type": "code",
   "execution_count": 199,
   "id": "73cbe179",
   "metadata": {},
   "outputs": [],
   "source": [
    "lg_f1=f1_score(u_y_test, lg_p1, average=\"macro\")\n",
    "lg_pr1=precision_score(u_y_test,lg_p1, average=\"macro\")\n",
    "lg_r1=recall_score(u_y_test,lg_p1, average=\"macro\")"
   ]
  },
  {
   "cell_type": "markdown",
   "id": "7b66b77a",
   "metadata": {},
   "source": [
    "# 2. Decision Tree"
   ]
  },
  {
   "cell_type": "code",
   "execution_count": 200,
   "id": "aeb28968",
   "metadata": {},
   "outputs": [
    {
     "data": {
      "text/plain": [
       "DecisionTreeClassifier()"
      ]
     },
     "execution_count": 200,
     "metadata": {},
     "output_type": "execute_result"
    }
   ],
   "source": [
    "dt.fit(u_x_train,u_y_train)"
   ]
  },
  {
   "cell_type": "code",
   "execution_count": 201,
   "id": "fde6b6e1",
   "metadata": {},
   "outputs": [
    {
     "data": {
      "text/plain": [
       "array([0, 1, 1, ..., 1, 1, 0], dtype=int64)"
      ]
     },
     "execution_count": 201,
     "metadata": {},
     "output_type": "execute_result"
    }
   ],
   "source": [
    "dt_p1=dt.predict(u_x_test)\n",
    "dt_p1"
   ]
  },
  {
   "cell_type": "code",
   "execution_count": 202,
   "id": "40eccf83",
   "metadata": {},
   "outputs": [
    {
     "data": {
      "text/plain": [
       "array([[8852,    0],\n",
       "       [   0, 8838]], dtype=int64)"
      ]
     },
     "execution_count": 202,
     "metadata": {},
     "output_type": "execute_result"
    }
   ],
   "source": [
    "dt_c1=confusion_matrix(dt_p1,u_y_test)\n",
    "dt_c1"
   ]
  },
  {
   "cell_type": "code",
   "execution_count": 203,
   "id": "b639db56",
   "metadata": {},
   "outputs": [
    {
     "data": {
      "text/plain": [
       "100.0"
      ]
     },
     "execution_count": 203,
     "metadata": {},
     "output_type": "execute_result"
    }
   ],
   "source": [
    "dt_ac1=dt_c1.diagonal().sum()/dt_c1.sum()*100\n",
    "dt_ac1"
   ]
  },
  {
   "cell_type": "code",
   "execution_count": 204,
   "id": "885fd77d",
   "metadata": {},
   "outputs": [
    {
     "name": "stdout",
     "output_type": "stream",
     "text": [
      "              precision    recall  f1-score   support\n",
      "\n",
      "           0       1.00      1.00      1.00      8852\n",
      "           1       1.00      1.00      1.00      8838\n",
      "\n",
      "    accuracy                           1.00     17690\n",
      "   macro avg       1.00      1.00      1.00     17690\n",
      "weighted avg       1.00      1.00      1.00     17690\n",
      "\n"
     ]
    }
   ],
   "source": [
    "print(classification_report(dt_p1,u_y_test))"
   ]
  },
  {
   "cell_type": "code",
   "execution_count": 205,
   "id": "0ad5c709",
   "metadata": {},
   "outputs": [],
   "source": [
    "dt_f1=f1_score(u_y_test, dt_p1, average=\"macro\")\n",
    "dt_pr1=precision_score(u_y_test,dt_p1, average=\"macro\")\n",
    "dt_r1=recall_score(u_y_test,dt_p1, average=\"macro\")"
   ]
  },
  {
   "cell_type": "markdown",
   "id": "55ac6a8f",
   "metadata": {},
   "source": [
    "# 3. Random Forest"
   ]
  },
  {
   "cell_type": "code",
   "execution_count": 206,
   "id": "133dda78",
   "metadata": {},
   "outputs": [
    {
     "data": {
      "text/plain": [
       "RandomForestClassifier()"
      ]
     },
     "execution_count": 206,
     "metadata": {},
     "output_type": "execute_result"
    }
   ],
   "source": [
    "rf.fit(u_x_train,u_y_train)"
   ]
  },
  {
   "cell_type": "code",
   "execution_count": 207,
   "id": "0a925a42",
   "metadata": {},
   "outputs": [
    {
     "data": {
      "text/plain": [
       "array([0, 1, 1, ..., 1, 1, 0], dtype=int64)"
      ]
     },
     "execution_count": 207,
     "metadata": {},
     "output_type": "execute_result"
    }
   ],
   "source": [
    "rf_p1=rf.predict(u_x_test)\n",
    "rf_p1"
   ]
  },
  {
   "cell_type": "code",
   "execution_count": 208,
   "id": "0deac8b2",
   "metadata": {},
   "outputs": [
    {
     "data": {
      "text/plain": [
       "array([[8852,    1],\n",
       "       [   0, 8837]], dtype=int64)"
      ]
     },
     "execution_count": 208,
     "metadata": {},
     "output_type": "execute_result"
    }
   ],
   "source": [
    "rf_c1=confusion_matrix(rf_p1,u_y_test)\n",
    "rf_c1"
   ]
  },
  {
   "cell_type": "code",
   "execution_count": 209,
   "id": "f8a45586",
   "metadata": {},
   "outputs": [
    {
     "data": {
      "text/plain": [
       "99.9943470887507"
      ]
     },
     "execution_count": 209,
     "metadata": {},
     "output_type": "execute_result"
    }
   ],
   "source": [
    "rf_ac1=rf_c1.diagonal().sum()/rf_c1.sum()*100\n",
    "rf_ac1"
   ]
  },
  {
   "cell_type": "code",
   "execution_count": 210,
   "id": "6c8dab82",
   "metadata": {},
   "outputs": [
    {
     "name": "stdout",
     "output_type": "stream",
     "text": [
      "              precision    recall  f1-score   support\n",
      "\n",
      "           0       1.00      1.00      1.00      8853\n",
      "           1       1.00      1.00      1.00      8837\n",
      "\n",
      "    accuracy                           1.00     17690\n",
      "   macro avg       1.00      1.00      1.00     17690\n",
      "weighted avg       1.00      1.00      1.00     17690\n",
      "\n"
     ]
    }
   ],
   "source": [
    "print(classification_report(rf_p1,u_y_test))"
   ]
  },
  {
   "cell_type": "code",
   "execution_count": 211,
   "id": "39d07caf",
   "metadata": {},
   "outputs": [],
   "source": [
    "rf_f1=f1_score(u_y_test, rf_p1, average=\"macro\")\n",
    "rf_pr1=precision_score(u_y_test,rf_p1, average=\"macro\")\n",
    "rf_r1=recall_score(u_y_test,rf_p1, average=\"macro\")"
   ]
  },
  {
   "cell_type": "markdown",
   "id": "ddd517a5",
   "metadata": {},
   "source": [
    "# 4. Boosting\n",
    "# 4.1 Ada Boost"
   ]
  },
  {
   "cell_type": "code",
   "execution_count": 212,
   "id": "5586a099",
   "metadata": {},
   "outputs": [
    {
     "data": {
      "text/plain": [
       "AdaBoostClassifier(base_estimator=DecisionTreeClassifier(), n_estimators=2)"
      ]
     },
     "execution_count": 212,
     "metadata": {},
     "output_type": "execute_result"
    }
   ],
   "source": [
    "ab.fit(u_x_train,u_y_train)"
   ]
  },
  {
   "cell_type": "code",
   "execution_count": 213,
   "id": "8b185b27",
   "metadata": {},
   "outputs": [
    {
     "data": {
      "text/plain": [
       "array([0, 1, 1, ..., 1, 1, 0], dtype=int64)"
      ]
     },
     "execution_count": 213,
     "metadata": {},
     "output_type": "execute_result"
    }
   ],
   "source": [
    "ab_p1=ab.predict(u_x_test)\n",
    "ab_p1"
   ]
  },
  {
   "cell_type": "code",
   "execution_count": 214,
   "id": "995a2472",
   "metadata": {},
   "outputs": [
    {
     "data": {
      "text/plain": [
       "array([[8852,    0],\n",
       "       [   0, 8838]], dtype=int64)"
      ]
     },
     "execution_count": 214,
     "metadata": {},
     "output_type": "execute_result"
    }
   ],
   "source": [
    "ab_c1=confusion_matrix(ab_p1,u_y_test)\n",
    "ab_c1"
   ]
  },
  {
   "cell_type": "code",
   "execution_count": 215,
   "id": "5ee2e022",
   "metadata": {},
   "outputs": [
    {
     "data": {
      "text/plain": [
       "100.0"
      ]
     },
     "execution_count": 215,
     "metadata": {},
     "output_type": "execute_result"
    }
   ],
   "source": [
    "ab_ac1=ab_c1.diagonal().sum()/ab_c1.sum()*100\n",
    "ab_ac1"
   ]
  },
  {
   "cell_type": "code",
   "execution_count": 216,
   "id": "bf3333d7",
   "metadata": {},
   "outputs": [
    {
     "name": "stdout",
     "output_type": "stream",
     "text": [
      "              precision    recall  f1-score   support\n",
      "\n",
      "           0       1.00      1.00      1.00      8852\n",
      "           1       1.00      1.00      1.00      8838\n",
      "\n",
      "    accuracy                           1.00     17690\n",
      "   macro avg       1.00      1.00      1.00     17690\n",
      "weighted avg       1.00      1.00      1.00     17690\n",
      "\n"
     ]
    }
   ],
   "source": [
    "print(classification_report(ab_p1,u_y_test))"
   ]
  },
  {
   "cell_type": "code",
   "execution_count": 217,
   "id": "46877af3",
   "metadata": {},
   "outputs": [],
   "source": [
    "ab_f1=f1_score(u_y_test, ab_p1, average=\"macro\")\n",
    "ab_pr1=precision_score(u_y_test,ab_p1, average=\"macro\")\n",
    "ab_r1=recall_score(u_y_test,ab_p1, average=\"macro\")"
   ]
  },
  {
   "cell_type": "markdown",
   "id": "910429a6",
   "metadata": {},
   "source": [
    "# 4.2 XG Boost"
   ]
  },
  {
   "cell_type": "code",
   "execution_count": 218,
   "id": "8e531cd0",
   "metadata": {},
   "outputs": [
    {
     "data": {
      "text/plain": [
       "XGBClassifier(base_score=None, booster=None, callbacks=None,\n",
       "              colsample_bylevel=None, colsample_bynode=None,\n",
       "              colsample_bytree=None, early_stopping_rounds=None,\n",
       "              enable_categorical=False, eval_metric=None, feature_types=None,\n",
       "              gamma=None, gpu_id=None, grow_policy=None, importance_type=None,\n",
       "              interaction_constraints=None, learning_rate=None, max_bin=None,\n",
       "              max_cat_threshold=None, max_cat_to_onehot=None,\n",
       "              max_delta_step=None, max_depth=None, max_leaves=None,\n",
       "              min_child_weight=None, missing=nan, monotone_constraints=None,\n",
       "              n_estimators=100, n_jobs=None, num_parallel_tree=None,\n",
       "              predictor=None, random_state=None, ...)"
      ]
     },
     "execution_count": 218,
     "metadata": {},
     "output_type": "execute_result"
    }
   ],
   "source": [
    "xg.fit(u_x_train,u_y_train)"
   ]
  },
  {
   "cell_type": "code",
   "execution_count": 219,
   "id": "d5d6dbae",
   "metadata": {},
   "outputs": [
    {
     "data": {
      "text/plain": [
       "array([0, 1, 1, ..., 1, 1, 0])"
      ]
     },
     "execution_count": 219,
     "metadata": {},
     "output_type": "execute_result"
    }
   ],
   "source": [
    "xg_p1=xg.predict(u_x_test)\n",
    "xg_p1"
   ]
  },
  {
   "cell_type": "code",
   "execution_count": 220,
   "id": "d11d7bbf",
   "metadata": {},
   "outputs": [
    {
     "data": {
      "text/plain": [
       "array([[8852,    0],\n",
       "       [   0, 8838]], dtype=int64)"
      ]
     },
     "execution_count": 220,
     "metadata": {},
     "output_type": "execute_result"
    }
   ],
   "source": [
    "xg_c1=confusion_matrix(xg_p1,u_y_test)\n",
    "xg_c1"
   ]
  },
  {
   "cell_type": "code",
   "execution_count": 221,
   "id": "2fbf254e",
   "metadata": {},
   "outputs": [
    {
     "data": {
      "text/plain": [
       "100.0"
      ]
     },
     "execution_count": 221,
     "metadata": {},
     "output_type": "execute_result"
    }
   ],
   "source": [
    "xg_ac1=xg_c1.diagonal().sum()/xg_c1.sum()*100\n",
    "xg_ac1"
   ]
  },
  {
   "cell_type": "code",
   "execution_count": 222,
   "id": "60855701",
   "metadata": {},
   "outputs": [
    {
     "name": "stdout",
     "output_type": "stream",
     "text": [
      "              precision    recall  f1-score   support\n",
      "\n",
      "           0       1.00      1.00      1.00      8852\n",
      "           1       1.00      1.00      1.00      8838\n",
      "\n",
      "    accuracy                           1.00     17690\n",
      "   macro avg       1.00      1.00      1.00     17690\n",
      "weighted avg       1.00      1.00      1.00     17690\n",
      "\n"
     ]
    }
   ],
   "source": [
    "print(classification_report(xg_p1,u_y_test))"
   ]
  },
  {
   "cell_type": "code",
   "execution_count": 223,
   "id": "3e7b1ca0",
   "metadata": {},
   "outputs": [],
   "source": [
    "xg_f1=f1_score(u_y_test, xg_p1, average=\"macro\")\n",
    "xg_pr1=precision_score(u_y_test,xg_p1, average=\"macro\")\n",
    "xg_r1=recall_score(u_y_test,xg_p1, average=\"macro\")"
   ]
  },
  {
   "cell_type": "markdown",
   "id": "938da1bd",
   "metadata": {},
   "source": [
    "# 5. SVM"
   ]
  },
  {
   "cell_type": "code",
   "execution_count": 224,
   "id": "6efe1c80",
   "metadata": {},
   "outputs": [
    {
     "data": {
      "text/plain": [
       "SVC()"
      ]
     },
     "execution_count": 224,
     "metadata": {},
     "output_type": "execute_result"
    }
   ],
   "source": [
    "sv.fit(u_x_train,u_y_train)"
   ]
  },
  {
   "cell_type": "code",
   "execution_count": 225,
   "id": "7d2083ad",
   "metadata": {},
   "outputs": [
    {
     "data": {
      "text/plain": [
       "array([0, 1, 1, ..., 1, 1, 1], dtype=int64)"
      ]
     },
     "execution_count": 225,
     "metadata": {},
     "output_type": "execute_result"
    }
   ],
   "source": [
    "sv_p1=sv.predict(u_x_test)\n",
    "sv_p1"
   ]
  },
  {
   "cell_type": "code",
   "execution_count": 226,
   "id": "2d5037fb",
   "metadata": {},
   "outputs": [
    {
     "data": {
      "text/plain": [
       "array([[5737, 2752],\n",
       "       [3115, 6086]], dtype=int64)"
      ]
     },
     "execution_count": 226,
     "metadata": {},
     "output_type": "execute_result"
    }
   ],
   "source": [
    "sv_c1=confusion_matrix(sv_p1,u_y_test)\n",
    "sv_c1"
   ]
  },
  {
   "cell_type": "code",
   "execution_count": 227,
   "id": "176f3cb2",
   "metadata": {},
   "outputs": [
    {
     "data": {
      "text/plain": [
       "66.8343697003957"
      ]
     },
     "execution_count": 227,
     "metadata": {},
     "output_type": "execute_result"
    }
   ],
   "source": [
    "sv_ac1=sv_c1.diagonal().sum()/sv_c1.sum()*100\n",
    "sv_ac1"
   ]
  },
  {
   "cell_type": "code",
   "execution_count": 228,
   "id": "90ef2125",
   "metadata": {},
   "outputs": [
    {
     "name": "stdout",
     "output_type": "stream",
     "text": [
      "              precision    recall  f1-score   support\n",
      "\n",
      "           0       0.65      0.68      0.66      8489\n",
      "           1       0.69      0.66      0.67      9201\n",
      "\n",
      "    accuracy                           0.67     17690\n",
      "   macro avg       0.67      0.67      0.67     17690\n",
      "weighted avg       0.67      0.67      0.67     17690\n",
      "\n"
     ]
    }
   ],
   "source": [
    "print(classification_report(sv_p1,u_y_test))"
   ]
  },
  {
   "cell_type": "code",
   "execution_count": 229,
   "id": "7687f1e5",
   "metadata": {},
   "outputs": [],
   "source": [
    "sv_f1=f1_score(u_y_test, sv_p1, average=\"macro\")\n",
    "sv_pr1=precision_score(u_y_test,sv_p1, average=\"macro\")\n",
    "sv_r1=recall_score(u_y_test,sv_p1, average=\"macro\")"
   ]
  },
  {
   "cell_type": "markdown",
   "id": "3274ac25",
   "metadata": {},
   "source": [
    "# 6. KNN"
   ]
  },
  {
   "cell_type": "code",
   "execution_count": 230,
   "id": "f37ed697",
   "metadata": {},
   "outputs": [
    {
     "data": {
      "text/plain": [
       "KNeighborsClassifier(n_neighbors=24)"
      ]
     },
     "execution_count": 230,
     "metadata": {},
     "output_type": "execute_result"
    }
   ],
   "source": [
    "kn.fit(u_x_train,u_y_train)"
   ]
  },
  {
   "cell_type": "code",
   "execution_count": 231,
   "id": "f1422c85",
   "metadata": {},
   "outputs": [
    {
     "data": {
      "text/plain": [
       "array([0, 1, 1, ..., 1, 1, 0], dtype=int64)"
      ]
     },
     "execution_count": 231,
     "metadata": {},
     "output_type": "execute_result"
    }
   ],
   "source": [
    "kn_p1=kn.predict(u_x_test)\n",
    "kn_p1"
   ]
  },
  {
   "cell_type": "code",
   "execution_count": 232,
   "id": "7fd16334",
   "metadata": {},
   "outputs": [
    {
     "data": {
      "text/plain": [
       "array([[8356, 1880],\n",
       "       [ 496, 6958]], dtype=int64)"
      ]
     },
     "execution_count": 232,
     "metadata": {},
     "output_type": "execute_result"
    }
   ],
   "source": [
    "kn_c1=confusion_matrix(kn_p1,u_y_test)\n",
    "kn_c1"
   ]
  },
  {
   "cell_type": "code",
   "execution_count": 233,
   "id": "4f75bbfb",
   "metadata": {},
   "outputs": [
    {
     "data": {
      "text/plain": [
       "86.56868287167892"
      ]
     },
     "execution_count": 233,
     "metadata": {},
     "output_type": "execute_result"
    }
   ],
   "source": [
    "kn_ac1=kn_c1.diagonal().sum()/kn_c1.sum()*100\n",
    "kn_ac1"
   ]
  },
  {
   "cell_type": "code",
   "execution_count": 234,
   "id": "85bb28b9",
   "metadata": {},
   "outputs": [
    {
     "name": "stdout",
     "output_type": "stream",
     "text": [
      "              precision    recall  f1-score   support\n",
      "\n",
      "           0       0.94      0.82      0.88     10236\n",
      "           1       0.79      0.93      0.85      7454\n",
      "\n",
      "    accuracy                           0.87     17690\n",
      "   macro avg       0.87      0.87      0.86     17690\n",
      "weighted avg       0.88      0.87      0.87     17690\n",
      "\n"
     ]
    }
   ],
   "source": [
    "print(classification_report(kn_p1,u_y_test))"
   ]
  },
  {
   "cell_type": "code",
   "execution_count": 235,
   "id": "1663bd74",
   "metadata": {},
   "outputs": [],
   "source": [
    "kn_f1=f1_score(u_y_test, kn_p1, average=\"macro\")\n",
    "kn_pr1=precision_score(u_y_test,kn_p1, average=\"macro\")\n",
    "kn_r1=recall_score(u_y_test,kn_p1, average=\"macro\")"
   ]
  },
  {
   "cell_type": "markdown",
   "id": "314acd82",
   "metadata": {},
   "source": [
    "# 7. Naive Bayes"
   ]
  },
  {
   "cell_type": "code",
   "execution_count": 236,
   "id": "e7c3858c",
   "metadata": {},
   "outputs": [],
   "source": [
    "#as some columns in data contain negetive values and minmaxscaler takes positive value so we have used this syntax\n",
    "from sklearn.preprocessing import MinMaxScaler #fixed import\n",
    "scaler = MinMaxScaler()\n",
    "u_x_train = scaler.fit_transform(u_x_train)  \n",
    "u_x_test = scaler.transform(u_x_test) "
   ]
  },
  {
   "cell_type": "code",
   "execution_count": 237,
   "id": "3f75a3bd",
   "metadata": {},
   "outputs": [
    {
     "data": {
      "text/plain": [
       "MultinomialNB()"
      ]
     },
     "execution_count": 237,
     "metadata": {},
     "output_type": "execute_result"
    }
   ],
   "source": [
    "nb.fit(u_x_train,u_y_train) "
   ]
  },
  {
   "cell_type": "code",
   "execution_count": 238,
   "id": "d7efb1a3",
   "metadata": {},
   "outputs": [
    {
     "data": {
      "text/plain": [
       "array([0, 1, 1, ..., 1, 1, 0], dtype=int64)"
      ]
     },
     "execution_count": 238,
     "metadata": {},
     "output_type": "execute_result"
    }
   ],
   "source": [
    "nb_p1=nb.predict(u_x_test)\n",
    "nb_p1 "
   ]
  },
  {
   "cell_type": "code",
   "execution_count": 239,
   "id": "ac1f3d92",
   "metadata": {},
   "outputs": [
    {
     "data": {
      "text/plain": [
       "array([[8819, 1097],\n",
       "       [  33, 7741]], dtype=int64)"
      ]
     },
     "execution_count": 239,
     "metadata": {},
     "output_type": "execute_result"
    }
   ],
   "source": [
    "nb_c1=confusion_matrix(nb_p1,u_y_test)\n",
    "nb_c1 "
   ]
  },
  {
   "cell_type": "code",
   "execution_count": 240,
   "id": "a28eb433",
   "metadata": {},
   "outputs": [
    {
     "data": {
      "text/plain": [
       "93.61221028829847"
      ]
     },
     "execution_count": 240,
     "metadata": {},
     "output_type": "execute_result"
    }
   ],
   "source": [
    "nb_ac1=nb_c1.diagonal().sum()/nb_c1.sum()*100\n",
    "nb_ac1 "
   ]
  },
  {
   "cell_type": "code",
   "execution_count": 241,
   "id": "504d09b1",
   "metadata": {},
   "outputs": [
    {
     "name": "stdout",
     "output_type": "stream",
     "text": [
      "              precision    recall  f1-score   support\n",
      "\n",
      "           0       1.00      0.89      0.94      9916\n",
      "           1       0.88      1.00      0.93      7774\n",
      "\n",
      "    accuracy                           0.94     17690\n",
      "   macro avg       0.94      0.94      0.94     17690\n",
      "weighted avg       0.94      0.94      0.94     17690\n",
      "\n"
     ]
    }
   ],
   "source": [
    "print(classification_report(nb_p1,u_y_test)) "
   ]
  },
  {
   "cell_type": "code",
   "execution_count": 242,
   "id": "4a9e4807",
   "metadata": {},
   "outputs": [
    {
     "data": {
      "text/plain": [
       "0.9425628975184708"
      ]
     },
     "execution_count": 242,
     "metadata": {},
     "output_type": "execute_result"
    }
   ],
   "source": [
    "roc_n=roc_auc_score(nb_p1,u_y_test)\n",
    "roc_n"
   ]
  },
  {
   "cell_type": "code",
   "execution_count": 243,
   "id": "f441f199",
   "metadata": {},
   "outputs": [],
   "source": [
    "nb1_prob=nb.predict_proba(u_x_test)"
   ]
  },
  {
   "cell_type": "code",
   "execution_count": 244,
   "id": "9e49cbb3",
   "metadata": {},
   "outputs": [
    {
     "data": {
      "text/html": [
       "<div>\n",
       "<style scoped>\n",
       "    .dataframe tbody tr th:only-of-type {\n",
       "        vertical-align: middle;\n",
       "    }\n",
       "\n",
       "    .dataframe tbody tr th {\n",
       "        vertical-align: top;\n",
       "    }\n",
       "\n",
       "    .dataframe thead th {\n",
       "        text-align: right;\n",
       "    }\n",
       "</style>\n",
       "<table border=\"1\" class=\"dataframe\">\n",
       "  <thead>\n",
       "    <tr style=\"text-align: right;\">\n",
       "      <th></th>\n",
       "      <th>0</th>\n",
       "      <th>1</th>\n",
       "    </tr>\n",
       "  </thead>\n",
       "  <tbody>\n",
       "    <tr>\n",
       "      <th>0</th>\n",
       "      <td>0.827811</td>\n",
       "      <td>0.172189</td>\n",
       "    </tr>\n",
       "    <tr>\n",
       "      <th>1</th>\n",
       "      <td>0.061187</td>\n",
       "      <td>0.938813</td>\n",
       "    </tr>\n",
       "    <tr>\n",
       "      <th>2</th>\n",
       "      <td>0.041479</td>\n",
       "      <td>0.958521</td>\n",
       "    </tr>\n",
       "    <tr>\n",
       "      <th>3</th>\n",
       "      <td>0.045293</td>\n",
       "      <td>0.954707</td>\n",
       "    </tr>\n",
       "    <tr>\n",
       "      <th>4</th>\n",
       "      <td>0.762989</td>\n",
       "      <td>0.237011</td>\n",
       "    </tr>\n",
       "    <tr>\n",
       "      <th>...</th>\n",
       "      <td>...</td>\n",
       "      <td>...</td>\n",
       "    </tr>\n",
       "    <tr>\n",
       "      <th>17685</th>\n",
       "      <td>0.397961</td>\n",
       "      <td>0.602039</td>\n",
       "    </tr>\n",
       "    <tr>\n",
       "      <th>17686</th>\n",
       "      <td>0.041479</td>\n",
       "      <td>0.958521</td>\n",
       "    </tr>\n",
       "    <tr>\n",
       "      <th>17687</th>\n",
       "      <td>0.041935</td>\n",
       "      <td>0.958065</td>\n",
       "    </tr>\n",
       "    <tr>\n",
       "      <th>17688</th>\n",
       "      <td>0.043363</td>\n",
       "      <td>0.956637</td>\n",
       "    </tr>\n",
       "    <tr>\n",
       "      <th>17689</th>\n",
       "      <td>0.838456</td>\n",
       "      <td>0.161544</td>\n",
       "    </tr>\n",
       "  </tbody>\n",
       "</table>\n",
       "<p>17690 rows × 2 columns</p>\n",
       "</div>"
      ],
      "text/plain": [
       "              0         1\n",
       "0      0.827811  0.172189\n",
       "1      0.061187  0.938813\n",
       "2      0.041479  0.958521\n",
       "3      0.045293  0.954707\n",
       "4      0.762989  0.237011\n",
       "...         ...       ...\n",
       "17685  0.397961  0.602039\n",
       "17686  0.041479  0.958521\n",
       "17687  0.041935  0.958065\n",
       "17688  0.043363  0.956637\n",
       "17689  0.838456  0.161544\n",
       "\n",
       "[17690 rows x 2 columns]"
      ]
     },
     "execution_count": 244,
     "metadata": {},
     "output_type": "execute_result"
    }
   ],
   "source": [
    "df_n=pd.DataFrame(nb1_prob)\n",
    "df_n"
   ]
  },
  {
   "cell_type": "code",
   "execution_count": 245,
   "id": "5e8dc3fd",
   "metadata": {},
   "outputs": [],
   "source": [
    "fpr,tpr,threshold=roc_curve(u_y_test,df_n.iloc[:,1])"
   ]
  },
  {
   "cell_type": "code",
   "execution_count": 246,
   "id": "ea56153c",
   "metadata": {},
   "outputs": [
    {
     "data": {
      "text/plain": [
       "Text(0.5, 1.0, 'AUC-ROC Curve')"
      ]
     },
     "execution_count": 246,
     "metadata": {},
     "output_type": "execute_result"
    },
    {
     "data": {
      "image/png": "[encoded data removed]",
      "text/plain": [
       "<Figure size 576x576 with 1 Axes>"
      ]
     },
     "metadata": {
      "needs_background": "light"
     },
     "output_type": "display_data"
    }
   ],
   "source": [
    "plt.plot(fpr,tpr)\n",
    "plt.plot(fpr,tpr,marker=\".\")\n",
    "plt.xlabel(\"False Positive Rate\")\n",
    "plt.ylabel(\"True positive Rate\")\n",
    "plt.title(\"AUC-ROC Curve\")"
   ]
  },
  {
   "cell_type": "code",
   "execution_count": 247,
   "id": "6b4e8d0b",
   "metadata": {},
   "outputs": [],
   "source": [
    "nb_f1=f1_score(u_y_test, nb_p1, average=\"macro\")\n",
    "nb_pr1=precision_score(u_y_test,nb_p1, average=\"macro\")\n",
    "nb_r1=recall_score(u_y_test,nb_p1, average=\"macro\")"
   ]
  },
  {
   "cell_type": "markdown",
   "id": "eb95bf21",
   "metadata": {},
   "source": [
    "# Conclusion"
   ]
  },
  {
   "cell_type": "code",
   "execution_count": 248,
   "id": "7e695de7",
   "metadata": {},
   "outputs": [],
   "source": [
    "list1=[\"Logistic Regression\",\"Decision Tree\",\"Random Forest\",\"Ada Boost\",\"XG Boost\",\"SVM\",\"KNN\",\"Naive Bayes\"] \n",
    "list2=[lg_ac1,dt_ac1,rf_ac1,ab_ac1,xg_ac1,sv_ac1,kn_ac1,nb_ac1] \n",
    "list3=[lg_pr1,dt_pr1,rf_pr1,ab_pr1,xg_pr1,sv_pr1,kn_pr1,nb_pr1]\n",
    "list4=[lg_r1,dt_r1,rf_r1,ab_r1,xg_r1,sv_r1,kn_r1,nb_r1]\n",
    "list5=[lg_f1,dt_f1,rf_f1,ab_f1,xg_f1,sv_f1,kn_f1,nb_f1]"
   ]
  },
  {
   "cell_type": "code",
   "execution_count": 249,
   "id": "0a1f884f",
   "metadata": {},
   "outputs": [
    {
     "data": {
      "text/html": [
       "<div>\n",
       "<style scoped>\n",
       "    .dataframe tbody tr th:only-of-type {\n",
       "        vertical-align: middle;\n",
       "    }\n",
       "\n",
       "    .dataframe tbody tr th {\n",
       "        vertical-align: top;\n",
       "    }\n",
       "\n",
       "    .dataframe thead th {\n",
       "        text-align: right;\n",
       "    }\n",
       "</style>\n",
       "<table border=\"1\" class=\"dataframe\">\n",
       "  <thead>\n",
       "    <tr style=\"text-align: right;\">\n",
       "      <th></th>\n",
       "      <th>Model Name</th>\n",
       "      <th>Accuracy</th>\n",
       "      <th>Precision</th>\n",
       "      <th>Recall</th>\n",
       "      <th>F1-Score</th>\n",
       "    </tr>\n",
       "  </thead>\n",
       "  <tbody>\n",
       "    <tr>\n",
       "      <th>0</th>\n",
       "      <td>Logistic Regression</td>\n",
       "      <td>78.716789</td>\n",
       "      <td>0.787168</td>\n",
       "      <td>0.787168</td>\n",
       "      <td>0.787168</td>\n",
       "    </tr>\n",
       "    <tr>\n",
       "      <th>1</th>\n",
       "      <td>Decision Tree</td>\n",
       "      <td>100.000000</td>\n",
       "      <td>1.000000</td>\n",
       "      <td>1.000000</td>\n",
       "      <td>1.000000</td>\n",
       "    </tr>\n",
       "    <tr>\n",
       "      <th>2</th>\n",
       "      <td>Random Forest</td>\n",
       "      <td>99.994347</td>\n",
       "      <td>0.999944</td>\n",
       "      <td>0.999943</td>\n",
       "      <td>0.999943</td>\n",
       "    </tr>\n",
       "    <tr>\n",
       "      <th>3</th>\n",
       "      <td>Ada Boost</td>\n",
       "      <td>100.000000</td>\n",
       "      <td>1.000000</td>\n",
       "      <td>1.000000</td>\n",
       "      <td>1.000000</td>\n",
       "    </tr>\n",
       "    <tr>\n",
       "      <th>4</th>\n",
       "      <td>XG Boost</td>\n",
       "      <td>100.000000</td>\n",
       "      <td>1.000000</td>\n",
       "      <td>1.000000</td>\n",
       "      <td>1.000000</td>\n",
       "    </tr>\n",
       "    <tr>\n",
       "      <th>5</th>\n",
       "      <td>SVM</td>\n",
       "      <td>66.834370</td>\n",
       "      <td>0.668633</td>\n",
       "      <td>0.668360</td>\n",
       "      <td>0.668215</td>\n",
       "    </tr>\n",
       "    <tr>\n",
       "      <th>6</th>\n",
       "      <td>KNN</td>\n",
       "      <td>86.568683</td>\n",
       "      <td>0.874897</td>\n",
       "      <td>0.865625</td>\n",
       "      <td>0.864843</td>\n",
       "    </tr>\n",
       "    <tr>\n",
       "      <th>7</th>\n",
       "      <td>Naive Bayes</td>\n",
       "      <td>93.612210</td>\n",
       "      <td>0.942563</td>\n",
       "      <td>0.936074</td>\n",
       "      <td>0.935884</td>\n",
       "    </tr>\n",
       "  </tbody>\n",
       "</table>\n",
       "</div>"
      ],
      "text/plain": [
       "            Model Name    Accuracy  Precision    Recall  F1-Score\n",
       "0  Logistic Regression   78.716789   0.787168  0.787168  0.787168\n",
       "1        Decision Tree  100.000000   1.000000  1.000000  1.000000\n",
       "2        Random Forest   99.994347   0.999944  0.999943  0.999943\n",
       "3            Ada Boost  100.000000   1.000000  1.000000  1.000000\n",
       "4             XG Boost  100.000000   1.000000  1.000000  1.000000\n",
       "5                  SVM   66.834370   0.668633  0.668360  0.668215\n",
       "6                  KNN   86.568683   0.874897  0.865625  0.864843\n",
       "7          Naive Bayes   93.612210   0.942563  0.936074  0.935884"
      ]
     },
     "execution_count": 249,
     "metadata": {},
     "output_type": "execute_result"
    }
   ],
   "source": [
    "df1=pd.DataFrame({\"Model Name\":list1, \"Accuracy\":list2, \"Precision\":list3, \"Recall\":list4, \"F1-Score\":list5})\n",
    "df1 "
   ]
  },
  {
   "cell_type": "code",
   "execution_count": 250,
   "id": "e90cc9eb",
   "metadata": {},
   "outputs": [
    {
     "data": {
      "text/html": [
       "<div>\n",
       "<style scoped>\n",
       "    .dataframe tbody tr th:only-of-type {\n",
       "        vertical-align: middle;\n",
       "    }\n",
       "\n",
       "    .dataframe tbody tr th {\n",
       "        vertical-align: top;\n",
       "    }\n",
       "\n",
       "    .dataframe thead th {\n",
       "        text-align: right;\n",
       "    }\n",
       "</style>\n",
       "<table border=\"1\" class=\"dataframe\">\n",
       "  <thead>\n",
       "    <tr style=\"text-align: right;\">\n",
       "      <th></th>\n",
       "      <th>Model Name</th>\n",
       "      <th>Accuracy</th>\n",
       "      <th>Precision</th>\n",
       "      <th>Recall</th>\n",
       "      <th>F1-Score</th>\n",
       "    </tr>\n",
       "  </thead>\n",
       "  <tbody>\n",
       "    <tr>\n",
       "      <th>0</th>\n",
       "      <td>Logistic Regression</td>\n",
       "      <td>80.672586</td>\n",
       "      <td>0.797887</td>\n",
       "      <td>0.780268</td>\n",
       "      <td>0.787021</td>\n",
       "    </tr>\n",
       "    <tr>\n",
       "      <th>1</th>\n",
       "      <td>Decision Tree</td>\n",
       "      <td>100.000000</td>\n",
       "      <td>1.000000</td>\n",
       "      <td>1.000000</td>\n",
       "      <td>1.000000</td>\n",
       "    </tr>\n",
       "    <tr>\n",
       "      <th>2</th>\n",
       "      <td>Random Forest</td>\n",
       "      <td>99.991624</td>\n",
       "      <td>0.999933</td>\n",
       "      <td>0.999887</td>\n",
       "      <td>0.999910</td>\n",
       "    </tr>\n",
       "    <tr>\n",
       "      <th>3</th>\n",
       "      <td>Ada Boost</td>\n",
       "      <td>100.000000</td>\n",
       "      <td>1.000000</td>\n",
       "      <td>1.000000</td>\n",
       "      <td>1.000000</td>\n",
       "    </tr>\n",
       "    <tr>\n",
       "      <th>4</th>\n",
       "      <td>XG Boost</td>\n",
       "      <td>100.000000</td>\n",
       "      <td>1.000000</td>\n",
       "      <td>1.000000</td>\n",
       "      <td>1.000000</td>\n",
       "    </tr>\n",
       "    <tr>\n",
       "      <th>5</th>\n",
       "      <td>SVM</td>\n",
       "      <td>71.764804</td>\n",
       "      <td>0.742276</td>\n",
       "      <td>0.638547</td>\n",
       "      <td>0.637201</td>\n",
       "    </tr>\n",
       "    <tr>\n",
       "      <th>6</th>\n",
       "      <td>KNN</td>\n",
       "      <td>86.112740</td>\n",
       "      <td>0.871700</td>\n",
       "      <td>0.829293</td>\n",
       "      <td>0.843260</td>\n",
       "    </tr>\n",
       "    <tr>\n",
       "      <th>7</th>\n",
       "      <td>Naive Bayes</td>\n",
       "      <td>81.698635</td>\n",
       "      <td>0.883547</td>\n",
       "      <td>0.754009</td>\n",
       "      <td>0.773424</td>\n",
       "    </tr>\n",
       "  </tbody>\n",
       "</table>\n",
       "</div>"
      ],
      "text/plain": [
       "            Model Name    Accuracy  Precision    Recall  F1-Score\n",
       "0  Logistic Regression   80.672586   0.797887  0.780268  0.787021\n",
       "1        Decision Tree  100.000000   1.000000  1.000000  1.000000\n",
       "2        Random Forest   99.991624   0.999933  0.999887  0.999910\n",
       "3            Ada Boost  100.000000   1.000000  1.000000  1.000000\n",
       "4             XG Boost  100.000000   1.000000  1.000000  1.000000\n",
       "5                  SVM   71.764804   0.742276  0.638547  0.637201\n",
       "6                  KNN   86.112740   0.871700  0.829293  0.843260\n",
       "7          Naive Bayes   81.698635   0.883547  0.754009  0.773424"
      ]
     },
     "execution_count": 250,
     "metadata": {},
     "output_type": "execute_result"
    }
   ],
   "source": [
    "df"
   ]
  },
  {
   "cell_type": "raw",
   "id": "0df64348",
   "metadata": {},
   "source": [
    "By comparing df and df1 then \"Decision Tree\", \"Random Forest\", \"Ada Boost\", \"XG Boost\" these models are over fitted in both the conditions(before and after treating outliers).So here, Naive Bayes is best fitted model."
   ]
  },
  {
   "cell_type": "code",
   "execution_count": null,
   "id": "e84bcbec",
   "metadata": {},
   "outputs": [],
   "source": []
  }
 ],
 "metadata": {
  "kernelspec": {
   "display_name": "Python 3 (ipykernel)",
   "language": "python",
   "name": "python3"
  },
  "language_info": {
   "codemirror_mode": {
    "name": "ipython",
    "version": 3
   },
   "file_extension": ".py",
   "mimetype": "text/x-python",
   "name": "python",
   "nbconvert_exporter": "python",
   "pygments_lexer": "ipython3",
   "version": "3.9.12"
  }
 },
 "nbformat": 4,
 "nbformat_minor": 5
}
